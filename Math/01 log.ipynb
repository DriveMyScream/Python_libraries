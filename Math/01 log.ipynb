{
 "cells": [
  {
   "cell_type": "code",
   "execution_count": 1,
   "id": "0bb25467",
   "metadata": {},
   "outputs": [],
   "source": [
    "import numpy as np\n",
    "import pandas as pd"
   ]
  },
  {
   "cell_type": "code",
   "execution_count": 2,
   "id": "480bcfb1",
   "metadata": {},
   "outputs": [
    {
     "data": {
      "text/html": [
       "<div>\n",
       "<style scoped>\n",
       "    .dataframe tbody tr th:only-of-type {\n",
       "        vertical-align: middle;\n",
       "    }\n",
       "\n",
       "    .dataframe tbody tr th {\n",
       "        vertical-align: top;\n",
       "    }\n",
       "\n",
       "    .dataframe thead th {\n",
       "        text-align: right;\n",
       "    }\n",
       "</style>\n",
       "<table border=\"1\" class=\"dataframe\">\n",
       "  <thead>\n",
       "    <tr style=\"text-align: right;\">\n",
       "      <th></th>\n",
       "      <th>Company</th>\n",
       "      <th>Revenue</th>\n",
       "    </tr>\n",
       "  </thead>\n",
       "  <tbody>\n",
       "    <tr>\n",
       "      <th>0</th>\n",
       "      <td>Tesla</td>\n",
       "      <td>31.0</td>\n",
       "    </tr>\n",
       "    <tr>\n",
       "      <th>1</th>\n",
       "      <td>UBER</td>\n",
       "      <td>11.0</td>\n",
       "    </tr>\n",
       "    <tr>\n",
       "      <th>2</th>\n",
       "      <td>Amazon</td>\n",
       "      <td>386.0</td>\n",
       "    </tr>\n",
       "    <tr>\n",
       "      <th>3</th>\n",
       "      <td>Jindal Steel</td>\n",
       "      <td>4.7</td>\n",
       "    </tr>\n",
       "    <tr>\n",
       "      <th>4</th>\n",
       "      <td>Axis Bank</td>\n",
       "      <td>5.6</td>\n",
       "    </tr>\n",
       "    <tr>\n",
       "      <th>5</th>\n",
       "      <td>Vedanta</td>\n",
       "      <td>11.3</td>\n",
       "    </tr>\n",
       "  </tbody>\n",
       "</table>\n",
       "</div>"
      ],
      "text/plain": [
       "        Company  Revenue\n",
       "0         Tesla     31.0\n",
       "1          UBER     11.0\n",
       "2        Amazon    386.0\n",
       "3  Jindal Steel      4.7\n",
       "4     Axis Bank      5.6\n",
       "5       Vedanta     11.3"
      ]
     },
     "execution_count": 2,
     "metadata": {},
     "output_type": "execute_result"
    }
   ],
   "source": [
    "df = pd.DataFrame({\"Company\":[\"Tesla\", \"UBER\", \"Amazon\", \"Jindal Steel\", \"Axis Bank\", \"Vedanta\"],\n",
    "                   \"Revenue\":[31.0, 11.0, 386.0, 4.7, 5.6, 11.3]})\n",
    "df"
   ]
  },
  {
   "cell_type": "code",
   "execution_count": 3,
   "id": "1add4b63",
   "metadata": {},
   "outputs": [
    {
     "data": {
      "image/png": "[encoded data removed]",
      "text/plain": [
       "<Figure size 432x288 with 1 Axes>"
      ]
     },
     "metadata": {
      "needs_background": "light"
     },
     "output_type": "display_data"
    }
   ],
   "source": [
    "df.plot(x='Company', y='Revenue', kind='bar');"
   ]
  },
  {
   "cell_type": "code",
   "execution_count": 4,
   "id": "cde945cf",
   "metadata": {},
   "outputs": [
    {
     "data": {
      "text/html": [
       "<div>\n",
       "<style scoped>\n",
       "    .dataframe tbody tr th:only-of-type {\n",
       "        vertical-align: middle;\n",
       "    }\n",
       "\n",
       "    .dataframe tbody tr th {\n",
       "        vertical-align: top;\n",
       "    }\n",
       "\n",
       "    .dataframe thead th {\n",
       "        text-align: right;\n",
       "    }\n",
       "</style>\n",
       "<table border=\"1\" class=\"dataframe\">\n",
       "  <thead>\n",
       "    <tr style=\"text-align: right;\">\n",
       "      <th></th>\n",
       "      <th>Company</th>\n",
       "      <th>Revenue</th>\n",
       "      <th>New Revenue</th>\n",
       "    </tr>\n",
       "  </thead>\n",
       "  <tbody>\n",
       "    <tr>\n",
       "      <th>0</th>\n",
       "      <td>Tesla</td>\n",
       "      <td>31.0</td>\n",
       "      <td>3.433987</td>\n",
       "    </tr>\n",
       "    <tr>\n",
       "      <th>1</th>\n",
       "      <td>UBER</td>\n",
       "      <td>11.0</td>\n",
       "      <td>2.397895</td>\n",
       "    </tr>\n",
       "    <tr>\n",
       "      <th>2</th>\n",
       "      <td>Amazon</td>\n",
       "      <td>386.0</td>\n",
       "      <td>5.955837</td>\n",
       "    </tr>\n",
       "    <tr>\n",
       "      <th>3</th>\n",
       "      <td>Jindal Steel</td>\n",
       "      <td>4.7</td>\n",
       "      <td>1.547563</td>\n",
       "    </tr>\n",
       "    <tr>\n",
       "      <th>4</th>\n",
       "      <td>Axis Bank</td>\n",
       "      <td>5.6</td>\n",
       "      <td>1.722767</td>\n",
       "    </tr>\n",
       "    <tr>\n",
       "      <th>5</th>\n",
       "      <td>Vedanta</td>\n",
       "      <td>11.3</td>\n",
       "      <td>2.424803</td>\n",
       "    </tr>\n",
       "  </tbody>\n",
       "</table>\n",
       "</div>"
      ],
      "text/plain": [
       "        Company  Revenue  New Revenue\n",
       "0         Tesla     31.0     3.433987\n",
       "1          UBER     11.0     2.397895\n",
       "2        Amazon    386.0     5.955837\n",
       "3  Jindal Steel      4.7     1.547563\n",
       "4     Axis Bank      5.6     1.722767\n",
       "5       Vedanta     11.3     2.424803"
      ]
     },
     "execution_count": 4,
     "metadata": {},
     "output_type": "execute_result"
    }
   ],
   "source": [
    "df['New Revenue'] = np.log(df[[\"Revenue\"]])\n",
    "df"
   ]
  },
  {
   "cell_type": "code",
   "execution_count": 5,
   "id": "61d9d8c0",
   "metadata": {},
   "outputs": [
    {
     "data": {
      "image/png": "[encoded data removed]",
      "text/plain": [
       "<Figure size 432x288 with 1 Axes>"
      ]
     },
     "metadata": {
      "needs_background": "light"
     },
     "output_type": "display_data"
    }
   ],
   "source": [
    "df.plot(x=\"Company\", y=\"New Revenue\", kind='bar');"
   ]
  },
  {
   "cell_type": "code",
   "execution_count": 6,
   "id": "85a64d18",
   "metadata": {},
   "outputs": [
    {
     "data": {
      "image/png": "[encoded data removed]",
      "text/plain": [
       "<Figure size 432x288 with 1 Axes>"
      ]
     },
     "metadata": {
      "needs_background": "light"
     },
     "output_type": "display_data"
    }
   ],
   "source": [
    "df.plot(x=\"Company\", y=\"Revenue\", kind=\"bar\", logy=True);"
   ]
  },
  {
   "cell_type": "code",
   "execution_count": 7,
   "id": "1a2b2ace",
   "metadata": {},
   "outputs": [
    {
     "data": {
      "text/html": [
       "<div>\n",
       "<style scoped>\n",
       "    .dataframe tbody tr th:only-of-type {\n",
       "        vertical-align: middle;\n",
       "    }\n",
       "\n",
       "    .dataframe tbody tr th {\n",
       "        vertical-align: top;\n",
       "    }\n",
       "\n",
       "    .dataframe thead th {\n",
       "        text-align: right;\n",
       "    }\n",
       "</style>\n",
       "<table border=\"1\" class=\"dataframe\">\n",
       "  <thead>\n",
       "    <tr style=\"text-align: right;\">\n",
       "      <th></th>\n",
       "      <th>person</th>\n",
       "      <th>credit score</th>\n",
       "      <th>income</th>\n",
       "      <th>age</th>\n",
       "      <th>loan approved</th>\n",
       "    </tr>\n",
       "  </thead>\n",
       "  <tbody>\n",
       "    <tr>\n",
       "      <th>0</th>\n",
       "      <td>Rob</td>\n",
       "      <td>750</td>\n",
       "      <td>80000</td>\n",
       "      <td>32</td>\n",
       "      <td>Y</td>\n",
       "    </tr>\n",
       "    <tr>\n",
       "      <th>1</th>\n",
       "      <td>Tom</td>\n",
       "      <td>310</td>\n",
       "      <td>32000</td>\n",
       "      <td>45</td>\n",
       "      <td>N</td>\n",
       "    </tr>\n",
       "    <tr>\n",
       "      <th>2</th>\n",
       "      <td>XI</td>\n",
       "      <td>475</td>\n",
       "      <td>77000</td>\n",
       "      <td>33</td>\n",
       "      <td>Y</td>\n",
       "    </tr>\n",
       "    <tr>\n",
       "      <th>3</th>\n",
       "      <td>Mohan</td>\n",
       "      <td>600</td>\n",
       "      <td>65000</td>\n",
       "      <td>51</td>\n",
       "      <td>N</td>\n",
       "    </tr>\n",
       "    <tr>\n",
       "      <th>4</th>\n",
       "      <td>Pooja</td>\n",
       "      <td>820</td>\n",
       "      <td>550000</td>\n",
       "      <td>35</td>\n",
       "      <td>Y</td>\n",
       "    </tr>\n",
       "    <tr>\n",
       "      <th>5</th>\n",
       "      <td>Sofiya</td>\n",
       "      <td>780</td>\n",
       "      <td>75000</td>\n",
       "      <td>31</td>\n",
       "      <td>Y</td>\n",
       "    </tr>\n",
       "  </tbody>\n",
       "</table>\n",
       "</div>"
      ],
      "text/plain": [
       "   person  credit score  income  age loan approved\n",
       "0     Rob           750   80000   32             Y\n",
       "1     Tom           310   32000   45             N\n",
       "2      XI           475   77000   33             Y\n",
       "3   Mohan           600   65000   51             N\n",
       "4   Pooja           820  550000   35             Y\n",
       "5  Sofiya           780   75000   31             Y"
      ]
     },
     "execution_count": 7,
     "metadata": {},
     "output_type": "execute_result"
    }
   ],
   "source": [
    "df = pd.DataFrame({\"person\":[\"Rob\", \"Tom\", \"XI\", \"Mohan\", \"Pooja\", \"Sofiya\"],\n",
    "                   \"credit score\":[750, 310, 475, 600, 820, 780],\n",
    "                   \"income\":[80000, 32000, 77000, 65000, 550000, 75000],\n",
    "                   \"age\":[32, 45, 33, 51, 35, 31],\n",
    "                   \"loan approved\":['Y', 'N', 'Y', 'N', 'Y', 'Y']})\n",
    "\n",
    "df"
   ]
  },
  {
   "cell_type": "code",
   "execution_count": 8,
   "id": "e71ab601",
   "metadata": {},
   "outputs": [],
   "source": [
    "df['new credit score'] = np.log(df['credit score'])\n",
    "df['new income'] = np.log(df['income'])"
   ]
  },
  {
   "cell_type": "code",
   "execution_count": 9,
   "id": "30b4013e",
   "metadata": {},
   "outputs": [
    {
     "data": {
      "text/html": [
       "<div>\n",
       "<style scoped>\n",
       "    .dataframe tbody tr th:only-of-type {\n",
       "        vertical-align: middle;\n",
       "    }\n",
       "\n",
       "    .dataframe tbody tr th {\n",
       "        vertical-align: top;\n",
       "    }\n",
       "\n",
       "    .dataframe thead th {\n",
       "        text-align: right;\n",
       "    }\n",
       "</style>\n",
       "<table border=\"1\" class=\"dataframe\">\n",
       "  <thead>\n",
       "    <tr style=\"text-align: right;\">\n",
       "      <th></th>\n",
       "      <th>person</th>\n",
       "      <th>credit score</th>\n",
       "      <th>income</th>\n",
       "      <th>age</th>\n",
       "      <th>loan approved</th>\n",
       "      <th>new credit score</th>\n",
       "      <th>new income</th>\n",
       "    </tr>\n",
       "  </thead>\n",
       "  <tbody>\n",
       "    <tr>\n",
       "      <th>0</th>\n",
       "      <td>Rob</td>\n",
       "      <td>750</td>\n",
       "      <td>80000</td>\n",
       "      <td>32</td>\n",
       "      <td>Y</td>\n",
       "      <td>6.620073</td>\n",
       "      <td>11.289782</td>\n",
       "    </tr>\n",
       "    <tr>\n",
       "      <th>1</th>\n",
       "      <td>Tom</td>\n",
       "      <td>310</td>\n",
       "      <td>32000</td>\n",
       "      <td>45</td>\n",
       "      <td>N</td>\n",
       "      <td>5.736572</td>\n",
       "      <td>10.373491</td>\n",
       "    </tr>\n",
       "    <tr>\n",
       "      <th>2</th>\n",
       "      <td>XI</td>\n",
       "      <td>475</td>\n",
       "      <td>77000</td>\n",
       "      <td>33</td>\n",
       "      <td>Y</td>\n",
       "      <td>6.163315</td>\n",
       "      <td>11.251561</td>\n",
       "    </tr>\n",
       "    <tr>\n",
       "      <th>3</th>\n",
       "      <td>Mohan</td>\n",
       "      <td>600</td>\n",
       "      <td>65000</td>\n",
       "      <td>51</td>\n",
       "      <td>N</td>\n",
       "      <td>6.396930</td>\n",
       "      <td>11.082143</td>\n",
       "    </tr>\n",
       "    <tr>\n",
       "      <th>4</th>\n",
       "      <td>Pooja</td>\n",
       "      <td>820</td>\n",
       "      <td>550000</td>\n",
       "      <td>35</td>\n",
       "      <td>Y</td>\n",
       "      <td>6.709304</td>\n",
       "      <td>13.217674</td>\n",
       "    </tr>\n",
       "    <tr>\n",
       "      <th>5</th>\n",
       "      <td>Sofiya</td>\n",
       "      <td>780</td>\n",
       "      <td>75000</td>\n",
       "      <td>31</td>\n",
       "      <td>Y</td>\n",
       "      <td>6.659294</td>\n",
       "      <td>11.225243</td>\n",
       "    </tr>\n",
       "  </tbody>\n",
       "</table>\n",
       "</div>"
      ],
      "text/plain": [
       "   person  credit score  income  age loan approved  new credit score  \\\n",
       "0     Rob           750   80000   32             Y          6.620073   \n",
       "1     Tom           310   32000   45             N          5.736572   \n",
       "2      XI           475   77000   33             Y          6.163315   \n",
       "3   Mohan           600   65000   51             N          6.396930   \n",
       "4   Pooja           820  550000   35             Y          6.709304   \n",
       "5  Sofiya           780   75000   31             Y          6.659294   \n",
       "\n",
       "   new income  \n",
       "0   11.289782  \n",
       "1   10.373491  \n",
       "2   11.251561  \n",
       "3   11.082143  \n",
       "4   13.217674  \n",
       "5   11.225243  "
      ]
     },
     "execution_count": 9,
     "metadata": {},
     "output_type": "execute_result"
    }
   ],
   "source": [
    "df"
   ]
  },
  {
   "cell_type": "code",
   "execution_count": 10,
   "id": "7cb1c84e",
   "metadata": {},
   "outputs": [
    {
     "data": {
      "image/png": "[encoded data removed]",
      "text/plain": [
       "<Figure size 432x288 with 1 Axes>"
      ]
     },
     "metadata": {
      "needs_background": "light"
     },
     "output_type": "display_data"
    }
   ],
   "source": [
    "df.plot(x='person', y='new credit score', kind='bar');"
   ]
  },
  {
   "cell_type": "code",
   "execution_count": 11,
   "id": "b2c8a1e3",
   "metadata": {},
   "outputs": [
    {
     "data": {
      "image/png": "[encoded data removed]",
      "text/plain": [
       "<Figure size 432x288 with 1 Axes>"
      ]
     },
     "metadata": {
      "needs_background": "light"
     },
     "output_type": "display_data"
    }
   ],
   "source": [
    "df.plot(x='person', y='new income', kind='bar');"
   ]
  },
  {
   "cell_type": "code",
   "execution_count": null,
   "id": "22c43a2f",
   "metadata": {},
   "outputs": [],
   "source": []
  }
 ],
 "metadata": {
  "kernelspec": {
   "display_name": "Python 3",
   "language": "python",
   "name": "python3"
  },
  "language_info": {
   "codemirror_mode": {
    "name": "ipython",
    "version": 3
   },
   "file_extension": ".py",
   "mimetype": "text/x-python",
   "name": "python",
   "nbconvert_exporter": "python",
   "pygments_lexer": "ipython3",
   "version": "3.6.6"
  }
 },
 "nbformat": 4,
 "nbformat_minor": 5
}
