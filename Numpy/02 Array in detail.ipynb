{
 "cells": [
  {
   "cell_type": "markdown",
   "id": "d269b6a8",
   "metadata": {},
   "source": [
    "## np.array()"
   ]
  },
  {
   "cell_type": "code",
   "execution_count": 1,
   "id": "3d7dca14",
   "metadata": {},
   "outputs": [],
   "source": [
    "import numpy as np"
   ]
  },
  {
   "cell_type": "markdown",
   "id": "2a535bee",
   "metadata": {},
   "source": [
    "#### 1 dimensional array"
   ]
  },
  {
   "cell_type": "code",
   "execution_count": 2,
   "id": "ed5dff9b",
   "metadata": {},
   "outputs": [
    {
     "data": {
      "text/plain": [
       "array([[1, 2, 3]])"
      ]
     },
     "execution_count": 2,
     "metadata": {},
     "output_type": "execute_result"
    }
   ],
   "source": [
    "array = np.array([[1, 2, 3]])\n",
    "array"
   ]
  },
  {
   "cell_type": "code",
   "execution_count": 3,
   "id": "6c500ae2",
   "metadata": {},
   "outputs": [
    {
     "data": {
      "text/plain": [
       "numpy.ndarray"
      ]
     },
     "execution_count": 3,
     "metadata": {},
     "output_type": "execute_result"
    }
   ],
   "source": [
    "type(array)"
   ]
  },
  {
   "cell_type": "markdown",
   "id": "9fa6cf3a",
   "metadata": {},
   "source": [
    "#### 2 dimensional array"
   ]
  },
  {
   "cell_type": "code",
   "execution_count": 4,
   "id": "83f9ab30",
   "metadata": {},
   "outputs": [
    {
     "data": {
      "text/plain": [
       "array([[1, 2, 3],\n",
       "       [4, 5, 6],\n",
       "       [7, 8, 9]])"
      ]
     },
     "execution_count": 4,
     "metadata": {},
     "output_type": "execute_result"
    }
   ],
   "source": [
    "array = np.array([[1, 2, 3], [4, 5, 6], [7, 8, 9]])\n",
    "array"
   ]
  },
  {
   "cell_type": "code",
   "execution_count": 5,
   "id": "59148a0d",
   "metadata": {},
   "outputs": [
    {
     "data": {
      "text/plain": [
       "numpy.ndarray"
      ]
     },
     "execution_count": 5,
     "metadata": {},
     "output_type": "execute_result"
    }
   ],
   "source": [
    "type(array)"
   ]
  },
  {
   "cell_type": "markdown",
   "id": "5326f1ff",
   "metadata": {},
   "source": [
    "#### Upcasting of array: int into float"
   ]
  },
  {
   "cell_type": "code",
   "execution_count": 6,
   "id": "7d582fd2",
   "metadata": {},
   "outputs": [
    {
     "data": {
      "text/plain": [
       "array([[1.  , 2.  , 3.  ],\n",
       "       [3.14, 4.  , 5.  ],\n",
       "       [6.  , 7.  , 8.  ]])"
      ]
     },
     "execution_count": 6,
     "metadata": {},
     "output_type": "execute_result"
    }
   ],
   "source": [
    "array = np.array([[1, 2, 3], [3.14, 4, 5], [6, 7, 8]])\n",
    "array"
   ]
  },
  {
   "cell_type": "markdown",
   "id": "cc60c377",
   "metadata": {},
   "source": [
    "#### Downcasting of array: float into int"
   ]
  },
  {
   "cell_type": "code",
   "execution_count": 7,
   "id": "c44af2ec",
   "metadata": {},
   "outputs": [
    {
     "data": {
      "text/plain": [
       "array([[1, 2, 3],\n",
       "       [3, 4, 5],\n",
       "       [6, 7, 8]])"
      ]
     },
     "execution_count": 7,
     "metadata": {},
     "output_type": "execute_result"
    }
   ],
   "source": [
    "array = np.array([[1, 2, 3], [3.14, 4, 5], [6, 7, 8]], dtype=int)\n",
    "array"
   ]
  },
  {
   "cell_type": "markdown",
   "id": "9434de9a",
   "metadata": {},
   "source": [
    "#### Data Converting"
   ]
  },
  {
   "cell_type": "code",
   "execution_count": 8,
   "id": "8c8619b6",
   "metadata": {},
   "outputs": [
    {
     "data": {
      "text/plain": [
       "array([[1.+0.j, 2.+0.j, 3.+0.j],\n",
       "       [4.+0.j, 5.+0.j, 6.+0.j],\n",
       "       [7.+0.j, 8.+0.j, 9.+0.j]])"
      ]
     },
     "execution_count": 8,
     "metadata": {},
     "output_type": "execute_result"
    }
   ],
   "source": [
    "array = np.array([[1, 2, 3], [4, 5, 6], [7, 8, 9]], dtype=complex)\n",
    "array"
   ]
  },
  {
   "cell_type": "code",
   "execution_count": 9,
   "id": "37ef008b",
   "metadata": {},
   "outputs": [
    {
     "data": {
      "text/plain": [
       "array([[1, 2, 3],\n",
       "       [4, 5, 6],\n",
       "       [7, 8, 9]], dtype=int16)"
      ]
     },
     "execution_count": 9,
     "metadata": {},
     "output_type": "execute_result"
    }
   ],
   "source": [
    "array = np.array([[1, 2, 3], [4, 5, 6], [7, 8, 9]], dtype=np.int16)\n",
    "array"
   ]
  },
  {
   "cell_type": "markdown",
   "id": "140ee2d7",
   "metadata": {},
   "source": [
    "#### Changing the data type of elements: the data must be in tuple it cannont convert list data, \n",
    "* 1) <i2 = int 16 bit\n",
    "* 2) i<i4 = int 32 bit \n",
    "* 3) i<i8 = int 64 bit"
   ]
  },
  {
   "cell_type": "code",
   "execution_count": 10,
   "id": "182941c0",
   "metadata": {},
   "outputs": [
    {
     "data": {
      "text/plain": [
       "array([(1, 2, 3), (4, 5, 6), (7, 8, 9)],\n",
       "      dtype=[('a', '<i2'), ('b', '<i4'), ('c', '<i8')])"
      ]
     },
     "execution_count": 10,
     "metadata": {},
     "output_type": "execute_result"
    }
   ],
   "source": [
    "array = np.array([(1, 2, 3), (4, 5, 6), (7, 8, 9)], dtype=[('a', '<i2'), ('b', '<i4'), ('c', '<i8')])\n",
    "array"
   ]
  },
  {
   "cell_type": "code",
   "execution_count": 11,
   "id": "eb7e7ed8",
   "metadata": {},
   "outputs": [
    {
     "name": "stdout",
     "output_type": "stream",
     "text": [
      "<class 'numpy.int16'>\n",
      "<class 'numpy.int32'>\n",
      "<class 'numpy.int64'>\n"
     ]
    }
   ],
   "source": [
    "print(type(array[0][0]))\n",
    "print(type(array[0][1]))\n",
    "print(type(array[0][2]))"
   ]
  },
  {
   "cell_type": "markdown",
   "id": "c1cdb037",
   "metadata": {},
   "source": [
    "#### Specifying the dimension of array: 2 dimension array into 3 dimension"
   ]
  },
  {
   "cell_type": "code",
   "execution_count": 12,
   "id": "f74f7f3e",
   "metadata": {},
   "outputs": [
    {
     "data": {
      "text/plain": [
       "array([[[1, 2, 3],\n",
       "        [4, 5, 6],\n",
       "        [7, 8, 9]]])"
      ]
     },
     "execution_count": 12,
     "metadata": {},
     "output_type": "execute_result"
    }
   ],
   "source": [
    "array = np.array([[1, 2, 3], [4, 5, 6], [7, 8, 9]], ndmin=3)\n",
    "array"
   ]
  },
  {
   "cell_type": "markdown",
   "id": "5bbacaa8",
   "metadata": {},
   "source": [
    "#### Matrix"
   ]
  },
  {
   "cell_type": "code",
   "execution_count": 13,
   "id": "1cc06c7c",
   "metadata": {},
   "outputs": [
    {
     "data": {
      "text/plain": [
       "matrix([[1, 2, 3],\n",
       "        [4, 5, 6],\n",
       "        [7, 8, 9]])"
      ]
     },
     "execution_count": 13,
     "metadata": {},
     "output_type": "execute_result"
    }
   ],
   "source": [
    "matrix = np.mat([[1, 2, 3], [4, 5, 6], [7, 8, 9]])\n",
    "matrix"
   ]
  },
  {
   "cell_type": "code",
   "execution_count": 14,
   "id": "a248b027",
   "metadata": {},
   "outputs": [
    {
     "data": {
      "text/plain": [
       "matrix([[1., 2., 3.],\n",
       "        [4., 5., 6.],\n",
       "        [7., 8., 9.]])"
      ]
     },
     "execution_count": 14,
     "metadata": {},
     "output_type": "execute_result"
    }
   ],
   "source": [
    "matrix = np.mat([[1, 2, 3], [4, 5, 6], [7, 8, 9]], dtype=np.float)\n",
    "matrix"
   ]
  },
  {
   "cell_type": "markdown",
   "id": "c9ed78c8",
   "metadata": {},
   "source": [
    "#### matrix is subclass of array"
   ]
  },
  {
   "cell_type": "code",
   "execution_count": 15,
   "id": "28af28d1",
   "metadata": {},
   "outputs": [
    {
     "data": {
      "text/plain": [
       "True"
      ]
     },
     "execution_count": 15,
     "metadata": {},
     "output_type": "execute_result"
    }
   ],
   "source": [
    "issubclass(np.matrix, np.ndarray)"
   ]
  },
  {
   "cell_type": "markdown",
   "id": "ad7668ef",
   "metadata": {},
   "source": [
    "## np.asarray(): \n",
    "* it is similar to np.array but there are more features is availabe in np.array() compare to the np.asarray(). "
   ]
  },
  {
   "cell_type": "code",
   "execution_count": 16,
   "id": "f99cb653",
   "metadata": {},
   "outputs": [
    {
     "data": {
      "text/plain": [
       "array([[1, 2, 3],\n",
       "       [4, 5, 6],\n",
       "       [7, 8, 9]])"
      ]
     },
     "execution_count": 16,
     "metadata": {},
     "output_type": "execute_result"
    }
   ],
   "source": [
    "array = np.asarray([[1, 2, 3], [4, 5, 6], [7, 8, 9]])\n",
    "array"
   ]
  },
  {
   "cell_type": "code",
   "execution_count": 17,
   "id": "62e22a91",
   "metadata": {},
   "outputs": [
    {
     "data": {
      "text/plain": [
       "array([[1, 2, 3],\n",
       "       [4, 5, 6],\n",
       "       [7, 8, 9]], dtype=int16)"
      ]
     },
     "execution_count": 17,
     "metadata": {},
     "output_type": "execute_result"
    }
   ],
   "source": [
    "array = np.asarray([[1, 2, 3], [4, 5, 6], [7, 8, 9]], dtype=np.int16)\n",
    "array"
   ]
  },
  {
   "cell_type": "code",
   "execution_count": 18,
   "id": "8acbe04d",
   "metadata": {},
   "outputs": [
    {
     "data": {
      "text/plain": [
       "numpy.ndarray"
      ]
     },
     "execution_count": 18,
     "metadata": {},
     "output_type": "execute_result"
    }
   ],
   "source": [
    "type(array)"
   ]
  },
  {
   "cell_type": "markdown",
   "id": "91c078ee",
   "metadata": {},
   "source": [
    "#### Equality cheack"
   ]
  },
  {
   "cell_type": "code",
   "execution_count": 19,
   "id": "347a4970",
   "metadata": {},
   "outputs": [
    {
     "data": {
      "text/plain": [
       "array([1, 2, 3])"
      ]
     },
     "execution_count": 19,
     "metadata": {},
     "output_type": "execute_result"
    }
   ],
   "source": [
    "a = np.array([1, 2, 3])\n",
    "a"
   ]
  },
  {
   "cell_type": "code",
   "execution_count": 20,
   "id": "1ce9c0b0",
   "metadata": {},
   "outputs": [
    {
     "data": {
      "text/plain": [
       "array([1, 2, 3])"
      ]
     },
     "execution_count": 20,
     "metadata": {},
     "output_type": "execute_result"
    }
   ],
   "source": [
    "b = np.asarray([1, 2, 3])\n",
    "b"
   ]
  },
  {
   "cell_type": "code",
   "execution_count": 21,
   "id": "620c4a98",
   "metadata": {},
   "outputs": [
    {
     "data": {
      "text/plain": [
       "False"
      ]
     },
     "execution_count": 21,
     "metadata": {},
     "output_type": "execute_result"
    }
   ],
   "source": [
    "a is b"
   ]
  },
  {
   "cell_type": "code",
   "execution_count": 22,
   "id": "b2c44039",
   "metadata": {},
   "outputs": [
    {
     "data": {
      "text/plain": [
       "array([1, 2, 3])"
      ]
     },
     "execution_count": 22,
     "metadata": {},
     "output_type": "execute_result"
    }
   ],
   "source": [
    "a = np.array([1, 2, 3])\n",
    "a"
   ]
  },
  {
   "cell_type": "code",
   "execution_count": 23,
   "id": "f1b9844e",
   "metadata": {},
   "outputs": [
    {
     "data": {
      "text/plain": [
       "array([1, 2, 3])"
      ]
     },
     "execution_count": 23,
     "metadata": {},
     "output_type": "execute_result"
    }
   ],
   "source": [
    "b = np.array([1, 2, 3])\n",
    "b"
   ]
  },
  {
   "cell_type": "code",
   "execution_count": 24,
   "id": "01e14a8e",
   "metadata": {},
   "outputs": [
    {
     "data": {
      "text/plain": [
       "False"
      ]
     },
     "execution_count": 24,
     "metadata": {},
     "output_type": "execute_result"
    }
   ],
   "source": [
    "a is b"
   ]
  },
  {
   "cell_type": "markdown",
   "id": "dee4e9c7",
   "metadata": {},
   "source": [
    "## np.asanyarray()\n",
    "* it is similar to np.array().\n",
    "* there are more features in np.array() compare to np.asanyarray()\n",
    "* matrix is subclass of array so we have not need to convert the matrix into the array because it is already subclass of array.\n",
    "* but the np.array() and np.asarray() they will convert the matrix into the array. and this np.asanyarray() it will not convert"
   ]
  },
  {
   "cell_type": "code",
   "execution_count": 25,
   "id": "8e999fc2",
   "metadata": {},
   "outputs": [
    {
     "data": {
      "text/plain": [
       "array([[1, 2, 3],\n",
       "       [4, 5, 6],\n",
       "       [7, 8, 9]])"
      ]
     },
     "execution_count": 25,
     "metadata": {},
     "output_type": "execute_result"
    }
   ],
   "source": [
    "array = np.asanyarray([[1, 2, 3], [4, 5, 6], [7, 8, 9]])\n",
    "array"
   ]
  },
  {
   "cell_type": "code",
   "execution_count": 26,
   "id": "b4224709",
   "metadata": {},
   "outputs": [
    {
     "data": {
      "text/plain": [
       "array([[1, 2, 3],\n",
       "       [4, 5, 6],\n",
       "       [7, 8, 9]], dtype=int16)"
      ]
     },
     "execution_count": 26,
     "metadata": {},
     "output_type": "execute_result"
    }
   ],
   "source": [
    "array = np.asanyarray([[1, 2, 3], [4, 5, 6], [7, 8, 9]], dtype=np.int16)\n",
    "array"
   ]
  },
  {
   "cell_type": "code",
   "execution_count": 27,
   "id": "65e3cc73",
   "metadata": {},
   "outputs": [
    {
     "name": "stdout",
     "output_type": "stream",
     "text": [
      "The data type is:  <class 'numpy.matrix'>\n"
     ]
    },
    {
     "data": {
      "text/plain": [
       "matrix([[1, 2, 3],\n",
       "        [4, 5, 6],\n",
       "        [7, 8, 9]])"
      ]
     },
     "execution_count": 27,
     "metadata": {},
     "output_type": "execute_result"
    }
   ],
   "source": [
    "matrix = np.mat([[1, 2, 3], [4, 5, 6], [7, 8, 9]])\n",
    "print(\"The data type is: \", type(matrix))\n",
    "matrix"
   ]
  },
  {
   "cell_type": "code",
   "execution_count": 28,
   "id": "bf3672f3",
   "metadata": {},
   "outputs": [
    {
     "name": "stdout",
     "output_type": "stream",
     "text": [
      "The data type is: <class 'numpy.ndarray'>\n"
     ]
    },
    {
     "data": {
      "text/plain": [
       "array([[1, 2, 3],\n",
       "       [4, 5, 6],\n",
       "       [7, 8, 9]])"
      ]
     },
     "execution_count": 28,
     "metadata": {},
     "output_type": "execute_result"
    }
   ],
   "source": [
    "a = np.array(matrix)\n",
    "print(\"The data type is:\", type(a))\n",
    "a"
   ]
  },
  {
   "cell_type": "code",
   "execution_count": 29,
   "id": "e6db2d68",
   "metadata": {},
   "outputs": [
    {
     "name": "stdout",
     "output_type": "stream",
     "text": [
      "The data type is: <class 'numpy.ndarray'>\n"
     ]
    },
    {
     "data": {
      "text/plain": [
       "array([[1, 2, 3],\n",
       "       [4, 5, 6],\n",
       "       [7, 8, 9]])"
      ]
     },
     "execution_count": 29,
     "metadata": {},
     "output_type": "execute_result"
    }
   ],
   "source": [
    "b = np.asarray(matrix)\n",
    "print(\"The data type is:\", type(b))\n",
    "b"
   ]
  },
  {
   "cell_type": "code",
   "execution_count": 30,
   "id": "05eac48e",
   "metadata": {},
   "outputs": [
    {
     "name": "stdout",
     "output_type": "stream",
     "text": [
      "The data type is: <class 'numpy.matrix'>\n"
     ]
    },
    {
     "data": {
      "text/plain": [
       "matrix([[1, 2, 3],\n",
       "        [4, 5, 6],\n",
       "        [7, 8, 9]])"
      ]
     },
     "execution_count": 30,
     "metadata": {},
     "output_type": "execute_result"
    }
   ],
   "source": [
    "c = np.asanyarray(matrix)\n",
    "print(\"The data type is:\", type(c))\n",
    "c"
   ]
  },
  {
   "cell_type": "markdown",
   "id": "426251de",
   "metadata": {},
   "source": [
    "## Deep copy and Shallo copy\n",
    "* in shallo copy both variables is pointing to the same variable, example if we perform changes in a then it also shows in b.\n",
    "* in deep copy both variable is pointing to the different variables, example if we perform changes in a then it not reflect in b."
   ]
  },
  {
   "cell_type": "markdown",
   "id": "a37da4a1",
   "metadata": {},
   "source": [
    "#### shallo copy"
   ]
  },
  {
   "cell_type": "code",
   "execution_count": 31,
   "id": "bb249fb8",
   "metadata": {},
   "outputs": [
    {
     "data": {
      "text/plain": [
       "array([[1, 2, 3],\n",
       "       [4, 5, 6],\n",
       "       [7, 8, 9]])"
      ]
     },
     "execution_count": 31,
     "metadata": {},
     "output_type": "execute_result"
    }
   ],
   "source": [
    "a = np.array([[1, 2, 3], [4, 5, 6], [7, 8, 9]])\n",
    "a"
   ]
  },
  {
   "cell_type": "code",
   "execution_count": 32,
   "id": "b1ca09a0",
   "metadata": {},
   "outputs": [
    {
     "data": {
      "text/plain": [
       "array([[9, 8, 7],\n",
       "       [6, 5, 4],\n",
       "       [3, 2, 1]])"
      ]
     },
     "execution_count": 32,
     "metadata": {},
     "output_type": "execute_result"
    }
   ],
   "source": [
    "b = np.array([[9, 8, 7], [6, 5, 4], [3, 2, 1]])\n",
    "b"
   ]
  },
  {
   "cell_type": "code",
   "execution_count": 33,
   "id": "9bef790c",
   "metadata": {},
   "outputs": [],
   "source": [
    "a = b"
   ]
  },
  {
   "cell_type": "code",
   "execution_count": 34,
   "id": "afe6ecf0",
   "metadata": {},
   "outputs": [],
   "source": [
    "a[0][0] = 100\n",
    "a[1][0] = 200\n",
    "a[2][0] = 300"
   ]
  },
  {
   "cell_type": "code",
   "execution_count": 35,
   "id": "e62de470",
   "metadata": {},
   "outputs": [
    {
     "data": {
      "text/plain": [
       "array([[100,   8,   7],\n",
       "       [200,   5,   4],\n",
       "       [300,   2,   1]])"
      ]
     },
     "execution_count": 35,
     "metadata": {},
     "output_type": "execute_result"
    }
   ],
   "source": [
    "a"
   ]
  },
  {
   "cell_type": "code",
   "execution_count": 36,
   "id": "fd273443",
   "metadata": {},
   "outputs": [
    {
     "data": {
      "text/plain": [
       "array([[100,   8,   7],\n",
       "       [200,   5,   4],\n",
       "       [300,   2,   1]])"
      ]
     },
     "execution_count": 36,
     "metadata": {},
     "output_type": "execute_result"
    }
   ],
   "source": [
    "b"
   ]
  },
  {
   "cell_type": "markdown",
   "id": "35223197",
   "metadata": {},
   "source": [
    "#### deep copy"
   ]
  },
  {
   "cell_type": "code",
   "execution_count": 37,
   "id": "5bfdd077",
   "metadata": {},
   "outputs": [
    {
     "data": {
      "text/plain": [
       "array([[1, 2, 3],\n",
       "       [4, 5, 6],\n",
       "       [7, 8, 9]])"
      ]
     },
     "execution_count": 37,
     "metadata": {},
     "output_type": "execute_result"
    }
   ],
   "source": [
    "a = np.array([[1, 2, 3], [4, 5, 6], [7, 8, 9]])\n",
    "a"
   ]
  },
  {
   "cell_type": "code",
   "execution_count": 38,
   "id": "dc054aa9",
   "metadata": {},
   "outputs": [
    {
     "data": {
      "text/plain": [
       "array([[9, 8, 7],\n",
       "       [6, 5, 4],\n",
       "       [3, 2, 1]])"
      ]
     },
     "execution_count": 38,
     "metadata": {},
     "output_type": "execute_result"
    }
   ],
   "source": [
    "b = np.array([[9, 8, 7], [6, 5, 4], [3, 2, 1]])\n",
    "b"
   ]
  },
  {
   "cell_type": "code",
   "execution_count": 39,
   "id": "04feb771",
   "metadata": {},
   "outputs": [
    {
     "data": {
      "text/plain": [
       "array([[1, 2, 3],\n",
       "       [4, 5, 6],\n",
       "       [7, 8, 9]])"
      ]
     },
     "execution_count": 39,
     "metadata": {},
     "output_type": "execute_result"
    }
   ],
   "source": [
    "result = a.copy()\n",
    "result"
   ]
  },
  {
   "cell_type": "code",
   "execution_count": 40,
   "id": "87e28add",
   "metadata": {},
   "outputs": [],
   "source": [
    "result[0][0] = 100\n",
    "result[1][0] = 200\n",
    "result[2][0] = 300"
   ]
  },
  {
   "cell_type": "code",
   "execution_count": 41,
   "id": "08e4a6ab",
   "metadata": {},
   "outputs": [
    {
     "data": {
      "text/plain": [
       "array([[100,   2,   3],\n",
       "       [200,   5,   6],\n",
       "       [300,   8,   9]])"
      ]
     },
     "execution_count": 41,
     "metadata": {},
     "output_type": "execute_result"
    }
   ],
   "source": [
    "result"
   ]
  },
  {
   "cell_type": "code",
   "execution_count": 42,
   "id": "c48ad655",
   "metadata": {},
   "outputs": [
    {
     "data": {
      "text/plain": [
       "array([[1, 2, 3],\n",
       "       [4, 5, 6],\n",
       "       [7, 8, 9]])"
      ]
     },
     "execution_count": 42,
     "metadata": {},
     "output_type": "execute_result"
    }
   ],
   "source": [
    "a"
   ]
  },
  {
   "cell_type": "markdown",
   "id": "85a17799",
   "metadata": {},
   "source": [
    "## Properties of array"
   ]
  },
  {
   "cell_type": "code",
   "execution_count": 43,
   "id": "3c0bec1f",
   "metadata": {},
   "outputs": [
    {
     "data": {
      "text/plain": [
       "array([[1, 2, 3],\n",
       "       [4, 5, 6],\n",
       "       [7, 8, 9]])"
      ]
     },
     "execution_count": 43,
     "metadata": {},
     "output_type": "execute_result"
    }
   ],
   "source": [
    "a = np.array([[1, 2, 3], [4, 5, 6], [7, 8, 9]])\n",
    "a"
   ]
  },
  {
   "cell_type": "code",
   "execution_count": 44,
   "id": "ebd0a17e",
   "metadata": {},
   "outputs": [
    {
     "data": {
      "text/plain": [
       "array([[9, 8, 7],\n",
       "       [6, 5, 4],\n",
       "       [3, 2, 1]])"
      ]
     },
     "execution_count": 44,
     "metadata": {},
     "output_type": "execute_result"
    }
   ],
   "source": [
    "b = np.array([[9, 8, 7], [6, 5, 4], [3, 2, 1]])\n",
    "b"
   ]
  },
  {
   "cell_type": "markdown",
   "id": "b283a4ff",
   "metadata": {},
   "source": [
    "#### 1) size"
   ]
  },
  {
   "cell_type": "code",
   "execution_count": 45,
   "id": "d3367169",
   "metadata": {},
   "outputs": [
    {
     "name": "stdout",
     "output_type": "stream",
     "text": [
      "The size of array is: 9\n"
     ]
    }
   ],
   "source": [
    "print(\"The size of array is:\", a.size)"
   ]
  },
  {
   "cell_type": "markdown",
   "id": "dc2f5573",
   "metadata": {},
   "source": [
    "#### 2) shape"
   ]
  },
  {
   "cell_type": "code",
   "execution_count": 46,
   "id": "0929139e",
   "metadata": {},
   "outputs": [
    {
     "name": "stdout",
     "output_type": "stream",
     "text": [
      "The shape of array is: (3, 3)\n"
     ]
    }
   ],
   "source": [
    "print(\"The shape of array is:\", a.shape)"
   ]
  },
  {
   "cell_type": "markdown",
   "id": "52f2f233",
   "metadata": {},
   "source": [
    "#### 3) length"
   ]
  },
  {
   "cell_type": "code",
   "execution_count": 47,
   "id": "24df0393",
   "metadata": {},
   "outputs": [
    {
     "name": "stdout",
     "output_type": "stream",
     "text": [
      "The length of array is: 3\n"
     ]
    }
   ],
   "source": [
    "print(\"The length of array is:\", len(a))"
   ]
  },
  {
   "cell_type": "markdown",
   "id": "7e7fdae4",
   "metadata": {},
   "source": [
    "#### 4) data type"
   ]
  },
  {
   "cell_type": "code",
   "execution_count": 48,
   "id": "ca9208d9",
   "metadata": {},
   "outputs": [
    {
     "name": "stdout",
     "output_type": "stream",
     "text": [
      "The data type of array is: int32\n"
     ]
    }
   ],
   "source": [
    "print(\"The data type of array is:\", a.dtype)"
   ]
  },
  {
   "cell_type": "markdown",
   "id": "08b6eea0",
   "metadata": {},
   "source": [
    "#### 5) dimensions"
   ]
  },
  {
   "cell_type": "code",
   "execution_count": 49,
   "id": "ea899702",
   "metadata": {},
   "outputs": [
    {
     "name": "stdout",
     "output_type": "stream",
     "text": [
      "The dimension of array is: 2\n"
     ]
    }
   ],
   "source": [
    "print(\"The dimension of array is:\", a.ndim)"
   ]
  },
  {
   "cell_type": "markdown",
   "id": "68e14917",
   "metadata": {},
   "source": [
    "## Array Mathematics"
   ]
  },
  {
   "cell_type": "markdown",
   "id": "20484d4f",
   "metadata": {},
   "source": [
    "#### 1) Addition"
   ]
  },
  {
   "cell_type": "code",
   "execution_count": 50,
   "id": "c130bb99",
   "metadata": {},
   "outputs": [
    {
     "data": {
      "text/plain": [
       "array([[10, 10, 10],\n",
       "       [10, 10, 10],\n",
       "       [10, 10, 10]])"
      ]
     },
     "execution_count": 50,
     "metadata": {},
     "output_type": "execute_result"
    }
   ],
   "source": [
    "result = np.add(a, b)\n",
    "result"
   ]
  },
  {
   "cell_type": "markdown",
   "id": "88bc5ece",
   "metadata": {},
   "source": [
    "#### 2) Subtraction"
   ]
  },
  {
   "cell_type": "code",
   "execution_count": 51,
   "id": "85208f44",
   "metadata": {},
   "outputs": [
    {
     "data": {
      "text/plain": [
       "array([[-8, -6, -4],\n",
       "       [-2,  0,  2],\n",
       "       [ 4,  6,  8]])"
      ]
     },
     "execution_count": 51,
     "metadata": {},
     "output_type": "execute_result"
    }
   ],
   "source": [
    "result = np.subtract(a, b)\n",
    "result"
   ]
  },
  {
   "cell_type": "markdown",
   "id": "c14b379d",
   "metadata": {},
   "source": [
    "#### 3) Multiply"
   ]
  },
  {
   "cell_type": "code",
   "execution_count": 52,
   "id": "76708e2f",
   "metadata": {},
   "outputs": [
    {
     "data": {
      "text/plain": [
       "array([[ 9, 16, 21],\n",
       "       [24, 25, 24],\n",
       "       [21, 16,  9]])"
      ]
     },
     "execution_count": 52,
     "metadata": {},
     "output_type": "execute_result"
    }
   ],
   "source": [
    "result = np.multiply(a, b)\n",
    "result"
   ]
  },
  {
   "cell_type": "markdown",
   "id": "f7d55600",
   "metadata": {},
   "source": [
    "#### 4) Division"
   ]
  },
  {
   "cell_type": "code",
   "execution_count": 53,
   "id": "b2348229",
   "metadata": {},
   "outputs": [
    {
     "data": {
      "text/plain": [
       "array([[0.11111111, 0.25      , 0.42857143],\n",
       "       [0.66666667, 1.        , 1.5       ],\n",
       "       [2.33333333, 4.        , 9.        ]])"
      ]
     },
     "execution_count": 53,
     "metadata": {},
     "output_type": "execute_result"
    }
   ],
   "source": [
    "result = np.divide(a, b)\n",
    "result"
   ]
  },
  {
   "cell_type": "markdown",
   "id": "e78116a5",
   "metadata": {},
   "source": [
    "#### 5) Exponentation"
   ]
  },
  {
   "cell_type": "code",
   "execution_count": 54,
   "id": "462ec505",
   "metadata": {},
   "outputs": [
    {
     "data": {
      "text/plain": [
       "array([[2.71828183e+00, 7.38905610e+00, 2.00855369e+01],\n",
       "       [5.45981500e+01, 1.48413159e+02, 4.03428793e+02],\n",
       "       [1.09663316e+03, 2.98095799e+03, 8.10308393e+03]])"
      ]
     },
     "execution_count": 54,
     "metadata": {},
     "output_type": "execute_result"
    }
   ],
   "source": [
    "result = np.exp(a)\n",
    "result"
   ]
  },
  {
   "cell_type": "markdown",
   "id": "874cb3a5",
   "metadata": {},
   "source": [
    "#### 6) Square root"
   ]
  },
  {
   "cell_type": "code",
   "execution_count": 55,
   "id": "2c1a8466",
   "metadata": {},
   "outputs": [
    {
     "data": {
      "text/plain": [
       "array([[1.        , 1.41421356, 1.73205081],\n",
       "       [2.        , 2.23606798, 2.44948974],\n",
       "       [2.64575131, 2.82842712, 3.        ]])"
      ]
     },
     "execution_count": 55,
     "metadata": {},
     "output_type": "execute_result"
    }
   ],
   "source": [
    "result = np.sqrt(a)\n",
    "result"
   ]
  },
  {
   "cell_type": "markdown",
   "id": "2a965280",
   "metadata": {},
   "source": [
    "#### 7) Comparison"
   ]
  },
  {
   "cell_type": "code",
   "execution_count": 56,
   "id": "6773fafb",
   "metadata": {},
   "outputs": [
    {
     "name": "stdout",
     "output_type": "stream",
     "text": [
      "Equal:  [[False False False]\n",
      " [False  True False]\n",
      " [False False False]]\n",
      "Not Equal: [[ True  True  True]\n",
      " [ True False  True]\n",
      " [ True  True  True]]\n",
      "Greater than equal: [[False False False]\n",
      " [False  True  True]\n",
      " [ True  True  True]]\n",
      "Less than equal: [[ True  True  True]\n",
      " [ True  True False]\n",
      " [False False False]]\n"
     ]
    }
   ],
   "source": [
    "result = a == b\n",
    "print(\"Equal: \", result)\n",
    "result = a != b\n",
    "print(\"Not Equal:\", result)\n",
    "result = a >= b\n",
    "print(\"Greater than equal:\", result)\n",
    "result = a <= b\n",
    "print(\"Less than equal:\", result)"
   ]
  },
  {
   "cell_type": "markdown",
   "id": "69387218",
   "metadata": {},
   "source": [
    "#### Array wise comparasion"
   ]
  },
  {
   "cell_type": "code",
   "execution_count": 57,
   "id": "bbeb6588",
   "metadata": {},
   "outputs": [
    {
     "data": {
      "text/plain": [
       "False"
      ]
     },
     "execution_count": 57,
     "metadata": {},
     "output_type": "execute_result"
    }
   ],
   "source": [
    "result = np.array_equal(a, b)\n",
    "result"
   ]
  },
  {
   "cell_type": "markdown",
   "id": "b5eeb0b7",
   "metadata": {},
   "source": [
    "## Functions"
   ]
  },
  {
   "cell_type": "code",
   "execution_count": 58,
   "id": "a514a7d2",
   "metadata": {},
   "outputs": [
    {
     "data": {
      "text/plain": [
       "array([[1, 2, 3],\n",
       "       [4, 5, 6],\n",
       "       [7, 8, 9]])"
      ]
     },
     "execution_count": 58,
     "metadata": {},
     "output_type": "execute_result"
    }
   ],
   "source": [
    "a = np.array([[1, 2, 3], [4, 5, 6], [7, 8, 9]])\n",
    "a"
   ]
  },
  {
   "cell_type": "markdown",
   "id": "87b00785",
   "metadata": {},
   "source": [
    "#### 1) arr.sum()"
   ]
  },
  {
   "cell_type": "code",
   "execution_count": 59,
   "id": "0bd742c0",
   "metadata": {},
   "outputs": [
    {
     "name": "stdout",
     "output_type": "stream",
     "text": [
      "The sum of elements in array is: 45\n"
     ]
    }
   ],
   "source": [
    "print(\"The sum of elements in array is:\", a.sum())"
   ]
  },
  {
   "cell_type": "markdown",
   "id": "f81be2bb",
   "metadata": {},
   "source": [
    "#### 2) arr.min and arr.max, minimum and maximum element in array"
   ]
  },
  {
   "cell_type": "code",
   "execution_count": 60,
   "id": "b4ecbacf",
   "metadata": {},
   "outputs": [
    {
     "data": {
      "text/plain": [
       "array([[1, 2, 3],\n",
       "       [4, 5, 6],\n",
       "       [7, 8, 9]])"
      ]
     },
     "execution_count": 60,
     "metadata": {},
     "output_type": "execute_result"
    }
   ],
   "source": [
    "a"
   ]
  },
  {
   "cell_type": "code",
   "execution_count": 61,
   "id": "de8b155f",
   "metadata": {},
   "outputs": [
    {
     "name": "stdout",
     "output_type": "stream",
     "text": [
      "The minimum element in array is: 1\n",
      "The maximum element in array is: 9\n"
     ]
    }
   ],
   "source": [
    "print(\"The minimum element in array is:\", a.min())\n",
    "print(\"The maximum element in array is:\", a.max())"
   ]
  },
  {
   "cell_type": "code",
   "execution_count": 62,
   "id": "ee4fb033",
   "metadata": {},
   "outputs": [
    {
     "name": "stdout",
     "output_type": "stream",
     "text": [
      "The minimum element in array in row wise is: [1 2 3]\n",
      "The minimum element in array in column wise is: [1 4 7]\n"
     ]
    }
   ],
   "source": [
    "print(\"The minimum element in array in row wise is:\", a.min(axis=0))\n",
    "print(\"The minimum element in array in column wise is:\", a.min(axis=1))"
   ]
  },
  {
   "cell_type": "code",
   "execution_count": 63,
   "id": "a99e054d",
   "metadata": {},
   "outputs": [
    {
     "name": "stdout",
     "output_type": "stream",
     "text": [
      "The maximum element in array in row wise is: [7 8 9]\n",
      "The maximum element in array in column wise is: [3 6 9]\n"
     ]
    }
   ],
   "source": [
    "print(\"The maximum element in array in row wise is:\", a.max(axis=0))\n",
    "print(\"The maximum element in array in column wise is:\", a.max(axis=1))"
   ]
  },
  {
   "cell_type": "markdown",
   "id": "866db2e2",
   "metadata": {},
   "source": [
    "#### 3) mean"
   ]
  },
  {
   "cell_type": "code",
   "execution_count": 70,
   "id": "ab1bb57e",
   "metadata": {},
   "outputs": [
    {
     "name": "stdout",
     "output_type": "stream",
     "text": [
      "The mean of data is: 0.3333333333333333\n"
     ]
    }
   ],
   "source": [
    "print(\"The mean of data is:\", a.mean())"
   ]
  },
  {
   "cell_type": "markdown",
   "id": "a9ed863a",
   "metadata": {},
   "source": [
    "#### 4) median"
   ]
  },
  {
   "cell_type": "code",
   "execution_count": 72,
   "id": "71582823",
   "metadata": {},
   "outputs": [
    {
     "name": "stdout",
     "output_type": "stream",
     "text": [
      "The median of data is: 0.0\n"
     ]
    }
   ],
   "source": [
    "print(\"The median of data is:\", np.median(a))"
   ]
  },
  {
   "cell_type": "markdown",
   "id": "c0043e12",
   "metadata": {},
   "source": [
    "#### 5) correlation coefficient"
   ]
  },
  {
   "cell_type": "code",
   "execution_count": 74,
   "id": "5ec14eaa",
   "metadata": {},
   "outputs": [
    {
     "name": "stdout",
     "output_type": "stream",
     "text": [
      "The correlation coefficient is: [[ 1.  -0.5 -0.5]\n",
      " [-0.5  1.  -0.5]\n",
      " [-0.5 -0.5  1. ]]\n"
     ]
    }
   ],
   "source": [
    "print(\"The correlation coefficient is:\", np.corrcoef(a))"
   ]
  },
  {
   "cell_type": "markdown",
   "id": "37c711f7",
   "metadata": {},
   "source": [
    "## from function"
   ]
  },
  {
   "cell_type": "code",
   "execution_count": 65,
   "id": "244c54e5",
   "metadata": {},
   "outputs": [
    {
     "data": {
      "text/plain": [
       "array([[ True, False, False],\n",
       "       [False,  True, False],\n",
       "       [False, False,  True]])"
      ]
     },
     "execution_count": 65,
     "metadata": {},
     "output_type": "execute_result"
    }
   ],
   "source": [
    "a = np.fromfunction(lambda x, y: x==y, (3, 3), dtype=int)\n",
    "a"
   ]
  },
  {
   "cell_type": "code",
   "execution_count": 66,
   "id": "308156e4",
   "metadata": {},
   "outputs": [
    {
     "data": {
      "text/plain": [
       "array([[0, 1, 2],\n",
       "       [1, 2, 3],\n",
       "       [2, 3, 4]])"
      ]
     },
     "execution_count": 66,
     "metadata": {},
     "output_type": "execute_result"
    }
   ],
   "source": [
    "b = np.fromfunction(lambda x, y: (x+y), (3, 3), dtype=int)\n",
    "b"
   ]
  },
  {
   "cell_type": "code",
   "execution_count": 67,
   "id": "341f7625",
   "metadata": {},
   "outputs": [
    {
     "data": {
      "text/plain": [
       "array([[[0, 1, 2],\n",
       "        [1, 2, 3],\n",
       "        [2, 3, 4]],\n",
       "\n",
       "       [[1, 2, 3],\n",
       "        [2, 3, 4],\n",
       "        [3, 4, 5]],\n",
       "\n",
       "       [[2, 3, 4],\n",
       "        [3, 4, 5],\n",
       "        [4, 5, 6]]])"
      ]
     },
     "execution_count": 67,
     "metadata": {},
     "output_type": "execute_result"
    }
   ],
   "source": [
    "c = np.fromfunction(lambda x, y, z: x+y+z, (3, 3, 3), dtype=int)\n",
    "c"
   ]
  },
  {
   "cell_type": "markdown",
   "id": "cda7cfd9",
   "metadata": {},
   "source": [
    "## Operations"
   ]
  },
  {
   "cell_type": "markdown",
   "id": "da083e50",
   "metadata": {},
   "source": [
    "#### 1) Sort operation"
   ]
  },
  {
   "cell_type": "code",
   "execution_count": null,
   "id": "01afe218",
   "metadata": {},
   "outputs": [],
   "source": []
  },
  {
   "cell_type": "markdown",
   "id": "969f4eb6",
   "metadata": {},
   "source": [
    "#### 2) reshape"
   ]
  },
  {
   "cell_type": "code",
   "execution_count": 80,
   "id": "9424a57b",
   "metadata": {},
   "outputs": [
    {
     "data": {
      "text/plain": [
       "array([[ 2,  1, 10],\n",
       "       [14,  3,  4],\n",
       "       [10,  4, 17],\n",
       "       [15,  4,  9]])"
      ]
     },
     "execution_count": 80,
     "metadata": {},
     "output_type": "execute_result"
    }
   ],
   "source": [
    "a = np.random.randint(1, 20, 12).reshape(4, 3)\n",
    "a"
   ]
  },
  {
   "cell_type": "markdown",
   "id": "b350afba",
   "metadata": {},
   "source": [
    "#### 3) adding"
   ]
  },
  {
   "cell_type": "code",
   "execution_count": 81,
   "id": "ec7013c0",
   "metadata": {},
   "outputs": [
    {
     "data": {
      "text/plain": [
       "array([[14,  4, 19],\n",
       "       [18,  1,  9],\n",
       "       [17,  4, 16],\n",
       "       [ 4, 10,  1]])"
      ]
     },
     "execution_count": 81,
     "metadata": {},
     "output_type": "execute_result"
    }
   ],
   "source": [
    "a = np.random.randint(1, 20, 12).reshape(4, 3)\n",
    "a"
   ]
  },
  {
   "cell_type": "code",
   "execution_count": 85,
   "id": "42d75526",
   "metadata": {},
   "outputs": [
    {
     "data": {
      "text/plain": [
       "array([[125, 192, 153],\n",
       "       [198, 101, 137],\n",
       "       [153, 186, 197],\n",
       "       [185, 108, 124]])"
      ]
     },
     "execution_count": 85,
     "metadata": {},
     "output_type": "execute_result"
    }
   ],
   "source": [
    "b = np.random.randint(100, 200, 12).reshape(4, 3)\n",
    "b"
   ]
  },
  {
   "cell_type": "code",
   "execution_count": 87,
   "id": "bce8403e",
   "metadata": {},
   "outputs": [
    {
     "data": {
      "text/plain": [
       "array([ 14,   4,  19,  18,   1,   9,  17,   4,  16,   4,  10,   1, 125,\n",
       "       192, 153, 198, 101, 137, 153, 186, 197, 185, 108, 124])"
      ]
     },
     "execution_count": 87,
     "metadata": {},
     "output_type": "execute_result"
    }
   ],
   "source": [
    "result = np.append(a, b)\n",
    "result"
   ]
  },
  {
   "cell_type": "code",
   "execution_count": 88,
   "id": "1c7aca86",
   "metadata": {},
   "outputs": [
    {
     "name": "stdout",
     "output_type": "stream",
     "text": [
      "The number of element in array is: 24\n"
     ]
    }
   ],
   "source": [
    "print(\"The number of element in array is:\", len(result))"
   ]
  },
  {
   "cell_type": "code",
   "execution_count": 89,
   "id": "ce6101ac",
   "metadata": {},
   "outputs": [
    {
     "data": {
      "text/plain": [
       "array([[ 14,   4,  19],\n",
       "       [ 18,   1,   9],\n",
       "       [ 17,   4,  16],\n",
       "       [  4,  10,   1],\n",
       "       [125, 192, 153],\n",
       "       [198, 101, 137],\n",
       "       [153, 186, 197],\n",
       "       [185, 108, 124]])"
      ]
     },
     "execution_count": 89,
     "metadata": {},
     "output_type": "execute_result"
    }
   ],
   "source": [
    "result = result.reshape(8, 3)\n",
    "result"
   ]
  },
  {
   "cell_type": "code",
   "execution_count": 93,
   "id": "9ddbfe03",
   "metadata": {},
   "outputs": [
    {
     "data": {
      "text/plain": [
       "array([14,  4, 19, 10, 20, 30, 50, 18,  1,  9, 17,  4, 16,  4, 10,  1])"
      ]
     },
     "execution_count": 93,
     "metadata": {},
     "output_type": "execute_result"
    }
   ],
   "source": [
    "result = np.insert(a, 3, [10, 20, 30, 50])\n",
    "result"
   ]
  },
  {
   "cell_type": "code",
   "execution_count": 94,
   "id": "0172f2e4",
   "metadata": {},
   "outputs": [
    {
     "name": "stdout",
     "output_type": "stream",
     "text": [
      "The number of element in array is: 16\n"
     ]
    }
   ],
   "source": [
    "print(\"The number of element in array is:\", len(result))"
   ]
  },
  {
   "cell_type": "code",
   "execution_count": 95,
   "id": "6f3eaf16",
   "metadata": {},
   "outputs": [
    {
     "data": {
      "text/plain": [
       "array([[14,  4, 19, 10],\n",
       "       [20, 30, 50, 18],\n",
       "       [ 1,  9, 17,  4],\n",
       "       [16,  4, 10,  1]])"
      ]
     },
     "execution_count": 95,
     "metadata": {},
     "output_type": "execute_result"
    }
   ],
   "source": [
    "result = result.reshape(4, 4)\n",
    "result"
   ]
  },
  {
   "cell_type": "code",
   "execution_count": null,
   "id": "6bdbde5e",
   "metadata": {},
   "outputs": [],
   "source": []
  }
 ],
 "metadata": {
  "kernelspec": {
   "display_name": "Python 3",
   "language": "python",
   "name": "python3"
  },
  "language_info": {
   "codemirror_mode": {
    "name": "ipython",
    "version": 3
   },
   "file_extension": ".py",
   "mimetype": "text/x-python",
   "name": "python",
   "nbconvert_exporter": "python",
   "pygments_lexer": "ipython3",
   "version": "3.6.6"
  }
 },
 "nbformat": 4,
 "nbformat_minor": 5
}
