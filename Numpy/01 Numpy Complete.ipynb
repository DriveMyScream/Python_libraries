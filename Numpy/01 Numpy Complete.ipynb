{
 "cells": [
  {
   "cell_type": "code",
   "execution_count": 1,
   "id": "7211f2ac",
   "metadata": {},
   "outputs": [],
   "source": [
    "import numpy as np"
   ]
  },
  {
   "cell_type": "markdown",
   "id": "abf97d2f",
   "metadata": {},
   "source": [
    "### numpy.array"
   ]
  },
  {
   "cell_type": "code",
   "execution_count": 2,
   "id": "ee854318",
   "metadata": {},
   "outputs": [
    {
     "data": {
      "text/plain": [
       "array([[1, 2],\n",
       "       [3, 4]])"
      ]
     },
     "execution_count": 2,
     "metadata": {},
     "output_type": "execute_result"
    }
   ],
   "source": [
    "# Two Dimension Array\n",
    "a = np.array([[1, 2], [3, 4]])\n",
    "a"
   ]
  },
  {
   "cell_type": "code",
   "execution_count": 3,
   "id": "c6bdfd66",
   "metadata": {},
   "outputs": [
    {
     "data": {
      "text/plain": [
       "array([[[1, 2, 3],\n",
       "        [4, 5, 6],\n",
       "        [7, 8, 9]]])"
      ]
     },
     "execution_count": 3,
     "metadata": {},
     "output_type": "execute_result"
    }
   ],
   "source": [
    "# Three Dimension Array\n",
    "b = np.array([[[1, 2, 3],\n",
    "              [4, 5, 6],\n",
    "              [7, 8, 9]]])\n",
    "b"
   ]
  },
  {
   "cell_type": "code",
   "execution_count": 4,
   "id": "306797bf",
   "metadata": {},
   "outputs": [
    {
     "data": {
      "text/plain": [
       "array([[1., 2., 3.],\n",
       "       [4., 5., 6.]])"
      ]
     },
     "execution_count": 4,
     "metadata": {},
     "output_type": "execute_result"
    }
   ],
   "source": [
    "# UpCastring From int to float\n",
    "a = np.array([[1, 2, 3.0], [4, 5, 6]])\n",
    "a"
   ]
  },
  {
   "cell_type": "code",
   "execution_count": 5,
   "id": "6a10c4b0",
   "metadata": {},
   "outputs": [
    {
     "data": {
      "text/plain": [
       "array([[[1, 2, 3],\n",
       "        [4, 5, 6]]])"
      ]
     },
     "execution_count": 5,
     "metadata": {},
     "output_type": "execute_result"
    }
   ],
   "source": [
    "# Changing the dimension of array from 2 dimension to 3 dimension\n",
    "a = np.array([[1, 2, 3],\n",
    "              [4, 5, 6]], ndmin=3)\n",
    "a"
   ]
  },
  {
   "cell_type": "code",
   "execution_count": 6,
   "id": "818b90fb",
   "metadata": {},
   "outputs": [
    {
     "data": {
      "text/plain": [
       "array([[1., 2., 3.],\n",
       "       [4., 5., 6.]])"
      ]
     },
     "execution_count": 6,
     "metadata": {},
     "output_type": "execute_result"
    }
   ],
   "source": [
    "# Changing the data type of array\n",
    "b = np.array([[1, 2, 3], [4, 5, 6]], dtype=float)\n",
    "b"
   ]
  },
  {
   "cell_type": "code",
   "execution_count": 7,
   "id": "d44adb8d",
   "metadata": {},
   "outputs": [
    {
     "data": {
      "text/plain": [
       "array([[1, 2, 3],\n",
       "       [4, 5, 6]], dtype=int16)"
      ]
     },
     "execution_count": 7,
     "metadata": {},
     "output_type": "execute_result"
    }
   ],
   "source": [
    "a = np.array([[1, 2, 3], [4, 5, 6]], dtype=np.int16)\n",
    "a"
   ]
  },
  {
   "cell_type": "code",
   "execution_count": 8,
   "id": "fb3441c1",
   "metadata": {},
   "outputs": [
    {
     "data": {
      "text/plain": [
       "array([[1.+0.j, 2.+0.j, 3.+0.j],\n",
       "       [4.+0.j, 5.+0.j, 6.+0.j]])"
      ]
     },
     "execution_count": 8,
     "metadata": {},
     "output_type": "execute_result"
    }
   ],
   "source": [
    "c = np.array([[1, 2, 3], [4, 5, 6]], dtype=complex)\n",
    "c"
   ]
  },
  {
   "cell_type": "code",
   "execution_count": 9,
   "id": "8e2abb7b",
   "metadata": {},
   "outputs": [],
   "source": [
    "# Changing the data type of elements: the data must be in tuple it cannot convert of list: \n",
    "# <i2 = int 16 bit\n",
    "# <i4 = int 32 bit\n",
    "# <i8 = int 64 bit"
   ]
  },
  {
   "cell_type": "code",
   "execution_count": 1,
   "id": "16fca1d6",
   "metadata": {},
   "outputs": [
    {
     "ename": "NameError",
     "evalue": "name 'np' is not defined",
     "output_type": "error",
     "traceback": [
      "\u001b[1;31m---------------------------------------------------------------------------\u001b[0m",
      "\u001b[1;31mNameError\u001b[0m                                 Traceback (most recent call last)",
      "\u001b[1;32m<ipython-input-1-5a3510d6bead>\u001b[0m in \u001b[0;36m<module>\u001b[1;34m\u001b[0m\n\u001b[1;32m----> 1\u001b[1;33m \u001b[0ma\u001b[0m \u001b[1;33m=\u001b[0m \u001b[0mnp\u001b[0m\u001b[1;33m.\u001b[0m\u001b[0marray\u001b[0m\u001b[1;33m(\u001b[0m\u001b[1;33m[\u001b[0m\u001b[1;33m(\u001b[0m\u001b[1;36m1\u001b[0m\u001b[1;33m,\u001b[0m \u001b[1;36m2\u001b[0m\u001b[1;33m,\u001b[0m \u001b[1;36m3\u001b[0m\u001b[1;33m)\u001b[0m\u001b[1;33m,\u001b[0m \u001b[1;33m(\u001b[0m\u001b[1;36m4\u001b[0m\u001b[1;33m,\u001b[0m \u001b[1;36m5\u001b[0m\u001b[1;33m,\u001b[0m \u001b[1;36m6\u001b[0m\u001b[1;33m)\u001b[0m\u001b[1;33m]\u001b[0m\u001b[1;33m,\u001b[0m \u001b[0mdtype\u001b[0m\u001b[1;33m=\u001b[0m\u001b[1;33m[\u001b[0m\u001b[1;33m(\u001b[0m\u001b[1;34m'a'\u001b[0m\u001b[1;33m,\u001b[0m \u001b[1;34m'<i2'\u001b[0m\u001b[1;33m)\u001b[0m\u001b[1;33m,\u001b[0m\u001b[1;33m(\u001b[0m\u001b[1;34m'b'\u001b[0m\u001b[1;33m,\u001b[0m \u001b[1;34m'<i4'\u001b[0m\u001b[1;33m)\u001b[0m\u001b[1;33m,\u001b[0m\u001b[1;33m(\u001b[0m\u001b[1;34m'c'\u001b[0m\u001b[1;33m,\u001b[0m \u001b[1;34m'<i8'\u001b[0m\u001b[1;33m)\u001b[0m\u001b[1;33m]\u001b[0m\u001b[1;33m)\u001b[0m\u001b[1;33m\u001b[0m\u001b[0m\n\u001b[0m\u001b[0;32m      2\u001b[0m \u001b[0ma\u001b[0m\u001b[1;33m\u001b[0m\u001b[0m\n",
      "\u001b[1;31mNameError\u001b[0m: name 'np' is not defined"
     ]
    }
   ],
   "source": [
    "a = np.array([(1, 2, 3), (4, 5, 6)], dtype=[('a', '<i2'),('b', '<i4'),('c', '<i8')])\n",
    "a"
   ]
  },
  {
   "cell_type": "code",
   "execution_count": 11,
   "id": "8884f02f",
   "metadata": {},
   "outputs": [
    {
     "name": "stdout",
     "output_type": "stream",
     "text": [
      "<class 'numpy.int16'>\n",
      "<class 'numpy.int32'>\n",
      "<class 'numpy.int64'>\n"
     ]
    }
   ],
   "source": [
    "print(type(a[0][0]))\n",
    "print(type(a[0][1]))\n",
    "print(type(a[0][2]))"
   ]
  },
  {
   "cell_type": "code",
   "execution_count": 12,
   "id": "fb9ac21f",
   "metadata": {},
   "outputs": [],
   "source": [
    "# Convert into the matrix"
   ]
  },
  {
   "cell_type": "code",
   "execution_count": 13,
   "id": "4a75707c",
   "metadata": {},
   "outputs": [
    {
     "name": "stdout",
     "output_type": "stream",
     "text": [
      "[[(1, 2, 3) (4, 5, 6)]]\n"
     ]
    }
   ],
   "source": [
    "b = np.mat(a)\n",
    "print(b)"
   ]
  },
  {
   "cell_type": "code",
   "execution_count": 14,
   "id": "e2587328",
   "metadata": {},
   "outputs": [
    {
     "data": {
      "text/plain": [
       "matrix([[1, 2, 3],\n",
       "        [4, 5, 6]])"
      ]
     },
     "execution_count": 14,
     "metadata": {},
     "output_type": "execute_result"
    }
   ],
   "source": [
    "c = np.mat([[1, 2, 3], [4, 5, 6]])\n",
    "c"
   ]
  },
  {
   "cell_type": "code",
   "execution_count": 15,
   "id": "77163710",
   "metadata": {},
   "outputs": [
    {
     "data": {
      "text/plain": [
       "True"
      ]
     },
     "execution_count": 15,
     "metadata": {},
     "output_type": "execute_result"
    }
   ],
   "source": [
    "# matrix is subclass of array\n",
    "issubclass(np.matrix, np.ndarray)"
   ]
  },
  {
   "cell_type": "code",
   "execution_count": 16,
   "id": "cb451669",
   "metadata": {},
   "outputs": [
    {
     "data": {
      "text/plain": [
       "False"
      ]
     },
     "execution_count": 16,
     "metadata": {},
     "output_type": "execute_result"
    }
   ],
   "source": [
    "# array is subclass of matrix\n",
    "issubclass(np.ndarray, np.matrix)"
   ]
  },
  {
   "cell_type": "markdown",
   "id": "a7d33443",
   "metadata": {},
   "source": [
    "## numpy.asarray"
   ]
  },
  {
   "cell_type": "markdown",
   "id": "fbf18412",
   "metadata": {},
   "source": [
    "### numpy.array is similar to numpy.asarray but there are less parameter or function in np.asarray compare with np.array"
   ]
  },
  {
   "cell_type": "code",
   "execution_count": 17,
   "id": "598ed2d8",
   "metadata": {},
   "outputs": [
    {
     "data": {
      "text/plain": [
       "array([[1, 2, 3],\n",
       "       [4, 5, 6]])"
      ]
     },
     "execution_count": 17,
     "metadata": {},
     "output_type": "execute_result"
    }
   ],
   "source": [
    "a = np.asarray([[1, 2, 3], [4, 5, 6]])\n",
    "a"
   ]
  },
  {
   "cell_type": "code",
   "execution_count": 18,
   "id": "b1be7b6d",
   "metadata": {},
   "outputs": [
    {
     "data": {
      "text/plain": [
       "numpy.ndarray"
      ]
     },
     "execution_count": 18,
     "metadata": {},
     "output_type": "execute_result"
    }
   ],
   "source": [
    "type(a)"
   ]
  },
  {
   "cell_type": "code",
   "execution_count": 19,
   "id": "6a4fed48",
   "metadata": {},
   "outputs": [
    {
     "data": {
      "text/plain": [
       "array([[1., 2., 3.],\n",
       "       [4., 5., 6.]], dtype=float32)"
      ]
     },
     "execution_count": 19,
     "metadata": {},
     "output_type": "execute_result"
    }
   ],
   "source": [
    "a = np.asarray([[1, 2, 3], [4, 5, 6]], dtype=np.float32)\n",
    "a"
   ]
  },
  {
   "cell_type": "code",
   "execution_count": 20,
   "id": "bfa395b8",
   "metadata": {},
   "outputs": [
    {
     "data": {
      "text/plain": [
       "array([[1, 2, 3],\n",
       "       [4, 5, 6]])"
      ]
     },
     "execution_count": 20,
     "metadata": {},
     "output_type": "execute_result"
    }
   ],
   "source": [
    "b = np.asarray(((1, 2, 3), (4, 5, 6)))\n",
    "b"
   ]
  },
  {
   "cell_type": "code",
   "execution_count": 21,
   "id": "55806fd0",
   "metadata": {},
   "outputs": [],
   "source": [
    "# Cheack equality operation"
   ]
  },
  {
   "cell_type": "code",
   "execution_count": 22,
   "id": "43960f7c",
   "metadata": {},
   "outputs": [
    {
     "data": {
      "text/plain": [
       "False"
      ]
     },
     "execution_count": 22,
     "metadata": {},
     "output_type": "execute_result"
    }
   ],
   "source": [
    "a is b"
   ]
  },
  {
   "cell_type": "code",
   "execution_count": 23,
   "id": "596dde7d",
   "metadata": {},
   "outputs": [],
   "source": [
    "a = np.array([[1, 2, 3], [4, 5, 6]])"
   ]
  },
  {
   "cell_type": "code",
   "execution_count": 24,
   "id": "29d123e3",
   "metadata": {},
   "outputs": [],
   "source": [
    "b = np.array([[1, 2, 3], [4, 5, 6]])"
   ]
  },
  {
   "cell_type": "code",
   "execution_count": 25,
   "id": "93b2f5e6",
   "metadata": {},
   "outputs": [
    {
     "data": {
      "text/plain": [
       "False"
      ]
     },
     "execution_count": 25,
     "metadata": {},
     "output_type": "execute_result"
    }
   ],
   "source": [
    "a is b"
   ]
  },
  {
   "cell_type": "markdown",
   "id": "1014dda2",
   "metadata": {},
   "source": [
    "## numpy.asanyarray"
   ]
  },
  {
   "cell_type": "markdown",
   "id": "db45d822",
   "metadata": {},
   "source": [
    "### it is try to convert your data in the from of array, if data set available in non array format. if data set is already present in the from of array it will not convert int into the array. because the matrix is subclass of array"
   ]
  },
  {
   "cell_type": "code",
   "execution_count": 26,
   "id": "53e670ed",
   "metadata": {},
   "outputs": [
    {
     "data": {
      "text/plain": [
       "matrix([[1, 2, 3],\n",
       "        [4, 5, 6]])"
      ]
     },
     "execution_count": 26,
     "metadata": {},
     "output_type": "execute_result"
    }
   ],
   "source": [
    "a = np.mat([[1, 2, 3], [4, 5, 6]])\n",
    "a"
   ]
  },
  {
   "cell_type": "code",
   "execution_count": 27,
   "id": "185bf94b",
   "metadata": {},
   "outputs": [
    {
     "data": {
      "text/plain": [
       "array([[1, 2, 3],\n",
       "       [4, 5, 6]])"
      ]
     },
     "execution_count": 27,
     "metadata": {},
     "output_type": "execute_result"
    }
   ],
   "source": [
    "b = np.array(a)\n",
    "b"
   ]
  },
  {
   "cell_type": "code",
   "execution_count": 28,
   "id": "6cf5b56f",
   "metadata": {},
   "outputs": [
    {
     "data": {
      "text/plain": [
       "array([[1, 2, 3],\n",
       "       [4, 5, 6]])"
      ]
     },
     "execution_count": 28,
     "metadata": {},
     "output_type": "execute_result"
    }
   ],
   "source": [
    "c = np.asarray(b)\n",
    "c"
   ]
  },
  {
   "cell_type": "code",
   "execution_count": 29,
   "id": "39d48c54",
   "metadata": {},
   "outputs": [
    {
     "data": {
      "text/plain": [
       "matrix([[1, 2, 3],\n",
       "        [4, 5, 6]])"
      ]
     },
     "execution_count": 29,
     "metadata": {},
     "output_type": "execute_result"
    }
   ],
   "source": [
    "d = np.asanyarray(a)\n",
    "d"
   ]
  },
  {
   "cell_type": "markdown",
   "id": "262dda00",
   "metadata": {},
   "source": [
    "### Deep copy and Shallo copy"
   ]
  },
  {
   "cell_type": "code",
   "execution_count": 30,
   "id": "2f8339cb",
   "metadata": {},
   "outputs": [
    {
     "data": {
      "text/plain": [
       "array([[1, 2, 3],\n",
       "       [4, 5, 6]])"
      ]
     },
     "execution_count": 30,
     "metadata": {},
     "output_type": "execute_result"
    }
   ],
   "source": [
    "a = np.array([[1, 2, 3], [4, 5, 6]])\n",
    "a"
   ]
  },
  {
   "cell_type": "code",
   "execution_count": 31,
   "id": "0185aaa9",
   "metadata": {},
   "outputs": [],
   "source": [
    "# shallo Copy: changes in b is also show changes in a, refefance of variable of a is pass\n",
    "b = a"
   ]
  },
  {
   "cell_type": "code",
   "execution_count": 32,
   "id": "49890e74",
   "metadata": {},
   "outputs": [
    {
     "data": {
      "text/plain": [
       "array([[1, 2, 3],\n",
       "       [4, 5, 6]])"
      ]
     },
     "execution_count": 32,
     "metadata": {},
     "output_type": "execute_result"
    }
   ],
   "source": [
    "b"
   ]
  },
  {
   "cell_type": "code",
   "execution_count": 33,
   "id": "71e29cf4",
   "metadata": {},
   "outputs": [],
   "source": [
    "b[0][0] = 100\n",
    "b[0][1] = 200\n",
    "b[0][2] = 300"
   ]
  },
  {
   "cell_type": "code",
   "execution_count": 34,
   "id": "d4a07ca5",
   "metadata": {},
   "outputs": [
    {
     "data": {
      "text/plain": [
       "array([[100, 200, 300],\n",
       "       [  4,   5,   6]])"
      ]
     },
     "execution_count": 34,
     "metadata": {},
     "output_type": "execute_result"
    }
   ],
   "source": [
    "b"
   ]
  },
  {
   "cell_type": "code",
   "execution_count": 35,
   "id": "d01b6360",
   "metadata": {},
   "outputs": [
    {
     "data": {
      "text/plain": [
       "array([[100, 200, 300],\n",
       "       [  4,   5,   6]])"
      ]
     },
     "execution_count": 35,
     "metadata": {},
     "output_type": "execute_result"
    }
   ],
   "source": [
    "a"
   ]
  },
  {
   "cell_type": "code",
   "execution_count": 36,
   "id": "3f27770d",
   "metadata": {},
   "outputs": [
    {
     "data": {
      "text/plain": [
       "array([[1, 2, 3],\n",
       "       [4, 5, 6]])"
      ]
     },
     "execution_count": 36,
     "metadata": {},
     "output_type": "execute_result"
    }
   ],
   "source": [
    "a = np.array([[1, 2, 3], [4, 5, 6]])\n",
    "a"
   ]
  },
  {
   "cell_type": "code",
   "execution_count": 37,
   "id": "a67c0896",
   "metadata": {},
   "outputs": [],
   "source": [
    "# deep copy: it create a seperate variable and store into it\n",
    "c = a.copy() # c = np.copy(a)"
   ]
  },
  {
   "cell_type": "code",
   "execution_count": 38,
   "id": "fb3da62f",
   "metadata": {},
   "outputs": [
    {
     "data": {
      "text/plain": [
       "array([[100, 200, 300],\n",
       "       [  4,   5,   6]])"
      ]
     },
     "execution_count": 38,
     "metadata": {},
     "output_type": "execute_result"
    }
   ],
   "source": [
    "b"
   ]
  },
  {
   "cell_type": "code",
   "execution_count": 39,
   "id": "c93c9561",
   "metadata": {},
   "outputs": [],
   "source": [
    "b[0][0] = 1000\n",
    "b[0][1] = 2000\n",
    "b[0][2] = 3000"
   ]
  },
  {
   "cell_type": "code",
   "execution_count": 40,
   "id": "362b3e62",
   "metadata": {},
   "outputs": [
    {
     "data": {
      "text/plain": [
       "array([[1000, 2000, 3000],\n",
       "       [   4,    5,    6]])"
      ]
     },
     "execution_count": 40,
     "metadata": {},
     "output_type": "execute_result"
    }
   ],
   "source": [
    "b"
   ]
  },
  {
   "cell_type": "code",
   "execution_count": 41,
   "id": "3c39f243",
   "metadata": {},
   "outputs": [
    {
     "data": {
      "text/plain": [
       "array([[1, 2, 3],\n",
       "       [4, 5, 6]])"
      ]
     },
     "execution_count": 41,
     "metadata": {},
     "output_type": "execute_result"
    }
   ],
   "source": [
    "a"
   ]
  },
  {
   "cell_type": "markdown",
   "id": "b60fe4e7",
   "metadata": {},
   "source": [
    "### From function"
   ]
  },
  {
   "cell_type": "code",
   "execution_count": 42,
   "id": "923f220d",
   "metadata": {},
   "outputs": [
    {
     "data": {
      "text/plain": [
       "array([[ True, False, False],\n",
       "       [False,  True, False],\n",
       "       [False, False,  True]])"
      ]
     },
     "execution_count": 42,
     "metadata": {},
     "output_type": "execute_result"
    }
   ],
   "source": [
    "a = np.fromfunction(lambda x, y: x == y, (3, 3), dtype=int)\n",
    "a"
   ]
  },
  {
   "cell_type": "code",
   "execution_count": 43,
   "id": "ffed08c9",
   "metadata": {},
   "outputs": [
    {
     "data": {
      "text/plain": [
       "array([[0, 1, 2],\n",
       "       [1, 2, 3],\n",
       "       [2, 3, 4]])"
      ]
     },
     "execution_count": 43,
     "metadata": {},
     "output_type": "execute_result"
    }
   ],
   "source": [
    "b = np.fromfunction(lambda x, y : x + y, (3, 3), dtype=int)\n",
    "b"
   ]
  },
  {
   "cell_type": "code",
   "execution_count": 44,
   "id": "1fbc042d",
   "metadata": {},
   "outputs": [
    {
     "data": {
      "text/plain": [
       "array([[[0, 1, 2],\n",
       "        [1, 2, 3],\n",
       "        [2, 3, 4]],\n",
       "\n",
       "       [[1, 2, 3],\n",
       "        [2, 3, 4],\n",
       "        [3, 4, 5]],\n",
       "\n",
       "       [[2, 3, 4],\n",
       "        [3, 4, 5],\n",
       "        [4, 5, 6]]])"
      ]
     },
     "execution_count": 44,
     "metadata": {},
     "output_type": "execute_result"
    }
   ],
   "source": [
    "c = np.fromfunction(lambda x, y, z: x + y + z, (3, 3, 3), dtype=int)\n",
    "c"
   ]
  },
  {
   "cell_type": "code",
   "execution_count": 45,
   "id": "93881d75",
   "metadata": {},
   "outputs": [
    {
     "data": {
      "text/plain": [
       "array([[[[0, 1, 2],\n",
       "         [1, 2, 3],\n",
       "         [2, 3, 4]],\n",
       "\n",
       "        [[1, 2, 3],\n",
       "         [2, 3, 4],\n",
       "         [3, 4, 5]],\n",
       "\n",
       "        [[2, 3, 4],\n",
       "         [3, 4, 5],\n",
       "         [4, 5, 6]]],\n",
       "\n",
       "\n",
       "       [[[1, 2, 3],\n",
       "         [2, 3, 4],\n",
       "         [3, 4, 5]],\n",
       "\n",
       "        [[2, 3, 4],\n",
       "         [3, 4, 5],\n",
       "         [4, 5, 6]],\n",
       "\n",
       "        [[3, 4, 5],\n",
       "         [4, 5, 6],\n",
       "         [5, 6, 7]]],\n",
       "\n",
       "\n",
       "       [[[2, 3, 4],\n",
       "         [3, 4, 5],\n",
       "         [4, 5, 6]],\n",
       "\n",
       "        [[3, 4, 5],\n",
       "         [4, 5, 6],\n",
       "         [5, 6, 7]],\n",
       "\n",
       "        [[4, 5, 6],\n",
       "         [5, 6, 7],\n",
       "         [6, 7, 8]]]])"
      ]
     },
     "execution_count": 45,
     "metadata": {},
     "output_type": "execute_result"
    }
   ],
   "source": [
    "d = np.fromfunction(lambda a, b, c, d: a + b + c + d, (3, 3, 3, 3), dtype=int)\n",
    "d"
   ]
  },
  {
   "cell_type": "markdown",
   "id": "0ee70cdb",
   "metadata": {},
   "source": [
    "### iterater and generater functions in numpy"
   ]
  },
  {
   "cell_type": "code",
   "execution_count": 46,
   "id": "48e94e1e",
   "metadata": {},
   "outputs": [
    {
     "data": {
      "text/plain": [
       "<generator object <genexpr> at 0x0000024E625FA938>"
      ]
     },
     "execution_count": 46,
     "metadata": {},
     "output_type": "execute_result"
    }
   ],
   "source": [
    "generator = (i*i for i in range(5))\n",
    "generator"
   ]
  },
  {
   "cell_type": "code",
   "execution_count": 47,
   "id": "81cdfd32",
   "metadata": {},
   "outputs": [
    {
     "data": {
      "text/plain": [
       "array([ 0,  1,  4,  9, 16])"
      ]
     },
     "execution_count": 47,
     "metadata": {},
     "output_type": "execute_result"
    }
   ],
   "source": [
    "np.fromiter(generator, int)"
   ]
  },
  {
   "cell_type": "markdown",
   "id": "d873b56d",
   "metadata": {},
   "source": [
    "### Converting string into numpy array"
   ]
  },
  {
   "cell_type": "code",
   "execution_count": 48,
   "id": "153aca74",
   "metadata": {},
   "outputs": [],
   "source": [
    "a = \"1, 2, 3, 4, 5, 6\""
   ]
  },
  {
   "cell_type": "code",
   "execution_count": 49,
   "id": "c534bb93",
   "metadata": {},
   "outputs": [
    {
     "data": {
      "text/plain": [
       "array([1, 2, 3, 4, 5, 6])"
      ]
     },
     "execution_count": 49,
     "metadata": {},
     "output_type": "execute_result"
    }
   ],
   "source": [
    "result = np.fromstring(a, sep=\",\", dtype=int)\n",
    "result"
   ]
  },
  {
   "cell_type": "code",
   "execution_count": 50,
   "id": "d7c005bb",
   "metadata": {},
   "outputs": [],
   "source": [
    "b = \"420 430 440 450 460\""
   ]
  },
  {
   "cell_type": "code",
   "execution_count": 51,
   "id": "07dff085",
   "metadata": {},
   "outputs": [
    {
     "data": {
      "text/plain": [
       "array([420, 430, 440, 450, 460])"
      ]
     },
     "execution_count": 51,
     "metadata": {},
     "output_type": "execute_result"
    }
   ],
   "source": [
    "result = np.fromstring(b, sep=\" \", dtype=int)\n",
    "result"
   ]
  },
  {
   "cell_type": "markdown",
   "id": "2dd5c155",
   "metadata": {},
   "source": [
    "####"
   ]
  },
  {
   "cell_type": "code",
   "execution_count": 52,
   "id": "86474014",
   "metadata": {},
   "outputs": [],
   "source": [
    "x1 = np.array([1, 2, 3, 4, 5])\n",
    "x2 = np.array([\"aa\", \"bb\", \"cc\", \"dd\", \"ee\"])\n",
    "x3 = np.array([1.1, 2.2, 3.3, 4.4, 5.5])\n",
    "x4 = np.array([1.11, 2.22, 3.33, 4.44, 5.55])"
   ]
  },
  {
   "cell_type": "code",
   "execution_count": 53,
   "id": "13b68aaf",
   "metadata": {},
   "outputs": [
    {
     "data": {
      "text/plain": [
       "rec.array([(1, 'aa', 1.1, 1.11), (2, 'bb', 2.2, 2.22),\n",
       "           (3, 'cc', 3.3, 3.33), (4, 'dd', 4.4, 4.44),\n",
       "           (5, 'ee', 5.5, 5.55)],\n",
       "          dtype=[('a', '<i4'), ('b', '<U2'), ('c', '<f8'), ('d', '<f8')])"
      ]
     },
     "execution_count": 53,
     "metadata": {},
     "output_type": "execute_result"
    }
   ],
   "source": [
    "result = np.core.records.fromarrays([x1, x2, x3, x4], names='a, b, c, d')\n",
    "result"
   ]
  },
  {
   "cell_type": "code",
   "execution_count": 54,
   "id": "420b242f",
   "metadata": {},
   "outputs": [
    {
     "data": {
      "text/plain": [
       "2"
      ]
     },
     "execution_count": 54,
     "metadata": {},
     "output_type": "execute_result"
    }
   ],
   "source": [
    "result[1][0]"
   ]
  },
  {
   "cell_type": "code",
   "execution_count": 55,
   "id": "55b24dd1",
   "metadata": {},
   "outputs": [
    {
     "data": {
      "text/plain": [
       "'bb'"
      ]
     },
     "execution_count": 55,
     "metadata": {},
     "output_type": "execute_result"
    }
   ],
   "source": [
    "result[1][1]"
   ]
  },
  {
   "cell_type": "markdown",
   "id": "5626f61a",
   "metadata": {},
   "source": [
    "### arange"
   ]
  },
  {
   "cell_type": "code",
   "execution_count": 56,
   "id": "2567ae37",
   "metadata": {},
   "outputs": [
    {
     "data": {
      "text/plain": [
       "[1, 2, 3, 4, 5, 6, 7, 8, 9, 10]"
      ]
     },
     "execution_count": 56,
     "metadata": {},
     "output_type": "execute_result"
    }
   ],
   "source": [
    "a = list(range(1, 11))\n",
    "a"
   ]
  },
  {
   "cell_type": "code",
   "execution_count": 57,
   "id": "b88d1ed9",
   "metadata": {},
   "outputs": [],
   "source": [
    "# this shows an error because the floting point number is not consider in python range function\n",
    "# b = list(range(1, 10, 1.5))\n",
    "# b"
   ]
  },
  {
   "cell_type": "code",
   "execution_count": 58,
   "id": "4d5a701a",
   "metadata": {},
   "outputs": [
    {
     "data": {
      "text/plain": [
       "array([ 1,  2,  3,  4,  5,  6,  7,  8,  9, 10])"
      ]
     },
     "execution_count": 58,
     "metadata": {},
     "output_type": "execute_result"
    }
   ],
   "source": [
    "a = np.arange(1, 11)\n",
    "a"
   ]
  },
  {
   "cell_type": "code",
   "execution_count": 59,
   "id": "92943ece",
   "metadata": {},
   "outputs": [
    {
     "data": {
      "text/plain": [
       "array([1. , 2.5, 4. , 5.5, 7. , 8.5])"
      ]
     },
     "execution_count": 59,
     "metadata": {},
     "output_type": "execute_result"
    }
   ],
   "source": [
    "b = np.arange(1, 10, 1.5)\n",
    "b"
   ]
  },
  {
   "cell_type": "markdown",
   "id": "a34cb849",
   "metadata": {},
   "source": [
    "### linspace: linearly space elements (start, end, count_of_numbers)"
   ]
  },
  {
   "cell_type": "code",
   "execution_count": 60,
   "id": "ca87860d",
   "metadata": {},
   "outputs": [
    {
     "data": {
      "text/plain": [
       "array([ 1,  2,  3,  4,  5,  6,  7,  8,  9, 10])"
      ]
     },
     "execution_count": 60,
     "metadata": {},
     "output_type": "execute_result"
    }
   ],
   "source": [
    "a = np.linspace(1, 10, 10, dtype=int)\n",
    "a"
   ]
  },
  {
   "cell_type": "code",
   "execution_count": 61,
   "id": "17eedf19",
   "metadata": {},
   "outputs": [
    {
     "data": {
      "text/plain": [
       "array([ 1,  3,  5,  7,  9, 11, 13, 15, 17, 20])"
      ]
     },
     "execution_count": 61,
     "metadata": {},
     "output_type": "execute_result"
    }
   ],
   "source": [
    "b = np.linspace(1, 20, 10, dtype=int)\n",
    "b"
   ]
  },
  {
   "cell_type": "code",
   "execution_count": 62,
   "id": "37122cb8",
   "metadata": {},
   "outputs": [
    {
     "data": {
      "text/plain": [
       "array([ 1,  3,  6,  9, 12, 15, 18, 21, 24, 27])"
      ]
     },
     "execution_count": 62,
     "metadata": {},
     "output_type": "execute_result"
    }
   ],
   "source": [
    "# it will not consider a end point\n",
    "c = np.linspace(1, 30, 10, dtype=int, endpoint=False)\n",
    "c"
   ]
  },
  {
   "cell_type": "code",
   "execution_count": 63,
   "id": "ffeef19a",
   "metadata": {},
   "outputs": [
    {
     "data": {
      "text/plain": [
       "(array([ 1.        ,  4.22222222,  7.44444444, 10.66666667, 13.88888889,\n",
       "        17.11111111, 20.33333333, 23.55555556, 26.77777778, 30.        ]),\n",
       " 3.2222222222222223)"
      ]
     },
     "execution_count": 63,
     "metadata": {},
     "output_type": "execute_result"
    }
   ],
   "source": [
    "# print what steaps it will take\n",
    "d = np.linspace(1, 30, num=10, retstep=True)\n",
    "d"
   ]
  },
  {
   "cell_type": "markdown",
   "id": "f0edd525",
   "metadata": {},
   "source": [
    "### logspace: it will space elements in logrithematic order (start, end, num_count, base=10(default))"
   ]
  },
  {
   "cell_type": "code",
   "execution_count": 64,
   "id": "87c178fc",
   "metadata": {},
   "outputs": [
    {
     "data": {
      "text/plain": [
       "array([1.00000000e+01, 2.78255940e+01, 7.74263683e+01, 2.15443469e+02,\n",
       "       5.99484250e+02, 1.66810054e+03, 4.64158883e+03, 1.29154967e+04,\n",
       "       3.59381366e+04, 1.00000000e+05])"
      ]
     },
     "execution_count": 64,
     "metadata": {},
     "output_type": "execute_result"
    }
   ],
   "source": [
    "a = np.logspace(1, 5, 10)\n",
    "a"
   ]
  },
  {
   "cell_type": "code",
   "execution_count": 65,
   "id": "a73c99da",
   "metadata": {},
   "outputs": [
    {
     "data": {
      "text/plain": [
       "array([ 2.,  4.,  8., 16., 32.])"
      ]
     },
     "execution_count": 65,
     "metadata": {},
     "output_type": "execute_result"
    }
   ],
   "source": [
    "b = np.logspace(1, 5, num=5, base=2)\n",
    "b"
   ]
  },
  {
   "cell_type": "code",
   "execution_count": 66,
   "id": "44d50a24",
   "metadata": {},
   "outputs": [
    {
     "data": {
      "text/plain": [
       "array([1.00000000e+01, 6.30957344e+01, 3.98107171e+02, 2.51188643e+03,\n",
       "       1.58489319e+04])"
      ]
     },
     "execution_count": 66,
     "metadata": {},
     "output_type": "execute_result"
    }
   ],
   "source": [
    "c = np.logspace(1, 5, num=5, endpoint=False)\n",
    "c"
   ]
  },
  {
   "cell_type": "code",
   "execution_count": 67,
   "id": "fc56cb26",
   "metadata": {},
   "outputs": [
    {
     "data": {
      "text/plain": [
       "1.0986122886681098"
      ]
     },
     "execution_count": 67,
     "metadata": {},
     "output_type": "execute_result"
    }
   ],
   "source": [
    "d = np.log(3)\n",
    "d"
   ]
  },
  {
   "cell_type": "code",
   "execution_count": 68,
   "id": "9ca08355",
   "metadata": {},
   "outputs": [
    {
     "data": {
      "text/plain": [
       "0.47712125471966244"
      ]
     },
     "execution_count": 68,
     "metadata": {},
     "output_type": "execute_result"
    }
   ],
   "source": [
    "d = np.log10(3)\n",
    "d"
   ]
  },
  {
   "cell_type": "markdown",
   "id": "b418ef83",
   "metadata": {},
   "source": [
    "### array creation zeros and ones and identity matrix"
   ]
  },
  {
   "cell_type": "code",
   "execution_count": 69,
   "id": "c765ea7d",
   "metadata": {},
   "outputs": [
    {
     "data": {
      "text/plain": [
       "array([0, 0, 0, 0, 0])"
      ]
     },
     "execution_count": 69,
     "metadata": {},
     "output_type": "execute_result"
    }
   ],
   "source": [
    "a = np.zeros(5, dtype=int)\n",
    "a"
   ]
  },
  {
   "cell_type": "code",
   "execution_count": 70,
   "id": "a1002575",
   "metadata": {},
   "outputs": [
    {
     "data": {
      "text/plain": [
       "array([[0, 0, 0],\n",
       "       [0, 0, 0],\n",
       "       [0, 0, 0]])"
      ]
     },
     "execution_count": 70,
     "metadata": {},
     "output_type": "execute_result"
    }
   ],
   "source": [
    "b = np.zeros((3, 3), dtype=int)\n",
    "b"
   ]
  },
  {
   "cell_type": "code",
   "execution_count": 71,
   "id": "4beb739e",
   "metadata": {},
   "outputs": [
    {
     "data": {
      "text/plain": [
       "array([[[0, 0, 0],\n",
       "        [0, 0, 0],\n",
       "        [0, 0, 0]],\n",
       "\n",
       "       [[0, 0, 0],\n",
       "        [0, 0, 0],\n",
       "        [0, 0, 0]],\n",
       "\n",
       "       [[0, 0, 0],\n",
       "        [0, 0, 0],\n",
       "        [0, 0, 0]]])"
      ]
     },
     "execution_count": 71,
     "metadata": {},
     "output_type": "execute_result"
    }
   ],
   "source": [
    "c = np.zeros((3, 3, 3), dtype=int)\n",
    "c"
   ]
  },
  {
   "cell_type": "code",
   "execution_count": 72,
   "id": "a117cbdf",
   "metadata": {},
   "outputs": [
    {
     "data": {
      "text/plain": [
       "array([1, 1, 1, 1, 1])"
      ]
     },
     "execution_count": 72,
     "metadata": {},
     "output_type": "execute_result"
    }
   ],
   "source": [
    "d = np.ones(5, dtype=int)\n",
    "d"
   ]
  },
  {
   "cell_type": "code",
   "execution_count": 73,
   "id": "6e4a61ce",
   "metadata": {},
   "outputs": [
    {
     "data": {
      "text/plain": [
       "array([[1, 1, 1],\n",
       "       [1, 1, 1],\n",
       "       [1, 1, 1]])"
      ]
     },
     "execution_count": 73,
     "metadata": {},
     "output_type": "execute_result"
    }
   ],
   "source": [
    "e = np.ones((3, 3), dtype=int)\n",
    "e"
   ]
  },
  {
   "cell_type": "code",
   "execution_count": 74,
   "id": "3d079267",
   "metadata": {},
   "outputs": [
    {
     "data": {
      "text/plain": [
       "array([[[1, 1, 1],\n",
       "        [1, 1, 1],\n",
       "        [1, 1, 1]],\n",
       "\n",
       "       [[1, 1, 1],\n",
       "        [1, 1, 1],\n",
       "        [1, 1, 1]],\n",
       "\n",
       "       [[1, 1, 1],\n",
       "        [1, 1, 1],\n",
       "        [1, 1, 1]]])"
      ]
     },
     "execution_count": 74,
     "metadata": {},
     "output_type": "execute_result"
    }
   ],
   "source": [
    "f = np.ones((3, 3, 3), dtype=int)\n",
    "f"
   ]
  },
  {
   "cell_type": "code",
   "execution_count": 75,
   "id": "c602476a",
   "metadata": {},
   "outputs": [
    {
     "data": {
      "text/plain": [
       "array([[6, 6, 6],\n",
       "       [6, 6, 6],\n",
       "       [6, 6, 6]])"
      ]
     },
     "execution_count": 75,
     "metadata": {},
     "output_type": "execute_result"
    }
   ],
   "source": [
    "a = 5 + np.ones((3, 3), dtype=int)\n",
    "a"
   ]
  },
  {
   "cell_type": "code",
   "execution_count": 76,
   "id": "34661be4",
   "metadata": {},
   "outputs": [
    {
     "data": {
      "text/plain": [
       "array([[5, 5, 5],\n",
       "       [5, 5, 5],\n",
       "       [5, 5, 5]])"
      ]
     },
     "execution_count": 76,
     "metadata": {},
     "output_type": "execute_result"
    }
   ],
   "source": [
    "b = 5 * np.ones((3, 3), dtype=int)\n",
    "b"
   ]
  },
  {
   "cell_type": "markdown",
   "id": "997152d5",
   "metadata": {},
   "source": [
    "### Empty array: it will generate random numbers array"
   ]
  },
  {
   "cell_type": "code",
   "execution_count": 77,
   "id": "702b90e7",
   "metadata": {},
   "outputs": [
    {
     "data": {
      "text/plain": [
       "array([[1, 1, 1],\n",
       "       [1, 1, 1],\n",
       "       [1, 1, 1]])"
      ]
     },
     "execution_count": 77,
     "metadata": {},
     "output_type": "execute_result"
    }
   ],
   "source": [
    "a = np.empty((3, 3), dtype=int)\n",
    "a"
   ]
  },
  {
   "cell_type": "markdown",
   "id": "126789a8",
   "metadata": {},
   "source": [
    "### Problem no. 1"
   ]
  },
  {
   "cell_type": "code",
   "execution_count": 78,
   "id": "0a514060",
   "metadata": {},
   "outputs": [
    {
     "data": {
      "text/plain": [
       "array([[[5., 5., 5., 5., 5., 5., 5., 5.],\n",
       "        [5., 5., 5., 5., 5., 5., 5., 5.],\n",
       "        [5., 5., 5., 5., 5., 5., 5., 5.],\n",
       "        [5., 5., 5., 5., 5., 5., 5., 5.]],\n",
       "\n",
       "       [[5., 5., 5., 5., 5., 5., 5., 5.],\n",
       "        [5., 5., 5., 5., 5., 5., 5., 5.],\n",
       "        [5., 5., 5., 5., 5., 5., 5., 5.],\n",
       "        [5., 5., 5., 5., 5., 5., 5., 5.]],\n",
       "\n",
       "       [[5., 5., 5., 5., 5., 5., 5., 5.],\n",
       "        [5., 5., 5., 5., 5., 5., 5., 5.],\n",
       "        [5., 5., 5., 5., 5., 5., 5., 5.],\n",
       "        [5., 5., 5., 5., 5., 5., 5., 5.]]])"
      ]
     },
     "execution_count": 78,
     "metadata": {},
     "output_type": "execute_result"
    }
   ],
   "source": [
    "a = 5 + np.zeros((3, 4, 8))\n",
    "a"
   ]
  },
  {
   "cell_type": "code",
   "execution_count": 79,
   "id": "bc03eaa4",
   "metadata": {},
   "outputs": [
    {
     "data": {
      "text/plain": [
       "array([[[10., 10., 10., 10., 10., 10., 10., 10.],\n",
       "        [10., 10., 10., 10., 10., 10., 10., 10.],\n",
       "        [10., 10., 10., 10., 10., 10., 10., 10.],\n",
       "        [10., 10., 10., 10., 10., 10., 10., 10.]],\n",
       "\n",
       "       [[10., 10., 10., 10., 10., 10., 10., 10.],\n",
       "        [10., 10., 10., 10., 10., 10., 10., 10.],\n",
       "        [10., 10., 10., 10., 10., 10., 10., 10.],\n",
       "        [10., 10., 10., 10., 10., 10., 10., 10.]],\n",
       "\n",
       "       [[10., 10., 10., 10., 10., 10., 10., 10.],\n",
       "        [10., 10., 10., 10., 10., 10., 10., 10.],\n",
       "        [10., 10., 10., 10., 10., 10., 10., 10.],\n",
       "        [10., 10., 10., 10., 10., 10., 10., 10.]]])"
      ]
     },
     "execution_count": 79,
     "metadata": {},
     "output_type": "execute_result"
    }
   ],
   "source": [
    "result = np.multiply(a, 2)\n",
    "result"
   ]
  },
  {
   "cell_type": "markdown",
   "id": "3d2fcbc9",
   "metadata": {},
   "source": [
    "### Problem no.2"
   ]
  },
  {
   "cell_type": "code",
   "execution_count": 80,
   "id": "aaae0277",
   "metadata": {},
   "outputs": [
    {
     "data": {
      "text/plain": [
       "array([4.        , 4.05063291, 4.10126582, 4.15189873, 4.20253165,\n",
       "       4.25316456, 4.30379747, 4.35443038, 4.40506329, 4.4556962 ,\n",
       "       4.50632911, 4.55696203, 4.60759494, 4.65822785, 4.70886076,\n",
       "       4.75949367, 4.81012658, 4.86075949, 4.91139241, 4.96202532,\n",
       "       5.01265823, 5.06329114, 5.11392405, 5.16455696, 5.21518987,\n",
       "       5.26582278, 5.3164557 , 5.36708861, 5.41772152, 5.46835443,\n",
       "       5.51898734, 5.56962025, 5.62025316, 5.67088608, 5.72151899,\n",
       "       5.7721519 , 5.82278481, 5.87341772, 5.92405063, 5.97468354,\n",
       "       6.02531646, 6.07594937, 6.12658228, 6.17721519, 6.2278481 ,\n",
       "       6.27848101, 6.32911392, 6.37974684, 6.43037975, 6.48101266,\n",
       "       6.53164557, 6.58227848, 6.63291139, 6.6835443 , 6.73417722,\n",
       "       6.78481013, 6.83544304, 6.88607595, 6.93670886, 6.98734177,\n",
       "       7.03797468, 7.08860759, 7.13924051, 7.18987342, 7.24050633,\n",
       "       7.29113924, 7.34177215, 7.39240506, 7.44303797, 7.49367089,\n",
       "       7.5443038 , 7.59493671, 7.64556962, 7.69620253, 7.74683544,\n",
       "       7.79746835, 7.84810127, 7.89873418, 7.94936709, 8.        ])"
      ]
     },
     "execution_count": 80,
     "metadata": {},
     "output_type": "execute_result"
    }
   ],
   "source": [
    "a = np.linspace(4, 8, 80)\n",
    "a"
   ]
  },
  {
   "cell_type": "markdown",
   "id": "63885e0b",
   "metadata": {},
   "source": [
    "### Problem no.3"
   ]
  },
  {
   "cell_type": "code",
   "execution_count": 81,
   "id": "8bfb04de",
   "metadata": {},
   "outputs": [
    {
     "data": {
      "text/plain": [
       "'1 2 3 4 5 6 7 8 9 10'"
      ]
     },
     "execution_count": 81,
     "metadata": {},
     "output_type": "execute_result"
    }
   ],
   "source": [
    "a = \"1 2 3 4 5 6 7 8 9 10\"\n",
    "a"
   ]
  },
  {
   "cell_type": "code",
   "execution_count": 82,
   "id": "d9c341eb",
   "metadata": {},
   "outputs": [
    {
     "data": {
      "text/plain": [
       "array([ 1,  2,  3,  4,  5,  6,  7,  8,  9, 10])"
      ]
     },
     "execution_count": 82,
     "metadata": {},
     "output_type": "execute_result"
    }
   ],
   "source": [
    "result = np.fromstring(a, sep=\" \", dtype=int)\n",
    "result"
   ]
  },
  {
   "cell_type": "markdown",
   "id": "86d1603d",
   "metadata": {},
   "source": [
    "#### Problem no4"
   ]
  },
  {
   "cell_type": "code",
   "execution_count": 83,
   "id": "8b8c594f",
   "metadata": {},
   "outputs": [
    {
     "name": "stdout",
     "output_type": "stream",
     "text": [
      "The dimension of array is  3\n",
      "The size of array is:  40\n",
      "The shape of array is:  (4, 5, 2)\n",
      "The length of array is:  4\n",
      "The data type of array is:  float64\n"
     ]
    }
   ],
   "source": [
    "a = np.zeros((4, 5, 2))\n",
    "print(\"The dimension of array is \", np.ndim(a))\n",
    "print(\"The size of array is: \", np.size(a))\n",
    "print(\"The shape of array is: \", np.shape(a))\n",
    "print(\"The length of array is: \", len(a))\n",
    "print(\"The data type of array is: \", a.dtype)"
   ]
  },
  {
   "cell_type": "markdown",
   "id": "4fd89c25",
   "metadata": {},
   "source": [
    "#### Problem no5"
   ]
  },
  {
   "cell_type": "code",
   "execution_count": 84,
   "id": "4f6f4f84",
   "metadata": {},
   "outputs": [
    {
     "data": {
      "text/plain": [
       "array([[[1., 1., 1.],\n",
       "        [1., 1., 1.],\n",
       "        [1., 1., 1.]],\n",
       "\n",
       "       [[1., 1., 1.],\n",
       "        [1., 1., 1.],\n",
       "        [1., 1., 1.]],\n",
       "\n",
       "       [[1., 1., 1.],\n",
       "        [1., 1., 1.],\n",
       "        [1., 1., 1.]]])"
      ]
     },
     "execution_count": 84,
     "metadata": {},
     "output_type": "execute_result"
    }
   ],
   "source": [
    "a = np.ones((3, 3, 3))\n",
    "a"
   ]
  },
  {
   "cell_type": "code",
   "execution_count": 85,
   "id": "342989bc",
   "metadata": {},
   "outputs": [
    {
     "data": {
      "text/plain": [
       "array([[[1., 1., 1.],\n",
       "        [1., 1., 1.],\n",
       "        [1., 1., 1.]],\n",
       "\n",
       "       [[1., 1., 1.],\n",
       "        [1., 1., 1.],\n",
       "        [1., 1., 1.]],\n",
       "\n",
       "       [[1., 1., 1.],\n",
       "        [1., 1., 1.],\n",
       "        [1., 1., 1.]]])"
      ]
     },
     "execution_count": 85,
     "metadata": {},
     "output_type": "execute_result"
    }
   ],
   "source": [
    "b = np.ones((3, 3, 3))\n",
    "b"
   ]
  },
  {
   "cell_type": "code",
   "execution_count": 86,
   "id": "3b2837fd",
   "metadata": {},
   "outputs": [
    {
     "data": {
      "text/plain": [
       "array([[[2., 2., 2.],\n",
       "        [2., 2., 2.],\n",
       "        [2., 2., 2.]],\n",
       "\n",
       "       [[2., 2., 2.],\n",
       "        [2., 2., 2.],\n",
       "        [2., 2., 2.]],\n",
       "\n",
       "       [[2., 2., 2.],\n",
       "        [2., 2., 2.],\n",
       "        [2., 2., 2.]]])"
      ]
     },
     "execution_count": 86,
     "metadata": {},
     "output_type": "execute_result"
    }
   ],
   "source": [
    "result = np.add(a, b)\n",
    "result"
   ]
  },
  {
   "cell_type": "markdown",
   "id": "b8d6cb52",
   "metadata": {},
   "source": [
    "### Array Reshape"
   ]
  },
  {
   "cell_type": "code",
   "execution_count": 87,
   "id": "02a7c431",
   "metadata": {},
   "outputs": [
    {
     "data": {
      "text/plain": [
       "array([[ 0,  1,  2,  3,  4,  5,  6,  7,  8,  9, 10, 11, 12, 13, 14, 15]])"
      ]
     },
     "execution_count": 87,
     "metadata": {},
     "output_type": "execute_result"
    }
   ],
   "source": [
    "a = np.arange(16).reshape((1, 16))\n",
    "a"
   ]
  },
  {
   "cell_type": "code",
   "execution_count": 88,
   "id": "ea23f6fd",
   "metadata": {},
   "outputs": [
    {
     "data": {
      "text/plain": [
       "array([[ 0],\n",
       "       [ 1],\n",
       "       [ 2],\n",
       "       [ 3],\n",
       "       [ 4],\n",
       "       [ 5],\n",
       "       [ 6],\n",
       "       [ 7],\n",
       "       [ 8],\n",
       "       [ 9],\n",
       "       [10],\n",
       "       [11],\n",
       "       [12],\n",
       "       [13],\n",
       "       [14],\n",
       "       [15]])"
      ]
     },
     "execution_count": 88,
     "metadata": {},
     "output_type": "execute_result"
    }
   ],
   "source": [
    "a = np.arange(16).reshape((16, 1))\n",
    "a"
   ]
  },
  {
   "cell_type": "code",
   "execution_count": 89,
   "id": "7b5d085c",
   "metadata": {},
   "outputs": [
    {
     "data": {
      "text/plain": [
       "array([[ 0,  1,  2,  3],\n",
       "       [ 4,  5,  6,  7],\n",
       "       [ 8,  9, 10, 11],\n",
       "       [12, 13, 14, 15]])"
      ]
     },
     "execution_count": 89,
     "metadata": {},
     "output_type": "execute_result"
    }
   ],
   "source": [
    "a = np.arange(16).reshape((4, 4))\n",
    "a"
   ]
  },
  {
   "cell_type": "code",
   "execution_count": 90,
   "id": "d805fa7a",
   "metadata": {},
   "outputs": [
    {
     "data": {
      "text/plain": [
       "array([[ 0,  1,  2,  3,  4,  5,  6,  7,  8,  9, 10, 11, 12, 13, 14, 15]])"
      ]
     },
     "execution_count": 90,
     "metadata": {},
     "output_type": "execute_result"
    }
   ],
   "source": [
    "# Reshape a data by 1 and -1 means rest of data set and -1 is equal to the rest of data set\n",
    "a = np.arange(16).reshape((1, -1))\n",
    "a"
   ]
  },
  {
   "cell_type": "code",
   "execution_count": 91,
   "id": "4cfc717e",
   "metadata": {
    "scrolled": true
   },
   "outputs": [
    {
     "data": {
      "text/plain": [
       "array([[ 0,  1],\n",
       "       [ 2,  3],\n",
       "       [ 4,  5],\n",
       "       [ 6,  7],\n",
       "       [ 8,  9],\n",
       "       [10, 11],\n",
       "       [12, 13],\n",
       "       [14, 15]])"
      ]
     },
     "execution_count": 91,
     "metadata": {},
     "output_type": "execute_result"
    }
   ],
   "source": [
    "# Reshape a data by 1 and -1 means rest of data set by default of -1 it take as 2 and -1 is equal to the rest of data set\n",
    "a = np.arange(16).reshape((8, -1))\n",
    "a"
   ]
  },
  {
   "cell_type": "code",
   "execution_count": 92,
   "id": "83442ca3",
   "metadata": {
    "scrolled": true
   },
   "outputs": [
    {
     "data": {
      "text/plain": [
       "array([[ 0,  1,  2,  3],\n",
       "       [ 4,  5,  6,  7],\n",
       "       [ 8,  9, 10, 11],\n",
       "       [12, 13, 14, 15]])"
      ]
     },
     "execution_count": 92,
     "metadata": {},
     "output_type": "execute_result"
    }
   ],
   "source": [
    "# Reshape a data by 4 and -1 means rest of data set by default of 4 and -1 is equal to the rest of data set\n",
    "a = np.arange(16).reshape((4, -1))\n",
    "a"
   ]
  },
  {
   "cell_type": "code",
   "execution_count": 93,
   "id": "5fb70aeb",
   "metadata": {},
   "outputs": [
    {
     "data": {
      "text/plain": [
       "array([[ 0,  1,  2,  3],\n",
       "       [ 4,  5,  6,  7],\n",
       "       [ 8,  9, 10, 11],\n",
       "       [12, 13, 14, 15]])"
      ]
     },
     "execution_count": 93,
     "metadata": {},
     "output_type": "execute_result"
    }
   ],
   "source": [
    "# Reshape a data by 4 and -1 means rest of data set by default of 4 and -1 is equal to the rest of data set\n",
    "a = np.arange(16).reshape((-1, 4))\n",
    "a"
   ]
  },
  {
   "cell_type": "code",
   "execution_count": 94,
   "id": "c1510c5d",
   "metadata": {},
   "outputs": [
    {
     "data": {
      "text/plain": [
       "array([[ 0,  1,  2,  3],\n",
       "       [ 4,  5,  6,  7],\n",
       "       [ 8,  9, 10, 11],\n",
       "       [12, 13, 14, 15]])"
      ]
     },
     "execution_count": 94,
     "metadata": {},
     "output_type": "execute_result"
    }
   ],
   "source": [
    "a"
   ]
  },
  {
   "cell_type": "markdown",
   "id": "62aed767",
   "metadata": {},
   "source": [
    "### Ascessing the digonal element of data of any array"
   ]
  },
  {
   "cell_type": "code",
   "execution_count": 95,
   "id": "208f436a",
   "metadata": {},
   "outputs": [
    {
     "data": {
      "text/plain": [
       "array([[ 0,  1,  2,  3],\n",
       "       [ 4,  5,  6,  7],\n",
       "       [ 8,  9, 10, 11],\n",
       "       [12, 13, 14, 15]])"
      ]
     },
     "execution_count": 95,
     "metadata": {},
     "output_type": "execute_result"
    }
   ],
   "source": [
    "a"
   ]
  },
  {
   "cell_type": "code",
   "execution_count": 96,
   "id": "31c1d15a",
   "metadata": {},
   "outputs": [
    {
     "data": {
      "text/plain": [
       "array([ 0,  5, 10, 15])"
      ]
     },
     "execution_count": 96,
     "metadata": {},
     "output_type": "execute_result"
    }
   ],
   "source": [
    "np.diag(a)"
   ]
  },
  {
   "cell_type": "code",
   "execution_count": 97,
   "id": "1c335837",
   "metadata": {},
   "outputs": [
    {
     "data": {
      "text/plain": [
       "array([[ 0,  1,  2,  3,  4,  5,  6,  7],\n",
       "       [ 8,  9, 10, 11, 12, 13, 14, 15]])"
      ]
     },
     "execution_count": 97,
     "metadata": {},
     "output_type": "execute_result"
    }
   ],
   "source": [
    "a = np.arange(16).reshape((2, -1))\n",
    "a"
   ]
  },
  {
   "cell_type": "code",
   "execution_count": 98,
   "id": "7a9ae980",
   "metadata": {},
   "outputs": [
    {
     "data": {
      "text/plain": [
       "array([0, 9])"
      ]
     },
     "execution_count": 98,
     "metadata": {},
     "output_type": "execute_result"
    }
   ],
   "source": [
    "result = np.diag(a)\n",
    "result"
   ]
  },
  {
   "cell_type": "code",
   "execution_count": 99,
   "id": "7b6c7f44",
   "metadata": {},
   "outputs": [
    {
     "data": {
      "text/plain": [
       "array([ 1, 10])"
      ]
     },
     "execution_count": 99,
     "metadata": {},
     "output_type": "execute_result"
    }
   ],
   "source": [
    "result = np.diag(a, k=1)\n",
    "result"
   ]
  },
  {
   "cell_type": "code",
   "execution_count": 100,
   "id": "057a933d",
   "metadata": {},
   "outputs": [
    {
     "data": {
      "text/plain": [
       "array([8])"
      ]
     },
     "execution_count": 100,
     "metadata": {},
     "output_type": "execute_result"
    }
   ],
   "source": [
    "result = np.diag(a, k=-1)\n",
    "result"
   ]
  },
  {
   "cell_type": "code",
   "execution_count": 101,
   "id": "a81de033",
   "metadata": {},
   "outputs": [
    {
     "data": {
      "text/plain": [
       "array([[ 0,  1,  2,  3],\n",
       "       [ 4,  5,  6,  7],\n",
       "       [ 8,  9, 10, 11],\n",
       "       [12, 13, 14, 15]])"
      ]
     },
     "execution_count": 101,
     "metadata": {},
     "output_type": "execute_result"
    }
   ],
   "source": [
    "a = np.arange(16).reshape((4, -1))\n",
    "a"
   ]
  },
  {
   "cell_type": "code",
   "execution_count": 102,
   "id": "7b31210a",
   "metadata": {},
   "outputs": [
    {
     "data": {
      "text/plain": [
       "array([ 1,  6, 11])"
      ]
     },
     "execution_count": 102,
     "metadata": {},
     "output_type": "execute_result"
    }
   ],
   "source": [
    "result = np.diag(a, k=1)\n",
    "result"
   ]
  },
  {
   "cell_type": "code",
   "execution_count": 103,
   "id": "8b14147b",
   "metadata": {},
   "outputs": [
    {
     "data": {
      "text/plain": [
       "array([2, 7])"
      ]
     },
     "execution_count": 103,
     "metadata": {},
     "output_type": "execute_result"
    }
   ],
   "source": [
    "result = np.diag(a, k=2)\n",
    "result"
   ]
  },
  {
   "cell_type": "code",
   "execution_count": 104,
   "id": "d1bca63a",
   "metadata": {},
   "outputs": [
    {
     "data": {
      "text/plain": [
       "array([ 4,  9, 14])"
      ]
     },
     "execution_count": 104,
     "metadata": {},
     "output_type": "execute_result"
    }
   ],
   "source": [
    "result = np.diag(a, k=-1)\n",
    "result"
   ]
  },
  {
   "cell_type": "code",
   "execution_count": 105,
   "id": "cf80725f",
   "metadata": {},
   "outputs": [
    {
     "data": {
      "text/plain": [
       "array([12])"
      ]
     },
     "execution_count": 105,
     "metadata": {},
     "output_type": "execute_result"
    }
   ],
   "source": [
    "result = np.diag(a, k=-3)\n",
    "result"
   ]
  },
  {
   "cell_type": "code",
   "execution_count": 106,
   "id": "6c6af56c",
   "metadata": {},
   "outputs": [
    {
     "data": {
      "text/plain": [
       "array([[ 0,  0,  0,  0],\n",
       "       [ 0,  5,  0,  0],\n",
       "       [ 0,  0, 10,  0],\n",
       "       [ 0,  0,  0, 15]])"
      ]
     },
     "execution_count": 106,
     "metadata": {},
     "output_type": "execute_result"
    }
   ],
   "source": [
    "b = np.diag(np.diag(a))\n",
    "b"
   ]
  },
  {
   "cell_type": "code",
   "execution_count": 107,
   "id": "83ae06f6",
   "metadata": {},
   "outputs": [
    {
     "data": {
      "text/plain": [
       "array([[1, 2],\n",
       "       [3, 4]])"
      ]
     },
     "execution_count": 107,
     "metadata": {},
     "output_type": "execute_result"
    }
   ],
   "source": [
    "a = np.array([[1, 2], [3, 4]])\n",
    "a"
   ]
  },
  {
   "cell_type": "markdown",
   "id": "ef64afb6",
   "metadata": {},
   "source": [
    "### diagflat"
   ]
  },
  {
   "cell_type": "code",
   "execution_count": 108,
   "id": "d6217655",
   "metadata": {},
   "outputs": [
    {
     "data": {
      "text/plain": [
       "array([[0, 1, 0, 0],\n",
       "       [0, 0, 2, 0],\n",
       "       [0, 0, 0, 3],\n",
       "       [0, 0, 0, 0]])"
      ]
     },
     "execution_count": 108,
     "metadata": {},
     "output_type": "execute_result"
    }
   ],
   "source": [
    "# it will create a matrix of diagonal is after 1, putting this values of 1, 2, 3\n",
    "result = np.diagflat([1, 2, 3], k=1)\n",
    "result"
   ]
  },
  {
   "cell_type": "code",
   "execution_count": 109,
   "id": "7432ab6a",
   "metadata": {},
   "outputs": [
    {
     "data": {
      "text/plain": [
       "array([[0, 0, 1, 0, 0, 0],\n",
       "       [0, 0, 0, 2, 0, 0],\n",
       "       [0, 0, 0, 0, 3, 0],\n",
       "       [0, 0, 0, 0, 0, 4],\n",
       "       [0, 0, 0, 0, 0, 0],\n",
       "       [0, 0, 0, 0, 0, 0]])"
      ]
     },
     "execution_count": 109,
     "metadata": {},
     "output_type": "execute_result"
    }
   ],
   "source": [
    "# it will create a matrix of diagonal after 2 index, putting this values\n",
    "result = np.diagflat([[1, 2], [3, 4]], k=2)\n",
    "result"
   ]
  },
  {
   "cell_type": "code",
   "execution_count": 110,
   "id": "b16a0d32",
   "metadata": {},
   "outputs": [
    {
     "data": {
      "text/plain": [
       "array([[0, 0, 0, 0, 0],\n",
       "       [1, 0, 0, 0, 0],\n",
       "       [0, 2, 0, 0, 0],\n",
       "       [0, 0, 3, 0, 0],\n",
       "       [0, 0, 0, 4, 0]])"
      ]
     },
     "execution_count": 110,
     "metadata": {},
     "output_type": "execute_result"
    }
   ],
   "source": [
    "result = np.diagflat([[1, 2], [3, 4]], k=-1)\n",
    "result"
   ]
  },
  {
   "cell_type": "markdown",
   "id": "439a8dfd",
   "metadata": {},
   "source": [
    "### tri"
   ]
  },
  {
   "cell_type": "code",
   "execution_count": 111,
   "id": "518f394d",
   "metadata": {},
   "outputs": [
    {
     "data": {
      "text/plain": [
       "array([[1, 0, 0, 0],\n",
       "       [1, 1, 0, 0],\n",
       "       [1, 1, 1, 0],\n",
       "       [1, 1, 1, 1]])"
      ]
     },
     "execution_count": 111,
     "metadata": {},
     "output_type": "execute_result"
    }
   ],
   "source": [
    "# array of diagonal below the element and in upper size it is a zero\n",
    "# here diagonal at k=0\n",
    "result = np.tri(4, 4, 0, dtype=int)\n",
    "result"
   ]
  },
  {
   "cell_type": "code",
   "execution_count": 112,
   "id": "ed498805",
   "metadata": {},
   "outputs": [
    {
     "data": {
      "text/plain": [
       "array([[1, 1, 0, 0],\n",
       "       [1, 1, 1, 0],\n",
       "       [1, 1, 1, 1],\n",
       "       [1, 1, 1, 1]])"
      ]
     },
     "execution_count": 112,
     "metadata": {},
     "output_type": "execute_result"
    }
   ],
   "source": [
    "# here diagonal at k=1\n",
    "result = np.tri(4, 4, 1, dtype=int)\n",
    "result"
   ]
  },
  {
   "cell_type": "markdown",
   "id": "a09855d7",
   "metadata": {},
   "source": [
    "### tril: lower triangle of array"
   ]
  },
  {
   "cell_type": "code",
   "execution_count": 113,
   "id": "4c45a67c",
   "metadata": {},
   "outputs": [
    {
     "data": {
      "text/plain": [
       "array([[1, 0, 0],\n",
       "       [4, 5, 0],\n",
       "       [7, 8, 9]])"
      ]
     },
     "execution_count": 113,
     "metadata": {},
     "output_type": "execute_result"
    }
   ],
   "source": [
    "# elements are present on a diagonal 0 and remaining upper elements is zero\n",
    "result = np.tril([[1, 2, 3], [4, 5, 6], [7, 8, 9]], k=0)\n",
    "result"
   ]
  },
  {
   "cell_type": "code",
   "execution_count": 114,
   "id": "7aa08adf",
   "metadata": {},
   "outputs": [
    {
     "data": {
      "text/plain": [
       "array([[1, 2, 0],\n",
       "       [4, 5, 6],\n",
       "       [7, 8, 9]])"
      ]
     },
     "execution_count": 114,
     "metadata": {},
     "output_type": "execute_result"
    }
   ],
   "source": [
    "# elements are present on a diagonal 1 and remaining  upper elements is zero\n",
    "result = np.tril([[1, 2, 3], [4, 5, 6], [7, 8, 9]], k=1)\n",
    "result"
   ]
  },
  {
   "cell_type": "code",
   "execution_count": 115,
   "id": "b394da27",
   "metadata": {},
   "outputs": [
    {
     "data": {
      "text/plain": [
       "array([[0, 0, 0],\n",
       "       [4, 0, 0],\n",
       "       [7, 8, 0]])"
      ]
     },
     "execution_count": 115,
     "metadata": {},
     "output_type": "execute_result"
    }
   ],
   "source": [
    "# elements are present on a diagonal -1 and remaining upper elements is zero\n",
    "result = np.tril([[1, 2, 3], [4, 5, 6], [7, 8, 9]], k=-1)\n",
    "result"
   ]
  },
  {
   "cell_type": "markdown",
   "id": "aa1be1e7",
   "metadata": {},
   "source": [
    "### triu : upper triangle of array"
   ]
  },
  {
   "cell_type": "code",
   "execution_count": 116,
   "id": "1f2d913e",
   "metadata": {},
   "outputs": [
    {
     "data": {
      "text/plain": [
       "array([[1, 2, 3],\n",
       "       [0, 5, 6],\n",
       "       [0, 0, 9]])"
      ]
     },
     "execution_count": 116,
     "metadata": {},
     "output_type": "execute_result"
    }
   ],
   "source": [
    "# elements are present on a diagonal 0 and remaining lower elements is zero\n",
    "result = np.triu([[1, 2, 3], [4, 5, 6], [7, 8, 9]], k=0)\n",
    "result"
   ]
  },
  {
   "cell_type": "code",
   "execution_count": 117,
   "id": "a96844fa",
   "metadata": {},
   "outputs": [
    {
     "data": {
      "text/plain": [
       "array([[1, 2, 3],\n",
       "       [4, 5, 6],\n",
       "       [0, 8, 9]])"
      ]
     },
     "execution_count": 117,
     "metadata": {},
     "output_type": "execute_result"
    }
   ],
   "source": [
    "# elements are present on a diagonal -1 and remaining lower elements is zero\n",
    "result = np.triu([[1, 2, 3], [4, 5, 6], [7, 8, 9]], k=-1)\n",
    "result"
   ]
  },
  {
   "cell_type": "markdown",
   "id": "034c8046",
   "metadata": {},
   "source": [
    "### Ascessing array with the help of for loop"
   ]
  },
  {
   "cell_type": "code",
   "execution_count": 118,
   "id": "36405247",
   "metadata": {},
   "outputs": [
    {
     "data": {
      "text/plain": [
       "array([[ 0,  1,  2,  3],\n",
       "       [ 4,  5,  6,  7],\n",
       "       [ 8,  9, 10, 11],\n",
       "       [12, 13, 14, 15]])"
      ]
     },
     "execution_count": 118,
     "metadata": {},
     "output_type": "execute_result"
    }
   ],
   "source": [
    "a = np.arange(16).reshape(4, 4)\n",
    "a"
   ]
  },
  {
   "cell_type": "code",
   "execution_count": 119,
   "id": "a548238a",
   "metadata": {},
   "outputs": [
    {
     "name": "stdout",
     "output_type": "stream",
     "text": [
      "[0 1 2 3]\n",
      "[4 5 6 7]\n",
      "[ 8  9 10 11]\n",
      "[12 13 14 15]\n"
     ]
    }
   ],
   "source": [
    "for i in a:\n",
    "    print(i)"
   ]
  },
  {
   "cell_type": "code",
   "execution_count": 120,
   "id": "5529fd86",
   "metadata": {},
   "outputs": [
    {
     "name": "stdout",
     "output_type": "stream",
     "text": [
      "0 1 2 3 4 5 6 7 8 9 10 11 12 13 14 15 "
     ]
    }
   ],
   "source": [
    "for i in a:\n",
    "    for j in i:\n",
    "        print(j, end=\" \")"
   ]
  },
  {
   "cell_type": "markdown",
   "id": "855b198d",
   "metadata": {},
   "source": [
    "## Random Number Generation"
   ]
  },
  {
   "cell_type": "markdown",
   "id": "e57df9a3",
   "metadata": {},
   "source": [
    "### 1) .rand(m, n) : numbers lie in between of 1 to 0, uniform distrubution"
   ]
  },
  {
   "cell_type": "markdown",
   "id": "265138d1",
   "metadata": {},
   "source": [
    "### Numbers that can be lie in between of 0 to 1 is a uniform distrubution"
   ]
  },
  {
   "cell_type": "code",
   "execution_count": 121,
   "id": "8d9b25bb",
   "metadata": {},
   "outputs": [
    {
     "name": "stdout",
     "output_type": "stream",
     "text": [
      "Numbers in uniform distrubution\n",
      "The numbers is rangeing from 0 to 1\n"
     ]
    },
    {
     "data": {
      "text/plain": [
       "array([[3.08616547e-01, 4.61655861e-01, 4.84290784e-03],\n",
       "       [3.63866978e-01, 8.88055999e-01, 9.90893334e-01],\n",
       "       [1.67093521e-01, 1.27870597e-01, 5.32043284e-04]])"
      ]
     },
     "execution_count": 121,
     "metadata": {},
     "output_type": "execute_result"
    }
   ],
   "source": [
    "print(\"Numbers in uniform distrubution\")\n",
    "print(\"The numbers is rangeing from 0 to 1\")\n",
    "num = np.random.rand(3, 3)\n",
    "num"
   ]
  },
  {
   "cell_type": "code",
   "execution_count": 122,
   "id": "38306143",
   "metadata": {},
   "outputs": [
    {
     "data": {
      "text/plain": [
       "array([[40, 97, 14],\n",
       "       [50, 30, 53],\n",
       "       [33,  1, 21]])"
      ]
     },
     "execution_count": 122,
     "metadata": {},
     "output_type": "execute_result"
    }
   ],
   "source": [
    "num = np.random.rand(3, 3)\n",
    "result = 100 * num\n",
    "arr = np.array(result, dtype=int)\n",
    "arr"
   ]
  },
  {
   "cell_type": "markdown",
   "id": "9595e5f0",
   "metadata": {},
   "source": [
    "### 2) .randn(m, n) : number lie in between of 1 to 0 including negative numbers, normal distrubution"
   ]
  },
  {
   "cell_type": "markdown",
   "id": "327efbbd",
   "metadata": {},
   "source": [
    "### Numbers that are 0 is mean and 1 is standard noraml distrubution this numbers is standard distrubution "
   ]
  },
  {
   "cell_type": "code",
   "execution_count": 123,
   "id": "de1e01bc",
   "metadata": {},
   "outputs": [
    {
     "name": "stdout",
     "output_type": "stream",
     "text": [
      "Numbers in noraml distrubution\n",
      "the 0 is mean and is standard deviation as 1, ie. standard normal\n"
     ]
    },
    {
     "data": {
      "text/plain": [
       "array([[-0.43721841, -0.05155462, -1.15320341],\n",
       "       [-1.02722483,  0.79014399,  1.80539244],\n",
       "       [-0.11651767, -0.15302156,  1.81190847]])"
      ]
     },
     "execution_count": 123,
     "metadata": {},
     "output_type": "execute_result"
    }
   ],
   "source": [
    "print(\"Numbers in noraml distrubution\")\n",
    "print(\"the 0 is mean and is standard deviation as 1, ie. standard normal\")\n",
    "num = np.random.randn(3, 3)\n",
    "num"
   ]
  },
  {
   "cell_type": "code",
   "execution_count": 124,
   "id": "07100fd4",
   "metadata": {},
   "outputs": [
    {
     "data": {
      "text/plain": [
       "array([[64, 44,  9],\n",
       "       [71, 39, 77],\n",
       "       [93, 46, 24]])"
      ]
     },
     "execution_count": 124,
     "metadata": {},
     "output_type": "execute_result"
    }
   ],
   "source": [
    "num = np.random.rand(3, 3)\n",
    "result = num * 100\n",
    "arr = np.array(result, dtype=int)\n",
    "arr"
   ]
  },
  {
   "cell_type": "markdown",
   "id": "fc6c1f5e",
   "metadata": {},
   "source": [
    "## 3) .randint(a, b): numbers lie in between of a to b with integers"
   ]
  },
  {
   "cell_type": "code",
   "execution_count": 125,
   "id": "011a7050",
   "metadata": {},
   "outputs": [
    {
     "name": "stdout",
     "output_type": "stream",
     "text": [
      "Generate random number in range of 1 to 10\n"
     ]
    },
    {
     "data": {
      "text/plain": [
       "7"
      ]
     },
     "execution_count": 125,
     "metadata": {},
     "output_type": "execute_result"
    }
   ],
   "source": [
    "print(\"Generate random number in range of 1 to 10\")\n",
    "num = np.random.randint(1, 10)\n",
    "num"
   ]
  },
  {
   "cell_type": "code",
   "execution_count": 126,
   "id": "d317de37",
   "metadata": {},
   "outputs": [
    {
     "name": "stdout",
     "output_type": "stream",
     "text": [
      "Genreateing random numbers in between of 1 to 100 of 30 numbers\n"
     ]
    },
    {
     "data": {
      "text/plain": [
       "array([15, 66, 25, 22, 79, 27,  3, 36, 83, 59, 84, 88, 56, 18,  7, 33, 34,\n",
       "       67, 65, 76, 83, 61, 56, 51, 43, 68, 80, 34, 93, 87])"
      ]
     },
     "execution_count": 126,
     "metadata": {},
     "output_type": "execute_result"
    }
   ],
   "source": [
    "print(\"Genreateing random numbers in between of 1 to 100 of 30 numbers\")\n",
    "num = np.random.randint(1, 100, 30)\n",
    "num"
   ]
  },
  {
   "cell_type": "code",
   "execution_count": 127,
   "id": "cb91649d",
   "metadata": {},
   "outputs": [
    {
     "data": {
      "text/plain": [
       "array([[198, 160, 161],\n",
       "       [154, 187, 178],\n",
       "       [124, 182, 123]])"
      ]
     },
     "execution_count": 127,
     "metadata": {},
     "output_type": "execute_result"
    }
   ],
   "source": [
    "num = np.random.randint(100, 200, (3, 3), dtype=int)\n",
    "num"
   ]
  },
  {
   "cell_type": "markdown",
   "id": "8797e55d",
   "metadata": {},
   "source": [
    "## Reshape"
   ]
  },
  {
   "cell_type": "code",
   "execution_count": 128,
   "id": "796b7872",
   "metadata": {},
   "outputs": [
    {
     "data": {
      "text/plain": [
       "array([[18, 15, 18, 16],\n",
       "       [10, 18, 11, 11],\n",
       "       [18, 10, 11, 12],\n",
       "       [18, 18, 16, 13]])"
      ]
     },
     "execution_count": 128,
     "metadata": {},
     "output_type": "execute_result"
    }
   ],
   "source": [
    "a = np.random.randint(10, 20, 16)\n",
    "result = a.reshape((4, 4))\n",
    "result"
   ]
  },
  {
   "cell_type": "markdown",
   "id": "c46dda07",
   "metadata": {},
   "source": [
    "### Sorting generated data"
   ]
  },
  {
   "cell_type": "code",
   "execution_count": 129,
   "id": "74343653",
   "metadata": {},
   "outputs": [
    {
     "data": {
      "text/plain": [
       "array([[ 1,  5,  5,  6],\n",
       "       [ 6,  7,  8,  8],\n",
       "       [10, 11, 13, 14],\n",
       "       [16, 17, 17, 18]])"
      ]
     },
     "execution_count": 129,
     "metadata": {},
     "output_type": "execute_result"
    }
   ],
   "source": [
    "a = np.random.randint(1, 20, 16)\n",
    "arr = np.sort(a)\n",
    "result = arr.reshape(4, 4)\n",
    "result"
   ]
  },
  {
   "cell_type": "code",
   "execution_count": 130,
   "id": "bc16fd84",
   "metadata": {},
   "outputs": [
    {
     "data": {
      "text/plain": [
       "array([[ 2,  7, 19, 38, 43],\n",
       "       [10, 27, 28, 32, 44],\n",
       "       [ 2, 29, 29, 32, 40],\n",
       "       [15, 27, 43, 45, 46],\n",
       "       [ 1,  1,  2, 34, 42]])"
      ]
     },
     "execution_count": 130,
     "metadata": {},
     "output_type": "execute_result"
    }
   ],
   "source": [
    "# Sorting the element in rowwise\n",
    "b = np.random.randint(1, 50, 25).reshape((5, 5))\n",
    "arr = np.sort(b, axis=1, kind='quicksort')\n",
    "arr"
   ]
  },
  {
   "cell_type": "code",
   "execution_count": 131,
   "id": "3387ea3e",
   "metadata": {},
   "outputs": [
    {
     "data": {
      "text/plain": [
       "array([[23,  6,  1, 12,  2],\n",
       "       [32, 16,  1, 23, 13],\n",
       "       [36, 21, 13, 31, 21],\n",
       "       [36, 24, 24, 45, 34],\n",
       "       [38, 48, 30, 49, 45]])"
      ]
     },
     "execution_count": 131,
     "metadata": {},
     "output_type": "execute_result"
    }
   ],
   "source": [
    "# Sorting the element in columnwise\n",
    "c = np.random.randint(1, 50, 25).reshape((5, 5))\n",
    "arr = np.sort(c, axis=0, kind='heapsort')\n",
    "arr"
   ]
  },
  {
   "cell_type": "markdown",
   "id": "a9bf1511",
   "metadata": {},
   "source": [
    "### 1) Maximum and Minimum element and their location"
   ]
  },
  {
   "cell_type": "markdown",
   "id": "2caf1c40",
   "metadata": {},
   "source": [
    "### array index start from 0"
   ]
  },
  {
   "cell_type": "code",
   "execution_count": 132,
   "id": "14ffae66",
   "metadata": {},
   "outputs": [
    {
     "name": "stdout",
     "output_type": "stream",
     "text": [
      "Maximum element in a is: 18\n",
      "Maximum element in b is: [44 45 43 32 46]\n",
      "Maximum element in c is: [31 48 45 49 34]\n"
     ]
    }
   ],
   "source": [
    "print(\"Maximum element in a is:\", a.max())\n",
    "print(\"Maximum element in b is:\", b.max(axis=0))\n",
    "print(\"Maximum element in c is:\", c.max(axis=1))"
   ]
  },
  {
   "cell_type": "code",
   "execution_count": 133,
   "id": "443ff163",
   "metadata": {},
   "outputs": [
    {
     "name": "stdout",
     "output_type": "stream",
     "text": [
      "Maximum element location in a is: 4\n",
      "Maximum element location in b is: [1 3 3 1 3]\n",
      "Maximum element location in c is: [3 1 4 3 4]\n"
     ]
    }
   ],
   "source": [
    "# maximum element in arrays location\n",
    "print(\"Maximum element location in a is:\", a.argmax())\n",
    "# here arg max function return row index of that value \n",
    "print(\"Maximum element location in b is:\", b.argmax(axis=0))\n",
    "# here arg max functiion return column index of that value\n",
    "print(\"Maximum element location in c is:\", c.argmax(axis=1))"
   ]
  },
  {
   "cell_type": "code",
   "execution_count": 134,
   "id": "b2cc86b6",
   "metadata": {},
   "outputs": [
    {
     "name": "stdout",
     "output_type": "stream",
     "text": [
      "Minimum element in a is: 1\n",
      "Minimum element in b is: [27  1  7  1  2]\n",
      "Minimum element in c is: [ 2  1  6 13  1]\n"
     ]
    }
   ],
   "source": [
    "print(\"Minimum element in a is:\", a.min())\n",
    "print(\"Minimum element in b is:\", b.min(axis=0))\n",
    "print(\"Minimum element in c is:\", c.min(axis=1))"
   ]
  },
  {
   "cell_type": "code",
   "execution_count": 135,
   "id": "1d44bb25",
   "metadata": {},
   "outputs": [
    {
     "name": "stdout",
     "output_type": "stream",
     "text": [
      "Minimum element location in a is: 15\n",
      "Minimum element location in b is: [3 4 0 4 4]\n",
      "Minimum element location in c is: [3 1 4 3 4]\n"
     ]
    }
   ],
   "source": [
    "# minimum element location in array \n",
    "print(\"Minimum element location in a is:\", a.argmin())\n",
    "# here arg min function return row index of that value\n",
    "print(\"Minimum element location in b is:\", b.argmin(axis=0))\n",
    "# here arg min functiion return column index of that value\n",
    "print(\"Minimum element location in c is:\", c.argmax(axis=1))"
   ]
  },
  {
   "cell_type": "markdown",
   "id": "ff327115",
   "metadata": {},
   "source": [
    "## Slicing and reshapeing array"
   ]
  },
  {
   "cell_type": "code",
   "execution_count": 136,
   "id": "04cd24a9",
   "metadata": {},
   "outputs": [
    {
     "data": {
      "text/plain": [
       "array([18, 12,  4, 13, 11,  2,  4, 11,  8, 19])"
      ]
     },
     "execution_count": 136,
     "metadata": {},
     "output_type": "execute_result"
    }
   ],
   "source": [
    "arr = np.random.randint(1, 20, 10)\n",
    "arr"
   ]
  },
  {
   "cell_type": "code",
   "execution_count": 137,
   "id": "c87d5aca",
   "metadata": {},
   "outputs": [
    {
     "name": "stdout",
     "output_type": "stream",
     "text": [
      "7th element in list is: 11\n"
     ]
    }
   ],
   "source": [
    "print(\"7th element in list is:\", arr[7])"
   ]
  },
  {
   "cell_type": "code",
   "execution_count": 138,
   "id": "73f42132",
   "metadata": {},
   "outputs": [
    {
     "name": "stdout",
     "output_type": "stream",
     "text": [
      "7th to 10th element in list is: [11  8 19]\n"
     ]
    }
   ],
   "source": [
    "print(\"7th to 10th element in list is:\", arr[7:10])"
   ]
  },
  {
   "cell_type": "code",
   "execution_count": 139,
   "id": "8193bdb2",
   "metadata": {},
   "outputs": [
    {
     "name": "stdout",
     "output_type": "stream",
     "text": [
      "Printing the element in negative slicing: [19  8 11  4]\n"
     ]
    }
   ],
   "source": [
    "print(\"Printing the element in negative slicing:\", arr[-1:-5:-1])"
   ]
  },
  {
   "cell_type": "code",
   "execution_count": 140,
   "id": "ef8f6432",
   "metadata": {},
   "outputs": [
    {
     "data": {
      "text/plain": [
       "array([[ 9, 42, 49, 37, 41],\n",
       "       [25, 44,  1, 37, 38],\n",
       "       [12,  8, 47, 26, 23],\n",
       "       [19, 38, 38, 40,  7],\n",
       "       [26, 32, 42, 35,  7]])"
      ]
     },
     "execution_count": 140,
     "metadata": {},
     "output_type": "execute_result"
    }
   ],
   "source": [
    "a = np.random.randint(1, 50, 25).reshape(5, 5)\n",
    "a"
   ]
  },
  {
   "cell_type": "code",
   "execution_count": 141,
   "id": "5470d985",
   "metadata": {},
   "outputs": [
    {
     "name": "stdout",
     "output_type": "stream",
     "text": [
      "Ascessing the zeroth row:  [ 9 42 49 37 41]\n"
     ]
    }
   ],
   "source": [
    "# all the columns of zeroth row\n",
    "print(\"Ascessing the zeroth row: \", a[0, :])"
   ]
  },
  {
   "cell_type": "code",
   "execution_count": 142,
   "id": "b0d09427",
   "metadata": {},
   "outputs": [
    {
     "name": "stdout",
     "output_type": "stream",
     "text": [
      "Ascessing the zeroth column:  [ 9 25 12 19 26]\n"
     ]
    }
   ],
   "source": [
    "# all the rows of zeroth column\n",
    "print(\"Ascessing the zeroth column: \", a[:, 0])"
   ]
  },
  {
   "cell_type": "code",
   "execution_count": 143,
   "id": "60ec1384",
   "metadata": {},
   "outputs": [
    {
     "data": {
      "text/plain": [
       "array([ 8, 47, 26, 23])"
      ]
     },
     "execution_count": 143,
     "metadata": {},
     "output_type": "execute_result"
    }
   ],
   "source": [
    "arr = a[2, 1:]\n",
    "arr"
   ]
  },
  {
   "cell_type": "code",
   "execution_count": 144,
   "id": "2156ea2f",
   "metadata": {},
   "outputs": [
    {
     "data": {
      "text/plain": [
       "array([12,  8, 47, 26, 23])"
      ]
     },
     "execution_count": 144,
     "metadata": {},
     "output_type": "execute_result"
    }
   ],
   "source": [
    "arr = a[2, :]\n",
    "arr"
   ]
  },
  {
   "cell_type": "code",
   "execution_count": 145,
   "id": "b22b6f4f",
   "metadata": {},
   "outputs": [
    {
     "name": "stdout",
     "output_type": "stream",
     "text": [
      "Printint all rows of 0th column : [ 9 25 12 19 26]\n"
     ]
    }
   ],
   "source": [
    "print(\"Printint all rows of 0th column :\",a[:, 0])"
   ]
  },
  {
   "cell_type": "code",
   "execution_count": 146,
   "id": "c2543124",
   "metadata": {},
   "outputs": [
    {
     "name": "stdout",
     "output_type": "stream",
     "text": [
      "Printing all colums of 0th row : [ 9 42 49 37 41]\n"
     ]
    }
   ],
   "source": [
    "print(\"Printing all colums of 0th row :\", a[0, :])"
   ]
  },
  {
   "cell_type": "code",
   "execution_count": 147,
   "id": "47312e22",
   "metadata": {},
   "outputs": [
    {
     "data": {
      "text/plain": [
       "array([[[49, 45, 32, 16, 45],\n",
       "        [12,  6,  8, 28, 24],\n",
       "        [12, 49,  8, 29, 27],\n",
       "        [25,  2, 39, 45, 18],\n",
       "        [ 3, 46, 21, 16, 11]],\n",
       "\n",
       "       [[42, 22, 17, 35,  2],\n",
       "        [45, 33,  8, 22, 40],\n",
       "        [13, 13, 20,  6, 17],\n",
       "        [43, 29,  4, 22, 28],\n",
       "        [41, 39, 26, 32, 34]],\n",
       "\n",
       "       [[43,  8, 48, 35, 32],\n",
       "        [22,  1,  2, 27, 13],\n",
       "        [17, 16,  7, 43, 18],\n",
       "        [40, 21, 41, 44, 25],\n",
       "        [18,  1, 42, 11, 35]]])"
      ]
     },
     "execution_count": 147,
     "metadata": {},
     "output_type": "execute_result"
    }
   ],
   "source": [
    "b = np.array(np.random.randint(1, 50, 75)).reshape(3, 5, 5)\n",
    "b"
   ]
  },
  {
   "cell_type": "code",
   "execution_count": 148,
   "id": "06c68708",
   "metadata": {},
   "outputs": [
    {
     "data": {
      "text/plain": [
       "6"
      ]
     },
     "execution_count": 148,
     "metadata": {},
     "output_type": "execute_result"
    }
   ],
   "source": [
    "b[1, 2, 3]"
   ]
  },
  {
   "cell_type": "code",
   "execution_count": 149,
   "id": "7270d3da",
   "metadata": {},
   "outputs": [
    {
     "data": {
      "text/plain": [
       "array([41, 39, 26, 32, 34])"
      ]
     },
     "execution_count": 149,
     "metadata": {},
     "output_type": "execute_result"
    }
   ],
   "source": [
    "b[1, 4, :]"
   ]
  },
  {
   "cell_type": "code",
   "execution_count": 150,
   "id": "b208370b",
   "metadata": {},
   "outputs": [
    {
     "data": {
      "text/plain": [
       "array([45,  6, 49,  2, 46])"
      ]
     },
     "execution_count": 150,
     "metadata": {},
     "output_type": "execute_result"
    }
   ],
   "source": [
    "b[0, :, 1]"
   ]
  },
  {
   "cell_type": "code",
   "execution_count": 151,
   "id": "841a2c1e",
   "metadata": {},
   "outputs": [
    {
     "data": {
      "text/plain": [
       "array([[[49, 45, 32, 16, 45],\n",
       "        [12,  6,  8, 28, 24]],\n",
       "\n",
       "       [[42, 22, 17, 35,  2],\n",
       "        [45, 33,  8, 22, 40]],\n",
       "\n",
       "       [[43,  8, 48, 35, 32],\n",
       "        [22,  1,  2, 27, 13]]])"
      ]
     },
     "execution_count": 151,
     "metadata": {},
     "output_type": "execute_result"
    }
   ],
   "source": [
    "b[:, 0:2, :]"
   ]
  },
  {
   "cell_type": "markdown",
   "id": "9beecb6b",
   "metadata": {},
   "source": [
    "### Condition "
   ]
  },
  {
   "cell_type": "code",
   "execution_count": 152,
   "id": "021de799",
   "metadata": {},
   "outputs": [
    {
     "data": {
      "text/plain": [
       "array([[40, 10, 44,  7, 32],\n",
       "       [10, 17, 39, 45,  1],\n",
       "       [28, 30, 38, 31,  2],\n",
       "       [ 4, 27, 28,  6, 22],\n",
       "       [30, 20, 10, 33, 45]])"
      ]
     },
     "execution_count": 152,
     "metadata": {},
     "output_type": "execute_result"
    }
   ],
   "source": [
    "a = np.random.randint(1, 50, 25).reshape(5, 5)\n",
    "a"
   ]
  },
  {
   "cell_type": "code",
   "execution_count": 153,
   "id": "0919d4cf",
   "metadata": {},
   "outputs": [
    {
     "name": "stdout",
     "output_type": "stream",
     "text": [
      "Where the element is greater than 20\n"
     ]
    },
    {
     "data": {
      "text/plain": [
       "array([[ True, False,  True, False,  True],\n",
       "       [False,  True,  True,  True, False],\n",
       "       [ True,  True,  True,  True, False],\n",
       "       [False,  True,  True, False,  True],\n",
       "       [ True,  True, False,  True,  True]])"
      ]
     },
     "execution_count": 153,
     "metadata": {},
     "output_type": "execute_result"
    }
   ],
   "source": [
    "print(\"Where the element is greater than 20\")\n",
    "a>10"
   ]
  },
  {
   "cell_type": "code",
   "execution_count": 154,
   "id": "8c0146e1",
   "metadata": {},
   "outputs": [
    {
     "name": "stdout",
     "output_type": "stream",
     "text": [
      "Which element is greater than 20\n"
     ]
    },
    {
     "data": {
      "text/plain": [
       "array([40, 44, 32, 17, 39, 45, 28, 30, 38, 31, 27, 28, 22, 30, 20, 33, 45])"
      ]
     },
     "execution_count": 154,
     "metadata": {},
     "output_type": "execute_result"
    }
   ],
   "source": [
    "print(\"Which element is greater than 20\")\n",
    "a[a>10]"
   ]
  },
  {
   "cell_type": "code",
   "execution_count": 155,
   "id": "2e393c62",
   "metadata": {},
   "outputs": [
    {
     "name": "stdout",
     "output_type": "stream",
     "text": [
      "The numbers which is greater than 10\n",
      "[40 44 32 17 39 45 28 30 38 31 27 28 22 30 20 33 45]\n",
      "Total number of element which is greater than 10\n",
      "17\n",
      "Creating the new element of that numbers\n"
     ]
    }
   ],
   "source": [
    "arr = a[a>10]\n",
    "print(\"The numbers which is greater than 10\")\n",
    "print(arr)\n",
    "print(\"Total number of element which is greater than 10\")\n",
    "l = len(arr)\n",
    "print(l)\n",
    "print(\"Creating the new element of that numbers\")\n",
    "# result = arr.reshape((6, ))\n",
    "# result"
   ]
  },
  {
   "cell_type": "markdown",
   "id": "17be5d88",
   "metadata": {},
   "source": [
    "### Arithematic in array"
   ]
  },
  {
   "cell_type": "code",
   "execution_count": 156,
   "id": "2c842bec",
   "metadata": {},
   "outputs": [
    {
     "name": "stdout",
     "output_type": "stream",
     "text": [
      "First matrix: \n",
      "[[49 49 11]\n",
      " [32  1  6]\n",
      " [11 34 29]]\n",
      "Second matrix: \n",
      "[[38  6 29]\n",
      " [46 14 10]\n",
      " [37  8 45]]\n"
     ]
    }
   ],
   "source": [
    "a = np.random.randint(1, 50, 9).reshape(3, 3)\n",
    "print(\"First matrix: \")\n",
    "print(a)\n",
    "b = np.random.randint(1, 50, 9).reshape(3, 3)\n",
    "print(\"Second matrix: \")\n",
    "print(b)"
   ]
  },
  {
   "cell_type": "markdown",
   "id": "717bb85e",
   "metadata": {},
   "source": [
    "#### index wise or element wise multiplication"
   ]
  },
  {
   "cell_type": "code",
   "execution_count": 157,
   "id": "be2e085c",
   "metadata": {},
   "outputs": [
    {
     "data": {
      "text/plain": [
       "array([[1862,  294,  319],\n",
       "       [1472,   14,   60],\n",
       "       [ 407,  272, 1305]])"
      ]
     },
     "execution_count": 157,
     "metadata": {},
     "output_type": "execute_result"
    }
   ],
   "source": [
    "result = a * b\n",
    "result"
   ]
  },
  {
   "cell_type": "markdown",
   "id": "15ed6339",
   "metadata": {},
   "source": [
    "#### matrix multiplication"
   ]
  },
  {
   "cell_type": "code",
   "execution_count": 158,
   "id": "aad2cbea",
   "metadata": {},
   "outputs": [
    {
     "data": {
      "text/plain": [
       "array([[4523, 1068, 2406],\n",
       "       [1484,  254, 1208],\n",
       "       [3055,  774, 1964]])"
      ]
     },
     "execution_count": 158,
     "metadata": {},
     "output_type": "execute_result"
    }
   ],
   "source": [
    "result = a @ b\n",
    "result"
   ]
  },
  {
   "cell_type": "markdown",
   "id": "725334a7",
   "metadata": {},
   "source": [
    "#### Zero division"
   ]
  },
  {
   "cell_type": "code",
   "execution_count": 159,
   "id": "f7abb8d0",
   "metadata": {},
   "outputs": [
    {
     "name": "stderr",
     "output_type": "stream",
     "text": [
      "c:\\users\\abc\\appdata\\local\\programs\\python\\python36\\lib\\site-packages\\ipykernel_launcher.py:1: RuntimeWarning: divide by zero encountered in true_divide\n",
      "  \"\"\"Entry point for launching an IPython kernel.\n"
     ]
    },
    {
     "data": {
      "text/plain": [
       "array([[inf, inf, inf],\n",
       "       [inf, inf, inf],\n",
       "       [inf, inf, inf]])"
      ]
     },
     "execution_count": 159,
     "metadata": {},
     "output_type": "execute_result"
    }
   ],
   "source": [
    "result = a / 0\n",
    "result"
   ]
  },
  {
   "cell_type": "markdown",
   "id": "e3c3c5fa",
   "metadata": {},
   "source": [
    "#### addition of matrices"
   ]
  },
  {
   "cell_type": "code",
   "execution_count": 160,
   "id": "d785aba0",
   "metadata": {},
   "outputs": [
    {
     "data": {
      "text/plain": [
       "array([[87, 55, 40],\n",
       "       [78, 15, 16],\n",
       "       [48, 42, 74]])"
      ]
     },
     "execution_count": 160,
     "metadata": {},
     "output_type": "execute_result"
    }
   ],
   "source": [
    "result = a + b\n",
    "result"
   ]
  },
  {
   "cell_type": "markdown",
   "id": "399013f7",
   "metadata": {},
   "source": [
    "#### Square of matrices"
   ]
  },
  {
   "cell_type": "code",
   "execution_count": 161,
   "id": "84d8c95c",
   "metadata": {},
   "outputs": [
    {
     "data": {
      "text/plain": [
       "array([[2401, 2401,  121],\n",
       "       [1024,    1,   36],\n",
       "       [ 121, 1156,  841]], dtype=int32)"
      ]
     },
     "execution_count": 161,
     "metadata": {},
     "output_type": "execute_result"
    }
   ],
   "source": [
    "# result = a ** 2 \n",
    "result = pow(a, 2)\n",
    "result"
   ]
  },
  {
   "cell_type": "markdown",
   "id": "29761327",
   "metadata": {},
   "source": [
    "### Array Broadcasting"
   ]
  },
  {
   "cell_type": "code",
   "execution_count": 162,
   "id": "f0f587a3",
   "metadata": {},
   "outputs": [
    {
     "data": {
      "text/plain": [
       "array([[100, 100, 100],\n",
       "       [100, 100, 100],\n",
       "       [100, 100, 100]])"
      ]
     },
     "execution_count": 162,
     "metadata": {},
     "output_type": "execute_result"
    }
   ],
   "source": [
    "a = np.zeros((3, 3), dtype=int)\n",
    "a = a + 100\n",
    "a"
   ]
  },
  {
   "cell_type": "code",
   "execution_count": 163,
   "id": "31da2b61",
   "metadata": {},
   "outputs": [
    {
     "data": {
      "text/plain": [
       "array([[101, 102, 103],\n",
       "       [101, 102, 103],\n",
       "       [101, 102, 103]])"
      ]
     },
     "execution_count": 163,
     "metadata": {},
     "output_type": "execute_result"
    }
   ],
   "source": [
    "b = np.array([1, 2, 3])\n",
    "result = a + b\n",
    "result"
   ]
  },
  {
   "cell_type": "code",
   "execution_count": 164,
   "id": "f8a56b0f",
   "metadata": {},
   "outputs": [
    {
     "data": {
      "text/plain": [
       "array([[1],\n",
       "       [2],\n",
       "       [3]])"
      ]
     },
     "execution_count": 164,
     "metadata": {},
     "output_type": "execute_result"
    }
   ],
   "source": [
    "b = np.array([[1, 2, 3]]).T\n",
    "b"
   ]
  },
  {
   "cell_type": "code",
   "execution_count": 165,
   "id": "73536f4b",
   "metadata": {},
   "outputs": [
    {
     "data": {
      "text/plain": [
       "array([[101, 101, 101],\n",
       "       [102, 102, 102],\n",
       "       [103, 103, 103]])"
      ]
     },
     "execution_count": 165,
     "metadata": {},
     "output_type": "execute_result"
    }
   ],
   "source": [
    "result = a + b\n",
    "result"
   ]
  },
  {
   "cell_type": "markdown",
   "id": "37b58fce",
   "metadata": {},
   "source": [
    "### Array mathematics"
   ]
  },
  {
   "cell_type": "code",
   "execution_count": 166,
   "id": "4aec92e4",
   "metadata": {},
   "outputs": [
    {
     "data": {
      "text/plain": [
       "array([[1, 2, 3],\n",
       "       [4, 5, 6],\n",
       "       [7, 8, 9]])"
      ]
     },
     "execution_count": 166,
     "metadata": {},
     "output_type": "execute_result"
    }
   ],
   "source": [
    "a = np.arange(1, 10).reshape(3, 3)\n",
    "a"
   ]
  },
  {
   "cell_type": "code",
   "execution_count": 167,
   "id": "2b898b66",
   "metadata": {},
   "outputs": [
    {
     "data": {
      "text/plain": [
       "array([[1, 2, 3],\n",
       "       [4, 5, 6],\n",
       "       [7, 8, 9]])"
      ]
     },
     "execution_count": 167,
     "metadata": {},
     "output_type": "execute_result"
    }
   ],
   "source": [
    "b = np.arange(1, 10).reshape(3, 3)\n",
    "b"
   ]
  },
  {
   "cell_type": "code",
   "execution_count": 168,
   "id": "f5cf456f",
   "metadata": {},
   "outputs": [
    {
     "data": {
      "text/plain": [
       "array([[1.        , 1.41421356, 1.73205081],\n",
       "       [2.        , 2.23606798, 2.44948974],\n",
       "       [2.64575131, 2.82842712, 3.        ]])"
      ]
     },
     "execution_count": 168,
     "metadata": {},
     "output_type": "execute_result"
    }
   ],
   "source": [
    "square_root = np.sqrt(a)\n",
    "square_root"
   ]
  },
  {
   "cell_type": "code",
   "execution_count": 169,
   "id": "b0984387",
   "metadata": {},
   "outputs": [
    {
     "data": {
      "text/plain": [
       "array([[2.71828183e+00, 7.38905610e+00, 2.00855369e+01],\n",
       "       [5.45981500e+01, 1.48413159e+02, 4.03428793e+02],\n",
       "       [1.09663316e+03, 2.98095799e+03, 8.10308393e+03]])"
      ]
     },
     "execution_count": 169,
     "metadata": {},
     "output_type": "execute_result"
    }
   ],
   "source": [
    "expontional = np.exp(a)\n",
    "expontional"
   ]
  },
  {
   "cell_type": "code",
   "execution_count": 170,
   "id": "af7fc21e",
   "metadata": {},
   "outputs": [
    {
     "data": {
      "text/plain": [
       "array([[0.        , 0.30103   , 0.47712125],\n",
       "       [0.60205999, 0.69897   , 0.77815125],\n",
       "       [0.84509804, 0.90308999, 0.95424251]])"
      ]
     },
     "execution_count": 170,
     "metadata": {},
     "output_type": "execute_result"
    }
   ],
   "source": [
    "log_base_10 = np.log10(a)\n",
    "log_base_10"
   ]
  },
  {
   "cell_type": "code",
   "execution_count": 171,
   "id": "d5678b89",
   "metadata": {},
   "outputs": [
    {
     "data": {
      "text/plain": [
       "array([[0, 0, 0],\n",
       "       [0, 0, 0],\n",
       "       [0, 0, 0]], dtype=int32)"
      ]
     },
     "execution_count": 171,
     "metadata": {},
     "output_type": "execute_result"
    }
   ],
   "source": [
    "module_remainder = np.fmod(a, b)\n",
    "module_remainder"
   ]
  },
  {
   "cell_type": "code",
   "execution_count": 172,
   "id": "12aeb7c8",
   "metadata": {},
   "outputs": [
    {
     "name": "stdout",
     "output_type": "stream",
     "text": [
      "Combination of functions by shwoing exponetial decay of a sine wave\n"
     ]
    },
    {
     "data": {
      "text/plain": [
       "array([ 0.        ,  0.03769911,  0.07539822, ..., 37.62371362,\n",
       "       37.66141273, 37.69911184])"
      ]
     },
     "execution_count": 172,
     "metadata": {},
     "output_type": "execute_result"
    }
   ],
   "source": [
    "print(\"Combination of functions by shwoing exponetial decay of a sine wave\",)\n",
    "a = np.linspace(0,12*np.pi,1001)\n",
    "a"
   ]
  },
  {
   "cell_type": "code",
   "execution_count": null,
   "id": "8aa8aa29",
   "metadata": {},
   "outputs": [],
   "source": []
  }
 ],
 "metadata": {
  "kernelspec": {
   "display_name": "Python 3",
   "language": "python",
   "name": "python3"
  },
  "language_info": {
   "codemirror_mode": {
    "name": "ipython",
    "version": 3
   },
   "file_extension": ".py",
   "mimetype": "text/x-python",
   "name": "python",
   "nbconvert_exporter": "python",
   "pygments_lexer": "ipython3",
   "version": "3.6.6"
  }
 },
 "nbformat": 4,
 "nbformat_minor": 5
}
