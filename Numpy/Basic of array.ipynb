{
 "cells": [
  {
   "cell_type": "code",
   "execution_count": 1,
   "id": "60f8546c",
   "metadata": {},
   "outputs": [],
   "source": [
    "import numpy as np"
   ]
  },
  {
   "cell_type": "code",
   "execution_count": 2,
   "id": "38561105",
   "metadata": {},
   "outputs": [
    {
     "data": {
      "text/plain": [
       "array([1, 2, 3, 4, 5])"
      ]
     },
     "execution_count": 2,
     "metadata": {},
     "output_type": "execute_result"
    }
   ],
   "source": [
    "# 1 dimensional array\n",
    "a = np.array([1, 2, 3, 4, 5])\n",
    "a"
   ]
  },
  {
   "cell_type": "code",
   "execution_count": 3,
   "id": "98de6e9c",
   "metadata": {},
   "outputs": [
    {
     "data": {
      "text/plain": [
       "array([[1, 2, 3],\n",
       "       [4, 5, 6]])"
      ]
     },
     "execution_count": 3,
     "metadata": {},
     "output_type": "execute_result"
    }
   ],
   "source": [
    "# 2 dimensional array\n",
    "b = np.array([[1, 2, 3], [4, 5, 6]])\n",
    "b"
   ]
  },
  {
   "cell_type": "code",
   "execution_count": 4,
   "id": "557f8e1d",
   "metadata": {},
   "outputs": [
    {
     "data": {
      "text/plain": [
       "array([5, 7, 9])"
      ]
     },
     "execution_count": 4,
     "metadata": {},
     "output_type": "execute_result"
    }
   ],
   "source": [
    "Sum = b.sum(axis=0)\n",
    "Sum"
   ]
  },
  {
   "cell_type": "code",
   "execution_count": 5,
   "id": "30a469f2",
   "metadata": {},
   "outputs": [
    {
     "data": {
      "text/plain": [
       "array([ 6, 15])"
      ]
     },
     "execution_count": 5,
     "metadata": {},
     "output_type": "execute_result"
    }
   ],
   "source": [
    "Sum = b.sum(axis=1)\n",
    "Sum"
   ]
  },
  {
   "cell_type": "markdown",
   "id": "f0808493",
   "metadata": {},
   "source": [
    "### Properties of array"
   ]
  },
  {
   "cell_type": "code",
   "execution_count": 6,
   "id": "04b32e4e",
   "metadata": {},
   "outputs": [
    {
     "data": {
      "text/plain": [
       "6"
      ]
     },
     "execution_count": 6,
     "metadata": {},
     "output_type": "execute_result"
    }
   ],
   "source": [
    "# total no of element\n",
    "b.size"
   ]
  },
  {
   "cell_type": "code",
   "execution_count": 7,
   "id": "b1b8fb71",
   "metadata": {},
   "outputs": [
    {
     "data": {
      "text/plain": [
       "(2, 3)"
      ]
     },
     "execution_count": 7,
     "metadata": {},
     "output_type": "execute_result"
    }
   ],
   "source": [
    "# Shape of array\n",
    "b.shape"
   ]
  },
  {
   "cell_type": "code",
   "execution_count": 8,
   "id": "0fc7939a",
   "metadata": {},
   "outputs": [
    {
     "data": {
      "text/plain": [
       "5"
      ]
     },
     "execution_count": 8,
     "metadata": {},
     "output_type": "execute_result"
    }
   ],
   "source": [
    "# length of array\n",
    "len(a)"
   ]
  },
  {
   "cell_type": "code",
   "execution_count": 9,
   "id": "aa2654a2",
   "metadata": {},
   "outputs": [
    {
     "data": {
      "text/plain": [
       "dtype('int32')"
      ]
     },
     "execution_count": 9,
     "metadata": {},
     "output_type": "execute_result"
    }
   ],
   "source": [
    "# type of data\n",
    "a.dtype"
   ]
  },
  {
   "cell_type": "code",
   "execution_count": 10,
   "id": "438ee322",
   "metadata": {},
   "outputs": [
    {
     "data": {
      "text/plain": [
       "1"
      ]
     },
     "execution_count": 10,
     "metadata": {},
     "output_type": "execute_result"
    }
   ],
   "source": [
    "# no of dimension\n",
    "a.ndim"
   ]
  },
  {
   "cell_type": "markdown",
   "id": "2d63e09d",
   "metadata": {},
   "source": [
    "## array mathematics"
   ]
  },
  {
   "cell_type": "markdown",
   "id": "c1b97dac",
   "metadata": {},
   "source": [
    "## 1) Arithmetic Operation"
   ]
  },
  {
   "cell_type": "code",
   "execution_count": 11,
   "id": "447251f0",
   "metadata": {},
   "outputs": [
    {
     "data": {
      "text/plain": [
       "array([[1, 2, 3],\n",
       "       [4, 5, 6]])"
      ]
     },
     "execution_count": 11,
     "metadata": {},
     "output_type": "execute_result"
    }
   ],
   "source": [
    "a = np.array([[1, 2, 3], [4, 5, 6]])\n",
    "a"
   ]
  },
  {
   "cell_type": "code",
   "execution_count": 12,
   "id": "b4fd3817",
   "metadata": {},
   "outputs": [
    {
     "data": {
      "text/plain": [
       "array([[1, 2, 3],\n",
       "       [4, 5, 6]])"
      ]
     },
     "execution_count": 12,
     "metadata": {},
     "output_type": "execute_result"
    }
   ],
   "source": [
    "b = np.array([[1, 2, 3], [4, 5, 6]])\n",
    "b"
   ]
  },
  {
   "cell_type": "code",
   "execution_count": 13,
   "id": "a48c7caa",
   "metadata": {},
   "outputs": [
    {
     "data": {
      "text/plain": [
       "array([[ 2,  4,  6],\n",
       "       [ 8, 10, 12]])"
      ]
     },
     "execution_count": 13,
     "metadata": {},
     "output_type": "execute_result"
    }
   ],
   "source": [
    "result = np.add(a, b)\n",
    "result"
   ]
  },
  {
   "cell_type": "code",
   "execution_count": 14,
   "id": "6f324a62",
   "metadata": {},
   "outputs": [
    {
     "data": {
      "text/plain": [
       "array([[0, 0, 0],\n",
       "       [0, 0, 0]])"
      ]
     },
     "execution_count": 14,
     "metadata": {},
     "output_type": "execute_result"
    }
   ],
   "source": [
    "result = np.subtract(a, b)\n",
    "result"
   ]
  },
  {
   "cell_type": "code",
   "execution_count": 15,
   "id": "d6713ccf",
   "metadata": {},
   "outputs": [
    {
     "data": {
      "text/plain": [
       "array([[ 1,  4,  9],\n",
       "       [16, 25, 36]])"
      ]
     },
     "execution_count": 15,
     "metadata": {},
     "output_type": "execute_result"
    }
   ],
   "source": [
    "result = np.multiply(a, b)\n",
    "result"
   ]
  },
  {
   "cell_type": "code",
   "execution_count": 16,
   "id": "69bd558a",
   "metadata": {},
   "outputs": [
    {
     "data": {
      "text/plain": [
       "array([[1., 1., 1.],\n",
       "       [1., 1., 1.]])"
      ]
     },
     "execution_count": 16,
     "metadata": {},
     "output_type": "execute_result"
    }
   ],
   "source": [
    "result = np.divide(a, b)\n",
    "result"
   ]
  },
  {
   "cell_type": "code",
   "execution_count": 17,
   "id": "91fa377c",
   "metadata": {},
   "outputs": [
    {
     "data": {
      "text/plain": [
       "array([[  2.71828183,   7.3890561 ,  20.08553692],\n",
       "       [ 54.59815003, 148.4131591 , 403.42879349]])"
      ]
     },
     "execution_count": 17,
     "metadata": {},
     "output_type": "execute_result"
    }
   ],
   "source": [
    "result = np.exp(a)\n",
    "result"
   ]
  },
  {
   "cell_type": "code",
   "execution_count": 18,
   "id": "4efeb923",
   "metadata": {},
   "outputs": [
    {
     "data": {
      "text/plain": [
       "array([[1.        , 1.41421356, 1.73205081],\n",
       "       [2.        , 2.23606798, 2.44948974]])"
      ]
     },
     "execution_count": 18,
     "metadata": {},
     "output_type": "execute_result"
    }
   ],
   "source": [
    "result = np.sqrt(a)\n",
    "result"
   ]
  },
  {
   "cell_type": "markdown",
   "id": "30687779",
   "metadata": {},
   "source": [
    "## 2) Comparasion operation"
   ]
  },
  {
   "cell_type": "markdown",
   "id": "96442a8c",
   "metadata": {},
   "source": [
    "### Element wise comparasion"
   ]
  },
  {
   "cell_type": "code",
   "execution_count": 19,
   "id": "df7bd0d6",
   "metadata": {},
   "outputs": [
    {
     "data": {
      "text/plain": [
       "array([[1, 2, 3],\n",
       "       [4, 5, 6]])"
      ]
     },
     "execution_count": 19,
     "metadata": {},
     "output_type": "execute_result"
    }
   ],
   "source": [
    "a = np.array([[1, 2, 3], [4, 5, 6]])\n",
    "a"
   ]
  },
  {
   "cell_type": "code",
   "execution_count": 20,
   "id": "dbed1a04",
   "metadata": {},
   "outputs": [
    {
     "data": {
      "text/plain": [
       "array([[1, 2, 3],\n",
       "       [4, 5, 6]])"
      ]
     },
     "execution_count": 20,
     "metadata": {},
     "output_type": "execute_result"
    }
   ],
   "source": [
    "b = np.array([[1, 2, 3], [4, 5, 6]])\n",
    "b"
   ]
  },
  {
   "cell_type": "code",
   "execution_count": 21,
   "id": "b92687d0",
   "metadata": {},
   "outputs": [
    {
     "data": {
      "text/plain": [
       "array([[ True,  True,  True],\n",
       "       [ True,  True,  True]])"
      ]
     },
     "execution_count": 21,
     "metadata": {},
     "output_type": "execute_result"
    }
   ],
   "source": [
    "result = (a == b)\n",
    "result"
   ]
  },
  {
   "cell_type": "code",
   "execution_count": 22,
   "id": "028a7b3e",
   "metadata": {},
   "outputs": [
    {
     "data": {
      "text/plain": [
       "array([[False, False, False],\n",
       "       [False, False, False]])"
      ]
     },
     "execution_count": 22,
     "metadata": {},
     "output_type": "execute_result"
    }
   ],
   "source": [
    "result = (a != b)\n",
    "result"
   ]
  },
  {
   "cell_type": "code",
   "execution_count": 23,
   "id": "21f507c6",
   "metadata": {},
   "outputs": [
    {
     "data": {
      "text/plain": [
       "array([[False, False, False],\n",
       "       [False, False, False]])"
      ]
     },
     "execution_count": 23,
     "metadata": {},
     "output_type": "execute_result"
    }
   ],
   "source": [
    "result = (a>b)\n",
    "result"
   ]
  },
  {
   "cell_type": "code",
   "execution_count": 24,
   "id": "4eca5ac6",
   "metadata": {},
   "outputs": [
    {
     "data": {
      "text/plain": [
       "array([[False, False, False],\n",
       "       [False, False, False]])"
      ]
     },
     "execution_count": 24,
     "metadata": {},
     "output_type": "execute_result"
    }
   ],
   "source": [
    "result = (a<b)\n",
    "result"
   ]
  },
  {
   "cell_type": "markdown",
   "id": "386c4256",
   "metadata": {},
   "source": [
    "### array wise comparasion"
   ]
  },
  {
   "cell_type": "code",
   "execution_count": 25,
   "id": "e7952c84",
   "metadata": {},
   "outputs": [
    {
     "data": {
      "text/plain": [
       "True"
      ]
     },
     "execution_count": 25,
     "metadata": {},
     "output_type": "execute_result"
    }
   ],
   "source": [
    "result = np.array_equal(a, b)\n",
    "result"
   ]
  },
  {
   "cell_type": "markdown",
   "id": "98f83e38",
   "metadata": {},
   "source": [
    "## functions"
   ]
  },
  {
   "cell_type": "code",
   "execution_count": 26,
   "id": "467a33d9",
   "metadata": {},
   "outputs": [
    {
     "data": {
      "text/plain": [
       "array([[1, 2, 3],\n",
       "       [4, 5, 6]])"
      ]
     },
     "execution_count": 26,
     "metadata": {},
     "output_type": "execute_result"
    }
   ],
   "source": [
    "a = np.array([[1, 2, 3], [4, 5, 6]])\n",
    "a"
   ]
  },
  {
   "cell_type": "code",
   "execution_count": 27,
   "id": "19f2831b",
   "metadata": {},
   "outputs": [
    {
     "data": {
      "text/plain": [
       "array([[1, 2, 3],\n",
       "       [4, 5, 6]])"
      ]
     },
     "execution_count": 27,
     "metadata": {},
     "output_type": "execute_result"
    }
   ],
   "source": [
    "b = np.array([[1, 2, 3], [4, 5, 6]])\n",
    "b"
   ]
  },
  {
   "cell_type": "code",
   "execution_count": 28,
   "id": "02527f29",
   "metadata": {},
   "outputs": [
    {
     "data": {
      "text/plain": [
       "array([4, 5, 6])"
      ]
     },
     "execution_count": 28,
     "metadata": {},
     "output_type": "execute_result"
    }
   ],
   "source": [
    "# maximum element in column\n",
    "result = a.max(axis=0)\n",
    "result"
   ]
  },
  {
   "cell_type": "code",
   "execution_count": 29,
   "id": "0db0141e",
   "metadata": {},
   "outputs": [
    {
     "data": {
      "text/plain": [
       "array([3, 6])"
      ]
     },
     "execution_count": 29,
     "metadata": {},
     "output_type": "execute_result"
    }
   ],
   "source": [
    "# minimum element in row\n",
    "result = a.max(axis=1)\n",
    "result"
   ]
  },
  {
   "cell_type": "code",
   "execution_count": 30,
   "id": "1a931457",
   "metadata": {},
   "outputs": [
    {
     "data": {
      "text/plain": [
       "array([1, 2, 3])"
      ]
     },
     "execution_count": 30,
     "metadata": {},
     "output_type": "execute_result"
    }
   ],
   "source": [
    "# minimum element in column\n",
    "result = a.min(axis=0)\n",
    "result"
   ]
  },
  {
   "cell_type": "code",
   "execution_count": 31,
   "id": "fe2cb6d8",
   "metadata": {},
   "outputs": [
    {
     "data": {
      "text/plain": [
       "array([1, 4])"
      ]
     },
     "execution_count": 31,
     "metadata": {},
     "output_type": "execute_result"
    }
   ],
   "source": [
    "# minimum element in row\n",
    "result = a.min(axis=1)\n",
    "result"
   ]
  },
  {
   "cell_type": "code",
   "execution_count": 32,
   "id": "5b298483",
   "metadata": {},
   "outputs": [
    {
     "data": {
      "text/plain": [
       "3.5"
      ]
     },
     "execution_count": 32,
     "metadata": {},
     "output_type": "execute_result"
    }
   ],
   "source": [
    "np.mean(a)"
   ]
  },
  {
   "cell_type": "code",
   "execution_count": 33,
   "id": "8b823be2",
   "metadata": {},
   "outputs": [
    {
     "data": {
      "text/plain": [
       "3.5"
      ]
     },
     "execution_count": 33,
     "metadata": {},
     "output_type": "execute_result"
    }
   ],
   "source": [
    "np.median(a)"
   ]
  },
  {
   "cell_type": "code",
   "execution_count": 34,
   "id": "1b004d01",
   "metadata": {},
   "outputs": [
    {
     "data": {
      "text/plain": [
       "array([[1., 1.],\n",
       "       [1., 1.]])"
      ]
     },
     "execution_count": 34,
     "metadata": {},
     "output_type": "execute_result"
    }
   ],
   "source": [
    "np.corrcoef(a)"
   ]
  },
  {
   "cell_type": "code",
   "execution_count": 35,
   "id": "a5e1815b",
   "metadata": {},
   "outputs": [
    {
     "data": {
      "text/plain": [
       "1.707825127659933"
      ]
     },
     "execution_count": 35,
     "metadata": {},
     "output_type": "execute_result"
    }
   ],
   "source": [
    "np.std(a)"
   ]
  },
  {
   "cell_type": "markdown",
   "id": "ca0ee5a3",
   "metadata": {},
   "source": [
    "## Operations"
   ]
  },
  {
   "cell_type": "code",
   "execution_count": 36,
   "id": "61b7a2e0",
   "metadata": {},
   "outputs": [
    {
     "data": {
      "text/plain": [
       "array([[1, 2, 3],\n",
       "       [4, 5, 6],\n",
       "       [7, 8, 9]])"
      ]
     },
     "execution_count": 36,
     "metadata": {},
     "output_type": "execute_result"
    }
   ],
   "source": [
    "a = np.arange(1, 10).reshape(3, 3)\n",
    "a"
   ]
  },
  {
   "cell_type": "code",
   "execution_count": 37,
   "id": "8f0434c3",
   "metadata": {},
   "outputs": [
    {
     "data": {
      "text/plain": [
       "array([[10,  9,  8],\n",
       "       [ 7,  6,  5],\n",
       "       [ 4,  3,  2]])"
      ]
     },
     "execution_count": 37,
     "metadata": {},
     "output_type": "execute_result"
    }
   ],
   "source": [
    "b = np.arange(10, 1, -1).reshape(3, 3)\n",
    "b"
   ]
  },
  {
   "cell_type": "markdown",
   "id": "5f02b72d",
   "metadata": {},
   "source": [
    "### 1) Deep copy"
   ]
  },
  {
   "cell_type": "code",
   "execution_count": 38,
   "id": "9c82400c",
   "metadata": {},
   "outputs": [
    {
     "data": {
      "text/plain": [
       "array([[1, 2, 3],\n",
       "       [4, 5, 6],\n",
       "       [7, 8, 9]])"
      ]
     },
     "execution_count": 38,
     "metadata": {},
     "output_type": "execute_result"
    }
   ],
   "source": [
    "a_copy = np.copy(a)\n",
    "a_copy"
   ]
  },
  {
   "cell_type": "markdown",
   "id": "8c7e4c27",
   "metadata": {},
   "source": [
    "### 2) Sorting"
   ]
  },
  {
   "cell_type": "code",
   "execution_count": 39,
   "id": "c7f38f30",
   "metadata": {},
   "outputs": [
    {
     "data": {
      "text/plain": [
       "array([[10,  9,  8],\n",
       "       [ 7,  6,  5],\n",
       "       [ 4,  3,  2]])"
      ]
     },
     "execution_count": 39,
     "metadata": {},
     "output_type": "execute_result"
    }
   ],
   "source": [
    "b"
   ]
  },
  {
   "cell_type": "markdown",
   "id": "31dcb01e",
   "metadata": {},
   "source": [
    "#### Sort element column wise"
   ]
  },
  {
   "cell_type": "code",
   "execution_count": 40,
   "id": "4fad12c0",
   "metadata": {},
   "outputs": [
    {
     "data": {
      "text/plain": [
       "array([[ 8,  9, 10],\n",
       "       [ 5,  6,  7],\n",
       "       [ 2,  3,  4]])"
      ]
     },
     "execution_count": 40,
     "metadata": {},
     "output_type": "execute_result"
    }
   ],
   "source": [
    "sorted_b = b.sort(axis=1)\n",
    "b"
   ]
  },
  {
   "cell_type": "markdown",
   "id": "a5078915",
   "metadata": {},
   "source": [
    "#### Sort element row wise"
   ]
  },
  {
   "cell_type": "code",
   "execution_count": 41,
   "id": "2a570e22",
   "metadata": {},
   "outputs": [
    {
     "data": {
      "text/plain": [
       "array([[ 2,  3,  4],\n",
       "       [ 5,  6,  7],\n",
       "       [ 8,  9, 10]])"
      ]
     },
     "execution_count": 41,
     "metadata": {},
     "output_type": "execute_result"
    }
   ],
   "source": [
    "sorted_b = b.sort(axis=0)\n",
    "b"
   ]
  },
  {
   "cell_type": "markdown",
   "id": "d4178668",
   "metadata": {},
   "source": [
    "### 3) Reshape"
   ]
  },
  {
   "cell_type": "code",
   "execution_count": 42,
   "id": "52fda737",
   "metadata": {},
   "outputs": [
    {
     "data": {
      "text/plain": [
       "array([[1, 2, 3],\n",
       "       [4, 5, 6],\n",
       "       [7, 8, 9]])"
      ]
     },
     "execution_count": 42,
     "metadata": {},
     "output_type": "execute_result"
    }
   ],
   "source": [
    "arr = np.arange(1, 10).reshape(3, 3)\n",
    "arr"
   ]
  },
  {
   "cell_type": "markdown",
   "id": "96acd8ab",
   "metadata": {},
   "source": [
    "### 4) Adding"
   ]
  },
  {
   "cell_type": "code",
   "execution_count": 43,
   "id": "c194cc38",
   "metadata": {},
   "outputs": [
    {
     "data": {
      "text/plain": [
       "array([[1, 2, 3],\n",
       "       [4, 5, 6],\n",
       "       [7, 8, 9]])"
      ]
     },
     "execution_count": 43,
     "metadata": {},
     "output_type": "execute_result"
    }
   ],
   "source": [
    "a"
   ]
  },
  {
   "cell_type": "markdown",
   "id": "f0a430fe",
   "metadata": {},
   "source": [
    "#### append: adding to the end of the list"
   ]
  },
  {
   "cell_type": "code",
   "execution_count": 44,
   "id": "87a31f54",
   "metadata": {},
   "outputs": [
    {
     "data": {
      "text/plain": [
       "array([[ 1,  2,  3],\n",
       "       [ 4,  5,  6],\n",
       "       [ 7,  8,  9],\n",
       "       [10, 20, 30]])"
      ]
     },
     "execution_count": 44,
     "metadata": {},
     "output_type": "execute_result"
    }
   ],
   "source": [
    "arr = np.append(a, [10, 20, 30])\n",
    "result = arr.reshape(4, 3)\n",
    "result"
   ]
  },
  {
   "cell_type": "markdown",
   "id": "0eb0d84f",
   "metadata": {},
   "source": [
    "#### insert: inserting value on the index"
   ]
  },
  {
   "cell_type": "code",
   "execution_count": 45,
   "id": "30212031",
   "metadata": {},
   "outputs": [
    {
     "data": {
      "text/plain": [
       "array([[  1,   2,   3],\n",
       "       [100, 200, 300],\n",
       "       [  4,   5,   6],\n",
       "       [  7,   8,   9]])"
      ]
     },
     "execution_count": 45,
     "metadata": {},
     "output_type": "execute_result"
    }
   ],
   "source": [
    "arr = np.insert(a, 3, [100, 200, 300])\n",
    "result = arr.reshape(4, 3)\n",
    "result"
   ]
  },
  {
   "cell_type": "markdown",
   "id": "a802acde",
   "metadata": {},
   "source": [
    "### 5) Removeing"
   ]
  },
  {
   "cell_type": "code",
   "execution_count": 46,
   "id": "90da756e",
   "metadata": {},
   "outputs": [
    {
     "data": {
      "text/plain": [
       "array([[  1,   2,   3],\n",
       "       [100, 200, 300],\n",
       "       [  4,   5,   6],\n",
       "       [  7,   8,   9]])"
      ]
     },
     "execution_count": 46,
     "metadata": {},
     "output_type": "execute_result"
    }
   ],
   "source": [
    "result"
   ]
  },
  {
   "cell_type": "markdown",
   "id": "0f27d140",
   "metadata": {},
   "source": [
    "#### deleting element with the help of indices"
   ]
  },
  {
   "cell_type": "code",
   "execution_count": 47,
   "id": "28adb91f",
   "metadata": {},
   "outputs": [
    {
     "data": {
      "text/plain": [
       "array([[1, 2, 3],\n",
       "       [4, 5, 6],\n",
       "       [7, 8, 9]])"
      ]
     },
     "execution_count": 47,
     "metadata": {},
     "output_type": "execute_result"
    }
   ],
   "source": [
    "result1 = np.delete(result, [[3, 4, 5]])\n",
    "new_arr = result1.reshape(3, 3)\n",
    "new_arr"
   ]
  },
  {
   "cell_type": "markdown",
   "id": "2cfbdae8",
   "metadata": {},
   "source": [
    "#### deleting the third column of array"
   ]
  },
  {
   "cell_type": "code",
   "execution_count": 48,
   "id": "fb362cff",
   "metadata": {},
   "outputs": [
    {
     "data": {
      "text/plain": [
       "array([[  1,   2,   3],\n",
       "       [100, 200, 300],\n",
       "       [  4,   5,   6]])"
      ]
     },
     "execution_count": 48,
     "metadata": {},
     "output_type": "execute_result"
    }
   ],
   "source": [
    "result2 = np.delete(result, 3, axis=0)\n",
    "result2"
   ]
  },
  {
   "cell_type": "markdown",
   "id": "ecef5544",
   "metadata": {},
   "source": [
    "#### deleting the second column of array"
   ]
  },
  {
   "cell_type": "code",
   "execution_count": 49,
   "id": "8f0d2939",
   "metadata": {},
   "outputs": [
    {
     "data": {
      "text/plain": [
       "array([[  1,   2],\n",
       "       [100, 200],\n",
       "       [  4,   5],\n",
       "       [  7,   8]])"
      ]
     },
     "execution_count": 49,
     "metadata": {},
     "output_type": "execute_result"
    }
   ],
   "source": [
    "result3 = np.delete(result, 2, axis=1)\n",
    "result3"
   ]
  },
  {
   "cell_type": "markdown",
   "id": "2773f821",
   "metadata": {},
   "source": [
    "### 6) Combinining"
   ]
  },
  {
   "cell_type": "code",
   "execution_count": 50,
   "id": "60e483a0",
   "metadata": {},
   "outputs": [
    {
     "data": {
      "text/plain": [
       "array([[ 1,  2,  3,  4],\n",
       "       [ 5,  6,  7,  8],\n",
       "       [ 9, 10, 11, 12],\n",
       "       [13, 14, 15, 16]])"
      ]
     },
     "execution_count": 50,
     "metadata": {},
     "output_type": "execute_result"
    }
   ],
   "source": [
    "a = np.arange(1, 17).reshape(4, 4)\n",
    "a"
   ]
  },
  {
   "cell_type": "code",
   "execution_count": 51,
   "id": "3395d908",
   "metadata": {},
   "outputs": [
    {
     "data": {
      "text/plain": [
       "array([[17, 16, 15, 14],\n",
       "       [13, 12, 11, 10],\n",
       "       [ 9,  8,  7,  6],\n",
       "       [ 5,  4,  3,  2]])"
      ]
     },
     "execution_count": 51,
     "metadata": {},
     "output_type": "execute_result"
    }
   ],
   "source": [
    "b = np.arange(17, 1, -1).reshape(4, 4)\n",
    "b"
   ]
  },
  {
   "cell_type": "markdown",
   "id": "f0babd93",
   "metadata": {},
   "source": [
    "#### adding 2nd array to the 1st array at the end of array"
   ]
  },
  {
   "cell_type": "code",
   "execution_count": 52,
   "id": "35dbb531",
   "metadata": {},
   "outputs": [
    {
     "data": {
      "text/plain": [
       "array([[ 1,  2,  3,  4],\n",
       "       [ 5,  6,  7,  8],\n",
       "       [ 9, 10, 11, 12],\n",
       "       [13, 14, 15, 16],\n",
       "       [17, 16, 15, 14],\n",
       "       [13, 12, 11, 10],\n",
       "       [ 9,  8,  7,  6],\n",
       "       [ 5,  4,  3,  2]])"
      ]
     },
     "execution_count": 52,
     "metadata": {},
     "output_type": "execute_result"
    }
   ],
   "source": [
    "result1 = np.concatenate((a, b), axis=0)\n",
    "result1"
   ]
  },
  {
   "cell_type": "markdown",
   "id": "3498a5e5",
   "metadata": {},
   "source": [
    "#### adding 2nd array to the 1st array at the end of array"
   ]
  },
  {
   "cell_type": "code",
   "execution_count": 53,
   "id": "e91c521d",
   "metadata": {},
   "outputs": [
    {
     "data": {
      "text/plain": [
       "array([[ 1,  2,  3,  4, 17, 16, 15, 14],\n",
       "       [ 5,  6,  7,  8, 13, 12, 11, 10],\n",
       "       [ 9, 10, 11, 12,  9,  8,  7,  6],\n",
       "       [13, 14, 15, 16,  5,  4,  3,  2]])"
      ]
     },
     "execution_count": 53,
     "metadata": {},
     "output_type": "execute_result"
    }
   ],
   "source": [
    "result2 = np.concatenate((a, b), axis=1)\n",
    "result2"
   ]
  },
  {
   "cell_type": "markdown",
   "id": "ad1db0d1",
   "metadata": {},
   "source": [
    "#### sorting the element rowwise"
   ]
  },
  {
   "cell_type": "code",
   "execution_count": 54,
   "id": "9f3c672a",
   "metadata": {},
   "outputs": [],
   "source": [
    "sorted_result2 = result2.sort(axis=0)\n",
    "sorted_result2"
   ]
  },
  {
   "cell_type": "code",
   "execution_count": 55,
   "id": "76e19f34",
   "metadata": {},
   "outputs": [
    {
     "data": {
      "text/plain": [
       "array([[ 1,  2,  3,  4,  5,  4,  3,  2],\n",
       "       [ 5,  6,  7,  8,  9,  8,  7,  6],\n",
       "       [ 9, 10, 11, 12, 13, 12, 11, 10],\n",
       "       [13, 14, 15, 16, 17, 16, 15, 14]])"
      ]
     },
     "execution_count": 55,
     "metadata": {},
     "output_type": "execute_result"
    }
   ],
   "source": [
    "result2"
   ]
  },
  {
   "cell_type": "markdown",
   "id": "7d1d02a0",
   "metadata": {},
   "source": [
    "### Spliting"
   ]
  },
  {
   "cell_type": "code",
   "execution_count": 57,
   "id": "32cbf82a",
   "metadata": {},
   "outputs": [
    {
     "data": {
      "text/plain": [
       "array([[ 0,  1,  2],\n",
       "       [ 3,  4,  5],\n",
       "       [ 6,  7,  8],\n",
       "       [ 9, 10, 11]])"
      ]
     },
     "execution_count": 57,
     "metadata": {},
     "output_type": "execute_result"
    }
   ],
   "source": [
    "a = np.arange(0, 12).reshape(4, 3)\n",
    "a"
   ]
  },
  {
   "cell_type": "markdown",
   "id": "2c6169cd",
   "metadata": {},
   "source": [
    "### vertically spliting array into 3 different array"
   ]
  },
  {
   "cell_type": "code",
   "execution_count": 58,
   "id": "afc5766d",
   "metadata": {},
   "outputs": [
    {
     "data": {
      "text/plain": [
       "[array([[0],\n",
       "        [3],\n",
       "        [6],\n",
       "        [9]]),\n",
       " array([[ 1],\n",
       "        [ 4],\n",
       "        [ 7],\n",
       "        [10]]),\n",
       " array([[ 2],\n",
       "        [ 5],\n",
       "        [ 8],\n",
       "        [11]])]"
      ]
     },
     "execution_count": 58,
     "metadata": {},
     "output_type": "execute_result"
    }
   ],
   "source": [
    "result = np.hsplit(a, 3)\n",
    "result"
   ]
  },
  {
   "cell_type": "markdown",
   "id": "1c83051a",
   "metadata": {},
   "source": [
    "### horizontally spliting array into 4 different array"
   ]
  },
  {
   "cell_type": "code",
   "execution_count": 60,
   "id": "298ff1f4",
   "metadata": {},
   "outputs": [
    {
     "data": {
      "text/plain": [
       "[array([[0, 1, 2]]),\n",
       " array([[3, 4, 5]]),\n",
       " array([[6, 7, 8]]),\n",
       " array([[ 9, 10, 11]])]"
      ]
     },
     "execution_count": 60,
     "metadata": {},
     "output_type": "execute_result"
    }
   ],
   "source": [
    "result = np.vsplit(a, 4)\n",
    "result"
   ]
  },
  {
   "cell_type": "markdown",
   "id": "ab896a73",
   "metadata": {},
   "source": [
    "### Stack "
   ]
  },
  {
   "cell_type": "code",
   "execution_count": 64,
   "id": "1f8a2f9f",
   "metadata": {},
   "outputs": [
    {
     "data": {
      "text/plain": [
       "array([[ 1,  2,  3],\n",
       "       [ 4,  5,  6],\n",
       "       [ 7,  8,  9],\n",
       "       [10, 11, 12]])"
      ]
     },
     "execution_count": 64,
     "metadata": {},
     "output_type": "execute_result"
    }
   ],
   "source": [
    "arr1 = np.arange(1, 13).reshape(4, 3)\n",
    "arr1"
   ]
  },
  {
   "cell_type": "code",
   "execution_count": 65,
   "id": "5f3a90c2",
   "metadata": {},
   "outputs": [
    {
     "data": {
      "text/plain": [
       "array([[13, 12, 11],\n",
       "       [10,  9,  8],\n",
       "       [ 7,  6,  5],\n",
       "       [ 4,  3,  2]])"
      ]
     },
     "execution_count": 65,
     "metadata": {},
     "output_type": "execute_result"
    }
   ],
   "source": [
    "arr2 = np.arange(13, 1, -1).reshape(4, 3)\n",
    "arr2"
   ]
  },
  {
   "cell_type": "markdown",
   "id": "3757f9a8",
   "metadata": {},
   "source": [
    "### 1) Horizontal stack"
   ]
  },
  {
   "cell_type": "code",
   "execution_count": 66,
   "id": "9857ee60",
   "metadata": {},
   "outputs": [
    {
     "data": {
      "text/plain": [
       "array([[[ 1,  2,  3],\n",
       "        [ 4,  5,  6],\n",
       "        [ 7,  8,  9],\n",
       "        [10, 11, 12]],\n",
       "\n",
       "       [[13, 12, 11],\n",
       "        [10,  9,  8],\n",
       "        [ 7,  6,  5],\n",
       "        [ 4,  3,  2]]])"
      ]
     },
     "execution_count": 66,
     "metadata": {},
     "output_type": "execute_result"
    }
   ],
   "source": [
    "result = np.stack((arr1, arr2), axis=0)\n",
    "result"
   ]
  },
  {
   "cell_type": "markdown",
   "id": "8bd201f0",
   "metadata": {},
   "source": [
    "### 2) Vertical Stack"
   ]
  },
  {
   "cell_type": "code",
   "execution_count": 67,
   "id": "19c9e8b0",
   "metadata": {},
   "outputs": [
    {
     "data": {
      "text/plain": [
       "array([[[ 1,  2,  3],\n",
       "        [13, 12, 11]],\n",
       "\n",
       "       [[ 4,  5,  6],\n",
       "        [10,  9,  8]],\n",
       "\n",
       "       [[ 7,  8,  9],\n",
       "        [ 7,  6,  5]],\n",
       "\n",
       "       [[10, 11, 12],\n",
       "        [ 4,  3,  2]]])"
      ]
     },
     "execution_count": 67,
     "metadata": {},
     "output_type": "execute_result"
    }
   ],
   "source": [
    "result = np.stack((arr1, arr2), axis=1)\n",
    "result"
   ]
  },
  {
   "cell_type": "markdown",
   "id": "dcafaa18",
   "metadata": {},
   "source": [
    "#### 1) np.arange(start, end, step) : it takes input as float values also, by default step size is 1"
   ]
  },
  {
   "cell_type": "code",
   "execution_count": 62,
   "id": "7cadcdb7",
   "metadata": {},
   "outputs": [
    {
     "data": {
      "text/plain": [
       "array([ 1,  2,  3,  4,  5,  6,  7,  8,  9, 10, 11, 12])"
      ]
     },
     "execution_count": 62,
     "metadata": {},
     "output_type": "execute_result"
    }
   ],
   "source": [
    "arr = np.arange(1, 13)\n",
    "arr"
   ]
  },
  {
   "cell_type": "markdown",
   "id": "296014f9",
   "metadata": {},
   "source": [
    "#### 2) np.count_nonzero(arr) : count total non zero numbers and return their sum"
   ]
  },
  {
   "cell_type": "code",
   "execution_count": 63,
   "id": "9ce46e37",
   "metadata": {},
   "outputs": [
    {
     "data": {
      "text/plain": [
       "12"
      ]
     },
     "execution_count": 63,
     "metadata": {},
     "output_type": "execute_result"
    }
   ],
   "source": [
    "new_arr = np.count_nonzero(arr)\n",
    "new_arr"
   ]
  },
  {
   "cell_type": "code",
   "execution_count": null,
   "id": "64c2f7a8",
   "metadata": {},
   "outputs": [],
   "source": []
  }
 ],
 "metadata": {
  "kernelspec": {
   "display_name": "Python 3",
   "language": "python",
   "name": "python3"
  },
  "language_info": {
   "codemirror_mode": {
    "name": "ipython",
    "version": 3
   },
   "file_extension": ".py",
   "mimetype": "text/x-python",
   "name": "python",
   "nbconvert_exporter": "python",
   "pygments_lexer": "ipython3",
   "version": "3.6.6"
  }
 },
 "nbformat": 4,
 "nbformat_minor": 5
}
