{
 "cells": [
  {
   "cell_type": "markdown",
   "id": "cb7554c0",
   "metadata": {},
   "source": [
    "## Class and object"
   ]
  },
  {
   "cell_type": "markdown",
   "id": "46ebf551",
   "metadata": {},
   "source": [
    "### Class is a classification of real world entity or it is skeleton of real world entity"
   ]
  },
  {
   "cell_type": "markdown",
   "id": "251c7e17",
   "metadata": {},
   "source": [
    "### Object is variable of class or object is instatanious of class"
   ]
  },
  {
   "cell_type": "code",
   "execution_count": 1,
   "id": "fcc1cf62",
   "metadata": {},
   "outputs": [],
   "source": [
    "a = 10"
   ]
  },
  {
   "cell_type": "code",
   "execution_count": 2,
   "id": "0ed7be43",
   "metadata": {},
   "outputs": [
    {
     "data": {
      "text/plain": [
       "int"
      ]
     },
     "execution_count": 2,
     "metadata": {},
     "output_type": "execute_result"
    }
   ],
   "source": [
    "type(a)"
   ]
  },
  {
   "cell_type": "code",
   "execution_count": 3,
   "id": "c936dbff",
   "metadata": {},
   "outputs": [
    {
     "name": "stdout",
     "output_type": "stream",
     "text": [
      "<class 'int'>\n"
     ]
    }
   ],
   "source": [
    "print(type(a))"
   ]
  },
  {
   "cell_type": "code",
   "execution_count": 4,
   "id": "6ac5bba7",
   "metadata": {},
   "outputs": [],
   "source": [
    "def test():\n",
    "    pass"
   ]
  },
  {
   "cell_type": "code",
   "execution_count": 5,
   "id": "88b1b320",
   "metadata": {},
   "outputs": [],
   "source": [
    "class test:\n",
    "    pass"
   ]
  },
  {
   "cell_type": "code",
   "execution_count": 6,
   "id": "37c65450",
   "metadata": {},
   "outputs": [],
   "source": [
    "class person:\n",
    "    pass"
   ]
  },
  {
   "cell_type": "code",
   "execution_count": 7,
   "id": "00af15b4",
   "metadata": {},
   "outputs": [],
   "source": [
    "p = person()"
   ]
  },
  {
   "cell_type": "code",
   "execution_count": 8,
   "id": "ef9e8f6c",
   "metadata": {},
   "outputs": [
    {
     "name": "stdout",
     "output_type": "stream",
     "text": [
      "<__main__.person object at 0x0000023163D22668>\n"
     ]
    }
   ],
   "source": [
    "print(p)"
   ]
  },
  {
   "cell_type": "code",
   "execution_count": 9,
   "id": "8e8a4634",
   "metadata": {},
   "outputs": [],
   "source": [
    "p.firstName = \"Some name\"\n",
    "p.lastName = \"Any name\"\n",
    "p.DOB = \"11/11/2020\""
   ]
  },
  {
   "cell_type": "code",
   "execution_count": 10,
   "id": "f21e9d36",
   "metadata": {},
   "outputs": [],
   "source": [
    "a = person()"
   ]
  },
  {
   "cell_type": "code",
   "execution_count": 11,
   "id": "df58c171",
   "metadata": {},
   "outputs": [],
   "source": [
    "a.firstName = \"abc\"\n",
    "a.lastName = \"xyz\"\n",
    "a.DOB = \"21/32/2020\""
   ]
  },
  {
   "cell_type": "code",
   "execution_count": 12,
   "id": "3262e01a",
   "metadata": {},
   "outputs": [
    {
     "data": {
      "text/plain": [
       "'Some name'"
      ]
     },
     "execution_count": 12,
     "metadata": {},
     "output_type": "execute_result"
    }
   ],
   "source": [
    "p.firstName"
   ]
  },
  {
   "cell_type": "code",
   "execution_count": 13,
   "id": "92e9c464",
   "metadata": {},
   "outputs": [
    {
     "data": {
      "text/plain": [
       "'abc'"
      ]
     },
     "execution_count": 13,
     "metadata": {},
     "output_type": "execute_result"
    }
   ],
   "source": [
    "a.firstName"
   ]
  },
  {
   "cell_type": "code",
   "execution_count": 14,
   "id": "aa50a86c",
   "metadata": {},
   "outputs": [
    {
     "data": {
      "text/plain": [
       "'Any name'"
      ]
     },
     "execution_count": 14,
     "metadata": {},
     "output_type": "execute_result"
    }
   ],
   "source": [
    "p.lastName"
   ]
  },
  {
   "cell_type": "code",
   "execution_count": 15,
   "id": "8d0ee02e",
   "metadata": {},
   "outputs": [
    {
     "data": {
      "text/plain": [
       "'xyz'"
      ]
     },
     "execution_count": 15,
     "metadata": {},
     "output_type": "execute_result"
    }
   ],
   "source": [
    "a.lastName"
   ]
  },
  {
   "cell_type": "markdown",
   "id": "aeb8bbc8",
   "metadata": {},
   "source": [
    "### Self is referance of that object that you are created"
   ]
  },
  {
   "cell_type": "markdown",
   "id": "1d0ef526",
   "metadata": {},
   "source": [
    "### Self is pointing to itself or pointing to object"
   ]
  },
  {
   "cell_type": "markdown",
   "id": "deadc099",
   "metadata": {},
   "source": [
    "### self.Firstname is a class variable or class object and the Firstname this is an initialisize variable to that of class variable"
   ]
  },
  {
   "cell_type": "code",
   "execution_count": 16,
   "id": "d4b5a01f",
   "metadata": {},
   "outputs": [],
   "source": [
    "class information:\n",
    "    def __init__(self, Firstname, Lastname, Dob):\n",
    "        self.Firstname = Firstname\n",
    "        self.Lastname = Lastname\n",
    "        self.Dob = Dob\n",
    "    def getInfo(self):\n",
    "        print(\"The First name of student is:\", self.Firstname)\n",
    "        print(\"The Last name of student is:\", self.Lastname)\n",
    "        print(\"The Date of birth is:\", self.Dob)"
   ]
  },
  {
   "cell_type": "code",
   "execution_count": 17,
   "id": "a4039e99",
   "metadata": {},
   "outputs": [],
   "source": [
    "a = information(\"Shubham\", \"Pilivkar\", \"11/04/2003\")"
   ]
  },
  {
   "cell_type": "code",
   "execution_count": 18,
   "id": "d755e36d",
   "metadata": {},
   "outputs": [
    {
     "data": {
      "text/plain": [
       "{'Firstname': 'Shubham', 'Lastname': 'Pilivkar', 'Dob': '11/04/2003'}"
      ]
     },
     "execution_count": 18,
     "metadata": {},
     "output_type": "execute_result"
    }
   ],
   "source": [
    "a.__dict__"
   ]
  },
  {
   "cell_type": "code",
   "execution_count": 19,
   "id": "6b8759fd",
   "metadata": {},
   "outputs": [
    {
     "name": "stdout",
     "output_type": "stream",
     "text": [
      "The First name of student is: Shubham\n",
      "The Last name of student is: Pilivkar\n",
      "The Date of birth is: 11/04/2003\n"
     ]
    }
   ],
   "source": [
    "a.getInfo()"
   ]
  },
  {
   "cell_type": "code",
   "execution_count": 20,
   "id": "fb0acadc",
   "metadata": {},
   "outputs": [],
   "source": [
    "class data:\n",
    "    def __init__(self, num1, num2):\n",
    "        self.num1 = num1\n",
    "        self.num2 = num2\n",
    "    def getNum(self):\n",
    "        print(\"The First Number is:\", self.num1)\n",
    "        print(\"The Second Number is:\", self.num2)\n",
    "    def addition(self, num4):\n",
    "        result = self.num1 + self.num2 + num4\n",
    "        return result\n",
    "    def subtraction(self, num5):\n",
    "        result = self.num1 - self.num2 - num5\n",
    "        return result"
   ]
  },
  {
   "cell_type": "code",
   "execution_count": 21,
   "id": "2a8b51a1",
   "metadata": {},
   "outputs": [],
   "source": [
    "a = data(10, 20)"
   ]
  },
  {
   "cell_type": "code",
   "execution_count": 22,
   "id": "d7924d21",
   "metadata": {},
   "outputs": [
    {
     "data": {
      "text/plain": [
       "{'num1': 10, 'num2': 20}"
      ]
     },
     "execution_count": 22,
     "metadata": {},
     "output_type": "execute_result"
    }
   ],
   "source": [
    "a.__dict__"
   ]
  },
  {
   "cell_type": "code",
   "execution_count": 23,
   "id": "6bffcb98",
   "metadata": {},
   "outputs": [
    {
     "name": "stdout",
     "output_type": "stream",
     "text": [
      "The First Number is: 10\n",
      "The Second Number is: 20\n"
     ]
    }
   ],
   "source": [
    "a.getNum()"
   ]
  },
  {
   "cell_type": "code",
   "execution_count": 24,
   "id": "3eea1fa5",
   "metadata": {},
   "outputs": [
    {
     "data": {
      "text/plain": [
       "60"
      ]
     },
     "execution_count": 24,
     "metadata": {},
     "output_type": "execute_result"
    }
   ],
   "source": [
    "a.addition(30)"
   ]
  },
  {
   "cell_type": "code",
   "execution_count": 25,
   "id": "ae1068a6",
   "metadata": {},
   "outputs": [
    {
     "data": {
      "text/plain": [
       "-40"
      ]
     },
     "execution_count": 25,
     "metadata": {},
     "output_type": "execute_result"
    }
   ],
   "source": [
    "a.subtraction(30)"
   ]
  },
  {
   "cell_type": "markdown",
   "id": "708efffd",
   "metadata": {},
   "source": [
    "### Str is a inbuilt method that return only and only string type of objects"
   ]
  },
  {
   "cell_type": "markdown",
   "id": "9814e93b",
   "metadata": {},
   "source": [
    "### when we are calling or printing a variable directly in that case the str function return its a body"
   ]
  },
  {
   "cell_type": "markdown",
   "id": "c50d069c",
   "metadata": {},
   "source": [
    "### Str is a function but at a calling time it will behave as a variable object"
   ]
  },
  {
   "cell_type": "code",
   "execution_count": 26,
   "id": "edc85ae9",
   "metadata": {},
   "outputs": [],
   "source": [
    "class studentData:\n",
    "    def __init__(self, Firstname, Lastname):\n",
    "        self.Firstname = Firstname\n",
    "        self.Lastname = Lastname\n",
    "    def __str__(self):\n",
    "        return \"The Student Firstname is {} and Lastname is {}\".format(self.Firstname, self.Lastname)"
   ]
  },
  {
   "cell_type": "code",
   "execution_count": 27,
   "id": "d4eda5f7",
   "metadata": {},
   "outputs": [],
   "source": [
    "a = studentData(\"Shubham\", \"Pilivkar\")"
   ]
  },
  {
   "cell_type": "code",
   "execution_count": 28,
   "id": "19686a1a",
   "metadata": {},
   "outputs": [
    {
     "data": {
      "text/plain": [
       "{'Firstname': 'Shubham', 'Lastname': 'Pilivkar'}"
      ]
     },
     "execution_count": 28,
     "metadata": {},
     "output_type": "execute_result"
    }
   ],
   "source": [
    "a.__dict__"
   ]
  },
  {
   "cell_type": "code",
   "execution_count": 29,
   "id": "c6a6d3ee",
   "metadata": {},
   "outputs": [
    {
     "data": {
      "text/plain": [
       "<__main__.person at 0x23163d22668>"
      ]
     },
     "execution_count": 29,
     "metadata": {},
     "output_type": "execute_result"
    }
   ],
   "source": [
    "p"
   ]
  },
  {
   "cell_type": "code",
   "execution_count": 30,
   "id": "f35f7eda",
   "metadata": {},
   "outputs": [
    {
     "name": "stdout",
     "output_type": "stream",
     "text": [
      "The Student Firstname is Shubham and Lastname is Pilivkar\n"
     ]
    }
   ],
   "source": [
    "print(a)"
   ]
  },
  {
   "cell_type": "code",
   "execution_count": null,
   "id": "b4b6e31f",
   "metadata": {},
   "outputs": [],
   "source": []
  },
  {
   "cell_type": "markdown",
   "id": "0ea88353",
   "metadata": {},
   "source": [
    "## Abstraction"
   ]
  },
  {
   "cell_type": "markdown",
   "id": "1ac55d45",
   "metadata": {},
   "source": [
    "#### Public: No underscore to the variable, in class, outside a class, in subclass, in packages every where you can findout"
   ]
  },
  {
   "cell_type": "markdown",
   "id": "c4139e1e",
   "metadata": {},
   "source": [
    "#### Protected: one underscore to the variable, in class and in subclass"
   ]
  },
  {
   "cell_type": "markdown",
   "id": "947f890f",
   "metadata": {},
   "source": [
    "#### Private: two underscore to the variable, with in a class only"
   ]
  },
  {
   "cell_type": "markdown",
   "id": "c173158a",
   "metadata": {},
   "source": [
    "### 2) Protected: one underscore"
   ]
  },
  {
   "cell_type": "code",
   "execution_count": 31,
   "id": "28a6cd29",
   "metadata": {},
   "outputs": [],
   "source": [
    "class Information:\n",
    "    def __init__(self, name, rollNum, age):\n",
    "        self._name = name\n",
    "        self._rollNum = rollNum\n",
    "        self._age = age\n",
    "    def getInfo(self):\n",
    "        print(\"The Name of student is\", self._name)\n",
    "        print(\"The Roll number of student is\", self._rollNum)\n",
    "        print(\"The Age of student is\", self._age)"
   ]
  },
  {
   "cell_type": "code",
   "execution_count": 32,
   "id": "097702c0",
   "metadata": {},
   "outputs": [],
   "source": [
    "a = Information(\"Shubham\", 420, 18)"
   ]
  },
  {
   "cell_type": "code",
   "execution_count": 33,
   "id": "74664831",
   "metadata": {},
   "outputs": [
    {
     "data": {
      "text/plain": [
       "'Shubham'"
      ]
     },
     "execution_count": 33,
     "metadata": {},
     "output_type": "execute_result"
    }
   ],
   "source": [
    "a._name"
   ]
  },
  {
   "cell_type": "code",
   "execution_count": 34,
   "id": "3bcbc02a",
   "metadata": {},
   "outputs": [
    {
     "data": {
      "text/plain": [
       "{'_name': 'Shubham', '_rollNum': 420, '_age': 18}"
      ]
     },
     "execution_count": 34,
     "metadata": {},
     "output_type": "execute_result"
    }
   ],
   "source": [
    "a.__dict__"
   ]
  },
  {
   "cell_type": "markdown",
   "id": "95fd40d8",
   "metadata": {},
   "source": [
    "### 3) Private: Two underscore"
   ]
  },
  {
   "cell_type": "code",
   "execution_count": 35,
   "id": "fe8cb445",
   "metadata": {},
   "outputs": [],
   "source": [
    "class Information:\n",
    "    def __init__(self, name, roll_Num, age):\n",
    "        self.__name = name\n",
    "        self.__age = age\n",
    "        self.__roll_Num = roll_Num\n",
    "    def getInfo(self):\n",
    "        print(\"The name of student is\", self.__name)\n",
    "        print(\"The roll number of student is\", self.__roll_Num)\n",
    "        print(\"The Age of student is\", self.__age)"
   ]
  },
  {
   "cell_type": "code",
   "execution_count": 36,
   "id": "e85d2760",
   "metadata": {},
   "outputs": [],
   "source": [
    "a = Information(\"Shubham\", 420, 18)"
   ]
  },
  {
   "cell_type": "code",
   "execution_count": 37,
   "id": "f398c27b",
   "metadata": {},
   "outputs": [
    {
     "ename": "NameError",
     "evalue": "name 'a__name' is not defined",
     "output_type": "error",
     "traceback": [
      "\u001b[1;31m---------------------------------------------------------------------------\u001b[0m",
      "\u001b[1;31mNameError\u001b[0m                                 Traceback (most recent call last)",
      "\u001b[1;32m<ipython-input-37-52c70d3d79c6>\u001b[0m in \u001b[0;36m<module>\u001b[1;34m\u001b[0m\n\u001b[1;32m----> 1\u001b[1;33m \u001b[0ma__name\u001b[0m\u001b[1;33m\u001b[0m\u001b[0m\n\u001b[0m",
      "\u001b[1;31mNameError\u001b[0m: name 'a__name' is not defined"
     ]
    }
   ],
   "source": [
    "a__name"
   ]
  },
  {
   "cell_type": "code",
   "execution_count": 38,
   "id": "a039b7e5",
   "metadata": {},
   "outputs": [
    {
     "data": {
      "text/plain": [
       "{'_Information__name': 'Shubham',\n",
       " '_Information__age': 18,\n",
       " '_Information__roll_Num': 420}"
      ]
     },
     "execution_count": 38,
     "metadata": {},
     "output_type": "execute_result"
    }
   ],
   "source": [
    "a.__dict__"
   ]
  },
  {
   "cell_type": "code",
   "execution_count": 39,
   "id": "57f52d81",
   "metadata": {},
   "outputs": [
    {
     "data": {
      "text/plain": [
       "'Shubham'"
      ]
     },
     "execution_count": 39,
     "metadata": {},
     "output_type": "execute_result"
    }
   ],
   "source": [
    "a._Information__name"
   ]
  },
  {
   "cell_type": "code",
   "execution_count": null,
   "id": "0ac1e79c",
   "metadata": {},
   "outputs": [],
   "source": []
  },
  {
   "cell_type": "markdown",
   "id": "2f60736d",
   "metadata": {},
   "source": [
    "## Inheritance"
   ]
  },
  {
   "cell_type": "code",
   "execution_count": 40,
   "id": "879e95f5",
   "metadata": {},
   "outputs": [],
   "source": [
    "class student:\n",
    "    def __init__(self, name, roll_Num, age):\n",
    "        self.name = name\n",
    "        self.age = age\n",
    "        self.roll_Num = roll_Num\n",
    "    def getInfo(self):\n",
    "        print(\"The Name of student is\", self.name)\n",
    "        print(\"The Roll Number of student is\", self.roll_Num)\n",
    "        print(\"The Age of student is\", self.age)\n",
    "    def __str__(self):\n",
    "        return \"The Name of student is {} and roll Number is {} and age is {}\".format(self.name, self.age, self.roll_Num)"
   ]
  },
  {
   "cell_type": "code",
   "execution_count": 41,
   "id": "6f022566",
   "metadata": {},
   "outputs": [],
   "source": [
    "a = student(\"Shubham\", 420, 18)"
   ]
  },
  {
   "cell_type": "code",
   "execution_count": 42,
   "id": "155910b2",
   "metadata": {},
   "outputs": [
    {
     "name": "stdout",
     "output_type": "stream",
     "text": [
      "The Name of student is Shubham and roll Number is 18 and age is 420\n"
     ]
    }
   ],
   "source": [
    "print(a)"
   ]
  },
  {
   "cell_type": "code",
   "execution_count": 43,
   "id": "7b9e7088",
   "metadata": {},
   "outputs": [
    {
     "name": "stdout",
     "output_type": "stream",
     "text": [
      "The Name of student is Shubham\n",
      "The Roll Number of student is 420\n",
      "The Age of student is 18\n"
     ]
    }
   ],
   "source": [
    "a.getInfo()"
   ]
  },
  {
   "cell_type": "code",
   "execution_count": 44,
   "id": "ad0e25c8",
   "metadata": {},
   "outputs": [],
   "source": [
    "class programmer(student):\n",
    "    def __init__(self, language, experience, special, *args):\n",
    "        super(programmer, self).__init__(*args)\n",
    "        self.language = language\n",
    "        self.experience = experience\n",
    "        self.special = special\n",
    "    def getInfo(self):\n",
    "        print(\"The Name of student is\", self.name)\n",
    "        print(\"The Roll Number of student is\", self.roll_Num)\n",
    "        print(\"The Age of student is\", self.age)\n",
    "        print(\"The Language is\", self.language)\n",
    "        print(\"The Year of student experience is\", self.experience)\n",
    "        print(\"The Special skill is\", self.special)"
   ]
  },
  {
   "cell_type": "code",
   "execution_count": 45,
   "id": "9a3bc8b4",
   "metadata": {},
   "outputs": [],
   "source": [
    "a = programmer(\"Java\", 4, \"MlDl\", \"Shubham\", 420, 18)"
   ]
  },
  {
   "cell_type": "code",
   "execution_count": 46,
   "id": "aeba22d9",
   "metadata": {},
   "outputs": [
    {
     "name": "stdout",
     "output_type": "stream",
     "text": [
      "The Name of student is Shubham\n",
      "The Roll Number of student is 420\n",
      "The Age of student is 18\n",
      "The Language is Java\n",
      "The Year of student experience is 4\n",
      "The Special skill is MlDl\n"
     ]
    }
   ],
   "source": [
    "a.getInfo()"
   ]
  },
  {
   "cell_type": "code",
   "execution_count": 47,
   "id": "02fd66d1",
   "metadata": {},
   "outputs": [
    {
     "name": "stdout",
     "output_type": "stream",
     "text": [
      "The Name of student is Shubham and roll Number is 18 and age is 420\n"
     ]
    }
   ],
   "source": [
    "print(a)"
   ]
  },
  {
   "cell_type": "code",
   "execution_count": 48,
   "id": "97cea0c8",
   "metadata": {},
   "outputs": [],
   "source": [
    "class a:\n",
    "    def name(self):\n",
    "        print(\"My name is shubham\")\n",
    "        \n",
    "class b:\n",
    "    def name(self):\n",
    "        print(\"Your name is shubham\")"
   ]
  },
  {
   "cell_type": "code",
   "execution_count": 49,
   "id": "a7f1b12a",
   "metadata": {},
   "outputs": [],
   "source": [
    "class c(a, b):\n",
    "    pass"
   ]
  },
  {
   "cell_type": "code",
   "execution_count": 50,
   "id": "cedc9bd7",
   "metadata": {},
   "outputs": [],
   "source": [
    "a = c()"
   ]
  },
  {
   "cell_type": "code",
   "execution_count": 51,
   "id": "5b05e951",
   "metadata": {},
   "outputs": [
    {
     "name": "stdout",
     "output_type": "stream",
     "text": [
      "My name is shubham\n"
     ]
    }
   ],
   "source": [
    "a.name()"
   ]
  },
  {
   "cell_type": "code",
   "execution_count": null,
   "id": "1ae2f5c8",
   "metadata": {},
   "outputs": [],
   "source": []
  },
  {
   "cell_type": "markdown",
   "id": "bce970d8",
   "metadata": {},
   "source": [
    "## Method Overriding"
   ]
  },
  {
   "cell_type": "code",
   "execution_count": 52,
   "id": "cd3c707e",
   "metadata": {},
   "outputs": [],
   "source": [
    "class Student:\n",
    "    def __init__(self, name, roll_Num, age):\n",
    "        self.name = name\n",
    "        self.roll_Num = roll_Num\n",
    "        self.age = age\n",
    "        \n",
    "    def __str__(self):\n",
    "        return \"My name is {} roll number is {} and age is {} \".format(self.name, self.roll_Num, self.age)"
   ]
  },
  {
   "cell_type": "code",
   "execution_count": 53,
   "id": "405763d6",
   "metadata": {},
   "outputs": [],
   "source": [
    "class StudentMarks(Student):\n",
    "    def __init__(self, mathMarks, physicsMarks, chemistryMarks, *args):\n",
    "        super(StudentMarks, self).__init__(*args)\n",
    "        self.mathMarks = mathMarks\n",
    "        self.physicsMarks = physicsMarks\n",
    "        self.chemistryMarks = chemistryMarks\n",
    "    def __str__(self):\n",
    "        return super(StudentMarks, self).__str__() + \"Math Marks:{}, Physics marks: {}, chemistry marks {}\".format(self.mathMarks, self.physicsMarks, self.chemistryMarks)\n",
    "    "
   ]
  },
  {
   "cell_type": "code",
   "execution_count": 54,
   "id": "6ed338d9",
   "metadata": {},
   "outputs": [],
   "source": [
    "a = StudentMarks(56, 57, 40, \"Shubham\", 420, 19)"
   ]
  },
  {
   "cell_type": "code",
   "execution_count": 55,
   "id": "a22014af",
   "metadata": {},
   "outputs": [
    {
     "name": "stdout",
     "output_type": "stream",
     "text": [
      "My name is Shubham roll number is 420 and age is 19 Math Marks:56, Physics marks: 57, chemistry marks 40\n"
     ]
    }
   ],
   "source": [
    "print(a)"
   ]
  },
  {
   "cell_type": "code",
   "execution_count": 56,
   "id": "0c95cde8",
   "metadata": {},
   "outputs": [],
   "source": [
    "b = Student(\"Shubham\", 420, 19)"
   ]
  },
  {
   "cell_type": "code",
   "execution_count": 57,
   "id": "464481e6",
   "metadata": {},
   "outputs": [
    {
     "name": "stdout",
     "output_type": "stream",
     "text": [
      "My name is Shubham roll number is 420 and age is 19 \n"
     ]
    }
   ],
   "source": [
    "print(b)"
   ]
  },
  {
   "cell_type": "code",
   "execution_count": null,
   "id": "465e1096",
   "metadata": {},
   "outputs": [],
   "source": []
  },
  {
   "cell_type": "markdown",
   "id": "91215ba9",
   "metadata": {},
   "source": [
    "## Encapsulation"
   ]
  },
  {
   "cell_type": "code",
   "execution_count": 58,
   "id": "5c0a34a4",
   "metadata": {},
   "outputs": [],
   "source": [
    "class tyre:\n",
    "    def __init__(self, branch, baise, opt_pre):\n",
    "        self.branch = branch\n",
    "        self.baise = baise\n",
    "        self.opt_pre = opt_pre\n",
    "    def __str__(self):\n",
    "        return str(self.branch) + \" \" +str(self.baise) + \" \" + str(self.opt_pre)"
   ]
  },
  {
   "cell_type": "code",
   "execution_count": 59,
   "id": "d50a2d5f",
   "metadata": {},
   "outputs": [],
   "source": [
    "a = tyre(\"abc\", 20, 40)"
   ]
  },
  {
   "cell_type": "code",
   "execution_count": 60,
   "id": "26ae6652",
   "metadata": {},
   "outputs": [
    {
     "name": "stdout",
     "output_type": "stream",
     "text": [
      "abc 20 40\n"
     ]
    }
   ],
   "source": [
    "print(a)"
   ]
  },
  {
   "cell_type": "code",
   "execution_count": 61,
   "id": "21ec2c74",
   "metadata": {},
   "outputs": [],
   "source": [
    "class engine:\n",
    "    def __init__(self, engine_type, noise_level):\n",
    "        self.engine_type = engine_type\n",
    "        self.noise_level = noise_level\n",
    "    def __str__(self):\n",
    "        return str(self.engine_type) + \" \" + str(self.noise_level)"
   ]
  },
  {
   "cell_type": "code",
   "execution_count": 62,
   "id": "2f36f7de",
   "metadata": {},
   "outputs": [],
   "source": [
    "b = engine(\"Petrol\", 40)"
   ]
  },
  {
   "cell_type": "code",
   "execution_count": 63,
   "id": "fc92bc2d",
   "metadata": {},
   "outputs": [
    {
     "name": "stdout",
     "output_type": "stream",
     "text": [
      "Petrol 40\n"
     ]
    }
   ],
   "source": [
    "print(b)"
   ]
  },
  {
   "cell_type": "code",
   "execution_count": 64,
   "id": "01075b68",
   "metadata": {},
   "outputs": [],
   "source": [
    "class body:\n",
    "    def __init__(self, bodySize):\n",
    "        self.bodySize = bodySize\n",
    "    def __str__(self):\n",
    "        return str(self.bodySize)"
   ]
  },
  {
   "cell_type": "code",
   "execution_count": 65,
   "id": "56292682",
   "metadata": {},
   "outputs": [],
   "source": [
    "c = body(40)"
   ]
  },
  {
   "cell_type": "code",
   "execution_count": 66,
   "id": "73acbd99",
   "metadata": {},
   "outputs": [
    {
     "name": "stdout",
     "output_type": "stream",
     "text": [
      "40\n"
     ]
    }
   ],
   "source": [
    "print(c)"
   ]
  },
  {
   "cell_type": "code",
   "execution_count": 67,
   "id": "927348c9",
   "metadata": {},
   "outputs": [],
   "source": [
    "class car:\n",
    "    def __init__(self, tyre, engine, body):\n",
    "        self.tyre = tyre\n",
    "        self.engine = engine\n",
    "        self.body = body\n",
    "    def __str__(self):\n",
    "        return str(self.tyre) + \" \" + str(self.engine) + \" \" + str(self.body)"
   ]
  },
  {
   "cell_type": "code",
   "execution_count": 68,
   "id": "4157f3c2",
   "metadata": {},
   "outputs": [],
   "source": [
    "ca = car(a, b, c)"
   ]
  },
  {
   "cell_type": "code",
   "execution_count": 69,
   "id": "bef22ce6",
   "metadata": {},
   "outputs": [
    {
     "name": "stdout",
     "output_type": "stream",
     "text": [
      "abc 20 40 Petrol 40 40\n"
     ]
    }
   ],
   "source": [
    "print(ca)"
   ]
  },
  {
   "cell_type": "markdown",
   "id": "6989b5e8",
   "metadata": {},
   "source": [
    "### Dynamic Encapsulation"
   ]
  },
  {
   "cell_type": "code",
   "execution_count": 70,
   "id": "386f285a",
   "metadata": {},
   "outputs": [],
   "source": [
    "cd = car(a, b, \"40\")"
   ]
  },
  {
   "cell_type": "code",
   "execution_count": 71,
   "id": "73ee7bf5",
   "metadata": {},
   "outputs": [
    {
     "name": "stdout",
     "output_type": "stream",
     "text": [
      "abc 20 40 Petrol 40 40\n"
     ]
    }
   ],
   "source": [
    "print(cd)"
   ]
  },
  {
   "cell_type": "code",
   "execution_count": null,
   "id": "030bf7bd",
   "metadata": {},
   "outputs": [],
   "source": []
  },
  {
   "cell_type": "markdown",
   "id": "abfafb65",
   "metadata": {},
   "source": [
    "### 4) Polymorphism: One thing many form"
   ]
  },
  {
   "cell_type": "code",
   "execution_count": 85,
   "id": "7ef21c8c",
   "metadata": {},
   "outputs": [],
   "source": [
    "class addition:\n",
    "    def __init__(self, a, b):\n",
    "        self.a = a\n",
    "        self.b = b\n",
    "    def __str__(self):\n",
    "        return str(self.a + self.b)"
   ]
  },
  {
   "cell_type": "code",
   "execution_count": 86,
   "id": "7503c2fa",
   "metadata": {},
   "outputs": [],
   "source": [
    "a = addition(10, 20)"
   ]
  },
  {
   "cell_type": "code",
   "execution_count": 87,
   "id": "5f60aa08",
   "metadata": {},
   "outputs": [
    {
     "name": "stdout",
     "output_type": "stream",
     "text": [
      "30\n"
     ]
    }
   ],
   "source": [
    "print(a)"
   ]
  },
  {
   "cell_type": "code",
   "execution_count": 88,
   "id": "e72c243d",
   "metadata": {},
   "outputs": [],
   "source": [
    "b = addition([1, 2, 3, 4], [5, 6, 7, 8])"
   ]
  },
  {
   "cell_type": "code",
   "execution_count": 89,
   "id": "c9adce28",
   "metadata": {},
   "outputs": [
    {
     "name": "stdout",
     "output_type": "stream",
     "text": [
      "[1, 2, 3, 4, 5, 6, 7, 8]\n"
     ]
    }
   ],
   "source": [
    "print(b)"
   ]
  },
  {
   "cell_type": "code",
   "execution_count": 90,
   "id": "957934c3",
   "metadata": {},
   "outputs": [],
   "source": [
    "c = addition(\"Shubham \", \"Pilivkar\")"
   ]
  },
  {
   "cell_type": "code",
   "execution_count": 91,
   "id": "942b6657",
   "metadata": {},
   "outputs": [
    {
     "name": "stdout",
     "output_type": "stream",
     "text": [
      "Shubham Pilivkar\n"
     ]
    }
   ],
   "source": [
    "print(c)"
   ]
  },
  {
   "cell_type": "code",
   "execution_count": null,
   "id": "a763f522",
   "metadata": {},
   "outputs": [],
   "source": []
  }
 ],
 "metadata": {
  "kernelspec": {
   "display_name": "Python 3",
   "language": "python",
   "name": "python3"
  },
  "language_info": {
   "codemirror_mode": {
    "name": "ipython",
    "version": 3
   },
   "file_extension": ".py",
   "mimetype": "text/x-python",
   "name": "python",
   "nbconvert_exporter": "python",
   "pygments_lexer": "ipython3",
   "version": "3.6.6"
  }
 },
 "nbformat": 4,
 "nbformat_minor": 5
}
