{
 "cells": [
  {
   "cell_type": "code",
   "execution_count": 1,
   "id": "c548ab4f",
   "metadata": {},
   "outputs": [],
   "source": [
    "def test():\n",
    "    pass"
   ]
  },
  {
   "cell_type": "code",
   "execution_count": 2,
   "id": "32ac3330",
   "metadata": {},
   "outputs": [
    {
     "data": {
      "text/plain": [
       "NoneType"
      ]
     },
     "execution_count": 2,
     "metadata": {},
     "output_type": "execute_result"
    }
   ],
   "source": [
    "type(test())"
   ]
  },
  {
   "cell_type": "code",
   "execution_count": 3,
   "id": "7f32346e",
   "metadata": {},
   "outputs": [
    {
     "name": "stdout",
     "output_type": "stream",
     "text": [
      "\n"
     ]
    },
    {
     "data": {
      "text/plain": [
       "NoneType"
      ]
     },
     "execution_count": 3,
     "metadata": {},
     "output_type": "execute_result"
    }
   ],
   "source": [
    "type(print())"
   ]
  },
  {
   "cell_type": "code",
   "execution_count": 4,
   "id": "02fd5bb4",
   "metadata": {},
   "outputs": [],
   "source": [
    "def add(a, b):\n",
    "    result = a + b\n",
    "    print(result)"
   ]
  },
  {
   "cell_type": "code",
   "execution_count": 5,
   "id": "418f1369",
   "metadata": {},
   "outputs": [],
   "source": [
    "# it throws an error because the return type of add function is Non type soo we cannot add any thing to non type\n",
    "# and also we cannot performt use of functions on that string \n",
    "# a = add(10, 20) + 1"
   ]
  },
  {
   "cell_type": "code",
   "execution_count": 6,
   "id": "942d7379",
   "metadata": {},
   "outputs": [
    {
     "name": "stdout",
     "output_type": "stream",
     "text": [
      "30\n"
     ]
    },
    {
     "data": {
      "text/plain": [
       "NoneType"
      ]
     },
     "execution_count": 6,
     "metadata": {},
     "output_type": "execute_result"
    }
   ],
   "source": [
    "type(add(10, 20))"
   ]
  },
  {
   "cell_type": "code",
   "execution_count": 7,
   "id": "c6611c39",
   "metadata": {},
   "outputs": [
    {
     "name": "stdout",
     "output_type": "stream",
     "text": [
      "30\n"
     ]
    }
   ],
   "source": [
    "x = 10\n",
    "y = 20\n",
    "add(x, y)"
   ]
  },
  {
   "cell_type": "code",
   "execution_count": 8,
   "id": "9001dad4",
   "metadata": {},
   "outputs": [],
   "source": [
    "# but when we specify the return type as return then it will return the actual value not a nane type data"
   ]
  },
  {
   "cell_type": "code",
   "execution_count": 9,
   "id": "ad2b6e4a",
   "metadata": {},
   "outputs": [],
   "source": [
    "def add(a, b):\n",
    "    result = a + b\n",
    "    return result"
   ]
  },
  {
   "cell_type": "code",
   "execution_count": 10,
   "id": "9c53e02c",
   "metadata": {},
   "outputs": [
    {
     "name": "stdout",
     "output_type": "stream",
     "text": [
      "<class 'int'>\n",
      "The value of c becomes 40 after adding 10 into it\n"
     ]
    }
   ],
   "source": [
    "a = 10\n",
    "b = 20\n",
    "c = add(a, b) + 10\n",
    "print(type(c))\n",
    "print(\"The value of c becomes {} after adding 10 into it\".format(c))"
   ]
  },
  {
   "cell_type": "code",
   "execution_count": 11,
   "id": "90e32a2d",
   "metadata": {},
   "outputs": [],
   "source": [
    "def addmul(a, b):\n",
    "    return a+b, a*b"
   ]
  },
  {
   "cell_type": "code",
   "execution_count": 12,
   "id": "5c7e18df",
   "metadata": {},
   "outputs": [
    {
     "data": {
      "text/plain": [
       "(9, 20)"
      ]
     },
     "execution_count": 12,
     "metadata": {},
     "output_type": "execute_result"
    }
   ],
   "source": [
    "addmul(5, 4)"
   ]
  },
  {
   "cell_type": "code",
   "execution_count": 13,
   "id": "3a0a47d1",
   "metadata": {},
   "outputs": [],
   "source": [
    "a, b = addmul(3, 4)"
   ]
  },
  {
   "cell_type": "code",
   "execution_count": 14,
   "id": "6af80065",
   "metadata": {},
   "outputs": [
    {
     "name": "stdout",
     "output_type": "stream",
     "text": [
      "7\n",
      "12\n"
     ]
    }
   ],
   "source": [
    "print(a)\n",
    "print(b)"
   ]
  },
  {
   "cell_type": "code",
   "execution_count": 15,
   "id": "d418da1c",
   "metadata": {},
   "outputs": [],
   "source": [
    "a, b, c, d = 10, 20, \"Name\", \"Code\""
   ]
  },
  {
   "cell_type": "code",
   "execution_count": 16,
   "id": "a0537748",
   "metadata": {},
   "outputs": [
    {
     "name": "stdout",
     "output_type": "stream",
     "text": [
      "10\n",
      "Name\n"
     ]
    }
   ],
   "source": [
    "print(a)\n",
    "print(c)"
   ]
  },
  {
   "cell_type": "code",
   "execution_count": 17,
   "id": "67842cdc",
   "metadata": {},
   "outputs": [],
   "source": [
    "def test():\n",
    "    return [10, 20, 30, 40], \"Shubham\", (1, 2, 3, 4, 5), {\"key\": \"Value\"}"
   ]
  },
  {
   "cell_type": "markdown",
   "id": "f5d5ad43",
   "metadata": {},
   "source": [
    "#### it will return tuple "
   ]
  },
  {
   "cell_type": "code",
   "execution_count": 18,
   "id": "224f15a4",
   "metadata": {},
   "outputs": [
    {
     "data": {
      "text/plain": [
       "([10, 20, 30, 40], 'Shubham', (1, 2, 3, 4, 5), {'key': 'Value'})"
      ]
     },
     "execution_count": 18,
     "metadata": {},
     "output_type": "execute_result"
    }
   ],
   "source": [
    "test()"
   ]
  },
  {
   "cell_type": "code",
   "execution_count": 19,
   "id": "67d21ee4",
   "metadata": {},
   "outputs": [],
   "source": [
    "_, _, a, _ = test()"
   ]
  },
  {
   "cell_type": "code",
   "execution_count": 20,
   "id": "e4344b40",
   "metadata": {},
   "outputs": [
    {
     "data": {
      "text/plain": [
       "(1, 2, 3, 4, 5)"
      ]
     },
     "execution_count": 20,
     "metadata": {},
     "output_type": "execute_result"
    }
   ],
   "source": [
    "a"
   ]
  },
  {
   "cell_type": "markdown",
   "id": "49e62410",
   "metadata": {},
   "source": [
    "#### Prime Number"
   ]
  },
  {
   "cell_type": "code",
   "execution_count": 18,
   "id": "8726e218",
   "metadata": {},
   "outputs": [],
   "source": [
    "def primeNumber(a):\n",
    "    isPrime = True\n",
    "    for i in range(2, a):\n",
    "        if a % i == 0:\n",
    "            isPrime = False\n",
    "            break;\n",
    "        else:\n",
    "            isPrime = True\n",
    "    return isPrime"
   ]
  },
  {
   "cell_type": "code",
   "execution_count": 25,
   "id": "12df56db",
   "metadata": {},
   "outputs": [
    {
     "name": "stdout",
     "output_type": "stream",
     "text": [
      "True\n"
     ]
    }
   ],
   "source": [
    "a = primeNumber(17)\n",
    "print(a)"
   ]
  },
  {
   "cell_type": "code",
   "execution_count": null,
   "id": "d4b21e70",
   "metadata": {},
   "outputs": [],
   "source": []
  }
 ],
 "metadata": {
  "kernelspec": {
   "display_name": "Python 3",
   "language": "python",
   "name": "python3"
  },
  "language_info": {
   "codemirror_mode": {
    "name": "ipython",
    "version": 3
   },
   "file_extension": ".py",
   "mimetype": "text/x-python",
   "name": "python",
   "nbconvert_exporter": "python",
   "pygments_lexer": "ipython3",
   "version": "3.6.6"
  }
 },
 "nbformat": 4,
 "nbformat_minor": 5
}
