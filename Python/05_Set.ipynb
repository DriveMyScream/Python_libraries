{
 "cells": [
  {
   "cell_type": "markdown",
   "id": "93aaea6e",
   "metadata": {},
   "source": [
    "### Set is a collection of unique data "
   ]
  },
  {
   "cell_type": "code",
   "execution_count": 1,
   "id": "a82bb756",
   "metadata": {},
   "outputs": [],
   "source": [
    "a = {}"
   ]
  },
  {
   "cell_type": "code",
   "execution_count": 2,
   "id": "31549c88",
   "metadata": {},
   "outputs": [
    {
     "data": {
      "text/plain": [
       "dict"
      ]
     },
     "execution_count": 2,
     "metadata": {},
     "output_type": "execute_result"
    }
   ],
   "source": [
    "type(a)"
   ]
  },
  {
   "cell_type": "code",
   "execution_count": 3,
   "id": "113b11d7",
   "metadata": {},
   "outputs": [],
   "source": [
    "b = {10}"
   ]
  },
  {
   "cell_type": "code",
   "execution_count": 4,
   "id": "acd1a884",
   "metadata": {},
   "outputs": [
    {
     "data": {
      "text/plain": [
       "set"
      ]
     },
     "execution_count": 4,
     "metadata": {},
     "output_type": "execute_result"
    }
   ],
   "source": [
    "type(b)"
   ]
  },
  {
   "cell_type": "code",
   "execution_count": 5,
   "id": "68325029",
   "metadata": {},
   "outputs": [],
   "source": [
    "a = {1, 2, 3, 4, 5, 4, 3, 2, 1, 2, 4, 5}"
   ]
  },
  {
   "cell_type": "code",
   "execution_count": 6,
   "id": "1c1e58d7",
   "metadata": {},
   "outputs": [
    {
     "data": {
      "text/plain": [
       "{1, 2, 3, 4, 5}"
      ]
     },
     "execution_count": 6,
     "metadata": {},
     "output_type": "execute_result"
    }
   ],
   "source": [
    "a"
   ]
  },
  {
   "cell_type": "markdown",
   "id": "0bc85b29",
   "metadata": {},
   "source": [
    "#### Slicing and indexing is not supported in set because the content stored in set is not in continous manner therefore we cannot access them"
   ]
  },
  {
   "cell_type": "code",
   "execution_count": 7,
   "id": "7dcc201c",
   "metadata": {},
   "outputs": [],
   "source": [
    "# a[0]"
   ]
  },
  {
   "cell_type": "markdown",
   "id": "50c3d4eb",
   "metadata": {},
   "source": [
    "#### Set iteration"
   ]
  },
  {
   "cell_type": "code",
   "execution_count": 8,
   "id": "659c1c8f",
   "metadata": {},
   "outputs": [
    {
     "name": "stdout",
     "output_type": "stream",
     "text": [
      "1 2 3 4 5 "
     ]
    }
   ],
   "source": [
    "for i in a:\n",
    "    print(i, end=\" \")"
   ]
  },
  {
   "cell_type": "markdown",
   "id": "fcdb78e6",
   "metadata": {},
   "source": [
    "#### Set Methods"
   ]
  },
  {
   "cell_type": "code",
   "execution_count": 9,
   "id": "c6c3414f",
   "metadata": {},
   "outputs": [
    {
     "data": {
      "text/plain": [
       "{1, 2, 3, 4, 5}"
      ]
     },
     "execution_count": 9,
     "metadata": {},
     "output_type": "execute_result"
    }
   ],
   "source": [
    "a"
   ]
  },
  {
   "cell_type": "code",
   "execution_count": 10,
   "id": "a5ddadf9",
   "metadata": {},
   "outputs": [
    {
     "data": {
      "text/plain": [
       "{1, 2, 3, 4, 5, 50}"
      ]
     },
     "execution_count": 10,
     "metadata": {},
     "output_type": "execute_result"
    }
   ],
   "source": [
    "a.add(50)\n",
    "a"
   ]
  },
  {
   "cell_type": "markdown",
   "id": "eef8b7d3",
   "metadata": {},
   "source": [
    "#### The pop operation will pop the element from the first index of the set"
   ]
  },
  {
   "cell_type": "code",
   "execution_count": 11,
   "id": "5a041a3e",
   "metadata": {},
   "outputs": [
    {
     "data": {
      "text/plain": [
       "1"
      ]
     },
     "execution_count": 11,
     "metadata": {},
     "output_type": "execute_result"
    }
   ],
   "source": [
    "a.pop()"
   ]
  },
  {
   "cell_type": "code",
   "execution_count": null,
   "id": "d0832281",
   "metadata": {},
   "outputs": [],
   "source": []
  },
  {
   "cell_type": "markdown",
   "id": "a78f3c7f",
   "metadata": {},
   "source": [
    "#### Set will never return a sorted data set it will sort in alpha numeric fashion"
   ]
  },
  {
   "cell_type": "code",
   "execution_count": 13,
   "id": "1315a8cf",
   "metadata": {},
   "outputs": [
    {
     "data": {
      "text/plain": [
       "{1, 2, 3, 4, 5, 234, 1123, 1232, 1423, 2321, 3111}"
      ]
     },
     "execution_count": 13,
     "metadata": {},
     "output_type": "execute_result"
    }
   ],
   "source": [
    "a = {1, 2, 3, 4, 5, 1232, 1123, 2321, 234, 3111, 1423}\n",
    "a"
   ]
  },
  {
   "cell_type": "markdown",
   "id": "7e312078",
   "metadata": {},
   "source": [
    "#### Type conversion"
   ]
  },
  {
   "cell_type": "code",
   "execution_count": 14,
   "id": "d9738613",
   "metadata": {},
   "outputs": [],
   "source": [
    "a = {10, 20, 30, 40, 50}"
   ]
  },
  {
   "cell_type": "code",
   "execution_count": 15,
   "id": "932f585c",
   "metadata": {},
   "outputs": [
    {
     "data": {
      "text/plain": [
       "[40, 10, 50, 20, 30]"
      ]
     },
     "execution_count": 15,
     "metadata": {},
     "output_type": "execute_result"
    }
   ],
   "source": [
    "a = list(a)\n",
    "a"
   ]
  },
  {
   "cell_type": "code",
   "execution_count": 16,
   "id": "f849b2de",
   "metadata": {},
   "outputs": [],
   "source": [
    "a = [100, 200, 300, 400, 500]"
   ]
  },
  {
   "cell_type": "code",
   "execution_count": 17,
   "id": "f855b82d",
   "metadata": {},
   "outputs": [
    {
     "data": {
      "text/plain": [
       "{100, 200, 300, 400, 500}"
      ]
     },
     "execution_count": 17,
     "metadata": {},
     "output_type": "execute_result"
    }
   ],
   "source": [
    "a = set(a)\n",
    "a"
   ]
  },
  {
   "cell_type": "code",
   "execution_count": null,
   "id": "273b22a9",
   "metadata": {},
   "outputs": [],
   "source": []
  }
 ],
 "metadata": {
  "kernelspec": {
   "display_name": "Python 3",
   "language": "python",
   "name": "python3"
  },
  "language_info": {
   "codemirror_mode": {
    "name": "ipython",
    "version": 3
   },
   "file_extension": ".py",
   "mimetype": "text/x-python",
   "name": "python",
   "nbconvert_exporter": "python",
   "pygments_lexer": "ipython3",
   "version": "3.6.6"
  }
 },
 "nbformat": 4,
 "nbformat_minor": 5
}
