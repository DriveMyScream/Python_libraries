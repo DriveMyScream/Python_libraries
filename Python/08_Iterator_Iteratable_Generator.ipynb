{
 "cells": [
  {
   "cell_type": "markdown",
   "id": "515c00f5",
   "metadata": {},
   "source": [
    "### Iterable is something which is store in from of indexs"
   ]
  },
  {
   "cell_type": "markdown",
   "id": "55771189",
   "metadata": {},
   "source": [
    "### If something is iterable object then we can convert it into iterator object"
   ]
  },
  {
   "cell_type": "markdown",
   "id": "ce79484c",
   "metadata": {},
   "source": [
    "### There is no concept of indexs while storing the integer data type, because the whole integer is store in one specific index therefore the int is not a iterable and iterator"
   ]
  },
  {
   "cell_type": "markdown",
   "id": "60689e8b",
   "metadata": {},
   "source": [
    "### String is not a iterator object, String is iteratable object. internally for loop will convert the iteratable to iterator"
   ]
  },
  {
   "cell_type": "code",
   "execution_count": 1,
   "id": "7340703f",
   "metadata": {},
   "outputs": [],
   "source": [
    "a = \"Shubham\""
   ]
  },
  {
   "cell_type": "code",
   "execution_count": 2,
   "id": "5b43384a",
   "metadata": {},
   "outputs": [
    {
     "name": "stdout",
     "output_type": "stream",
     "text": [
      "S\n",
      "h\n",
      "u\n",
      "b\n",
      "h\n",
      "a\n",
      "m\n"
     ]
    }
   ],
   "source": [
    "for i in a:\n",
    "    print(i)"
   ]
  },
  {
   "cell_type": "code",
   "execution_count": 3,
   "id": "55aff6b5",
   "metadata": {},
   "outputs": [
    {
     "data": {
      "text/plain": [
       "str"
      ]
     },
     "execution_count": 3,
     "metadata": {},
     "output_type": "execute_result"
    }
   ],
   "source": [
    "type(a)"
   ]
  },
  {
   "cell_type": "code",
   "execution_count": 4,
   "id": "af04f526",
   "metadata": {},
   "outputs": [
    {
     "ename": "TypeError",
     "evalue": "'str' object is not an iterator",
     "output_type": "error",
     "traceback": [
      "\u001b[1;31m---------------------------------------------------------------------------\u001b[0m",
      "\u001b[1;31mTypeError\u001b[0m                                 Traceback (most recent call last)",
      "\u001b[1;32m<ipython-input-4-15841f3f11d4>\u001b[0m in \u001b[0;36m<module>\u001b[1;34m\u001b[0m\n\u001b[1;32m----> 1\u001b[1;33m \u001b[0mnext\u001b[0m\u001b[1;33m(\u001b[0m\u001b[0ma\u001b[0m\u001b[1;33m)\u001b[0m\u001b[1;33m\u001b[0m\u001b[0m\n\u001b[0m",
      "\u001b[1;31mTypeError\u001b[0m: 'str' object is not an iterator"
     ]
    }
   ],
   "source": [
    "next(a)"
   ]
  },
  {
   "cell_type": "code",
   "execution_count": 5,
   "id": "403c952c",
   "metadata": {},
   "outputs": [],
   "source": [
    "a = iter(a)"
   ]
  },
  {
   "cell_type": "markdown",
   "id": "d86a28bb",
   "metadata": {},
   "source": [
    "### Here we convert the iteratable object into iterator"
   ]
  },
  {
   "cell_type": "code",
   "execution_count": 6,
   "id": "c92f874b",
   "metadata": {},
   "outputs": [
    {
     "data": {
      "text/plain": [
       "str_iterator"
      ]
     },
     "execution_count": 6,
     "metadata": {},
     "output_type": "execute_result"
    }
   ],
   "source": [
    "type(a)"
   ]
  },
  {
   "cell_type": "markdown",
   "id": "43fa152d",
   "metadata": {},
   "source": [
    "### next function is know from where to start but it dont know where to stop"
   ]
  },
  {
   "cell_type": "code",
   "execution_count": 7,
   "id": "ace904e4",
   "metadata": {},
   "outputs": [
    {
     "data": {
      "text/plain": [
       "'S'"
      ]
     },
     "execution_count": 7,
     "metadata": {},
     "output_type": "execute_result"
    }
   ],
   "source": [
    "next(a)"
   ]
  },
  {
   "cell_type": "markdown",
   "id": "73af35f0",
   "metadata": {},
   "source": [
    "### Generator is used to generate a data set"
   ]
  },
  {
   "cell_type": "markdown",
   "id": "faf943c8",
   "metadata": {},
   "source": [
    "### Generator: Generator is a kind of object which keep on generating data set remembering that the last created data set"
   ]
  },
  {
   "cell_type": "code",
   "execution_count": 9,
   "id": "4a0d57c6",
   "metadata": {},
   "outputs": [
    {
     "data": {
      "text/plain": [
       "range(1, 11)"
      ]
     },
     "execution_count": 9,
     "metadata": {},
     "output_type": "execute_result"
    }
   ],
   "source": [
    "range(1, 11)"
   ]
  },
  {
   "cell_type": "code",
   "execution_count": 10,
   "id": "8993471d",
   "metadata": {},
   "outputs": [
    {
     "ename": "TypeError",
     "evalue": "'range' object is not an iterator",
     "output_type": "error",
     "traceback": [
      "\u001b[1;31m---------------------------------------------------------------------------\u001b[0m",
      "\u001b[1;31mTypeError\u001b[0m                                 Traceback (most recent call last)",
      "\u001b[1;32m<ipython-input-10-6ae5b07652d2>\u001b[0m in \u001b[0;36m<module>\u001b[1;34m\u001b[0m\n\u001b[1;32m----> 1\u001b[1;33m \u001b[0mnext\u001b[0m\u001b[1;33m(\u001b[0m\u001b[0mrange\u001b[0m\u001b[1;33m(\u001b[0m\u001b[1;36m1\u001b[0m\u001b[1;33m,\u001b[0m \u001b[1;36m11\u001b[0m\u001b[1;33m)\u001b[0m\u001b[1;33m)\u001b[0m\u001b[1;33m\u001b[0m\u001b[0m\n\u001b[0m",
      "\u001b[1;31mTypeError\u001b[0m: 'range' object is not an iterator"
     ]
    }
   ],
   "source": [
    "next(range(1, 11))"
   ]
  },
  {
   "cell_type": "code",
   "execution_count": 11,
   "id": "fc15eee4",
   "metadata": {},
   "outputs": [],
   "source": [
    "for i in range(1, 11):\n",
    "    pass"
   ]
  },
  {
   "cell_type": "markdown",
   "id": "6dbcc448",
   "metadata": {},
   "source": [
    "### Range function is not a iterator function it is a iteratable function, but while using for loop, for loop will internally convert the iteratable into iterator object"
   ]
  },
  {
   "cell_type": "code",
   "execution_count": 12,
   "id": "345fc461",
   "metadata": {},
   "outputs": [],
   "source": [
    "a = iter(range(1, 11))"
   ]
  },
  {
   "cell_type": "code",
   "execution_count": 14,
   "id": "84ef5d24",
   "metadata": {},
   "outputs": [
    {
     "data": {
      "text/plain": [
       "1"
      ]
     },
     "execution_count": 14,
     "metadata": {},
     "output_type": "execute_result"
    }
   ],
   "source": [
    "next(a)"
   ]
  },
  {
   "cell_type": "markdown",
   "id": "a08c8f87",
   "metadata": {},
   "source": [
    "### If the object is iterable or generator, You can convert the generator or iterable object into a iterator"
   ]
  },
  {
   "cell_type": "code",
   "execution_count": 16,
   "id": "9c8a61b2",
   "metadata": {},
   "outputs": [
    {
     "data": {
      "text/plain": [
       "[1, 2, 3, 4, 5, 6, 7, 8, 9, 10]"
      ]
     },
     "execution_count": 16,
     "metadata": {},
     "output_type": "execute_result"
    }
   ],
   "source": [
    "list(range(1, 11))"
   ]
  },
  {
   "cell_type": "code",
   "execution_count": 17,
   "id": "633c91df",
   "metadata": {},
   "outputs": [
    {
     "data": {
      "text/plain": [
       "['S', 'h', 'u', 'b', 'h', 'a', 'm']"
      ]
     },
     "execution_count": 17,
     "metadata": {},
     "output_type": "execute_result"
    }
   ],
   "source": [
    "list(\"Shubham\")"
   ]
  },
  {
   "cell_type": "code",
   "execution_count": null,
   "id": "5ad3cea8",
   "metadata": {},
   "outputs": [],
   "source": []
  },
  {
   "cell_type": "markdown",
   "id": "1641fb14",
   "metadata": {},
   "source": [
    "## Generator"
   ]
  },
  {
   "cell_type": "code",
   "execution_count": 2,
   "id": "bfea322e",
   "metadata": {},
   "outputs": [],
   "source": [
    "def createCube(n):\n",
    "    for i in range(n):\n",
    "        yield i**3"
   ]
  },
  {
   "cell_type": "code",
   "execution_count": 3,
   "id": "c4f16baa",
   "metadata": {},
   "outputs": [
    {
     "data": {
      "text/plain": [
       "<generator object createCube at 0x00000270FC4A50A0>"
      ]
     },
     "execution_count": 3,
     "metadata": {},
     "output_type": "execute_result"
    }
   ],
   "source": [
    "createCube(10)"
   ]
  },
  {
   "cell_type": "code",
   "execution_count": 4,
   "id": "a5ecdb74",
   "metadata": {},
   "outputs": [
    {
     "name": "stdout",
     "output_type": "stream",
     "text": [
      "0\n",
      "1\n",
      "8\n",
      "27\n",
      "64\n",
      "125\n",
      "216\n",
      "343\n",
      "512\n",
      "729\n"
     ]
    }
   ],
   "source": [
    "for i in createCube(10):\n",
    "    print(i)"
   ]
  },
  {
   "cell_type": "markdown",
   "id": "d5dfdbe8",
   "metadata": {},
   "source": [
    "## Now this createCube is Generator or iterable function for use we need to convert it into a iterator function "
   ]
  },
  {
   "cell_type": "code",
   "execution_count": 5,
   "id": "56234b9d",
   "metadata": {},
   "outputs": [],
   "source": [
    "a = iter(createCube(10))"
   ]
  },
  {
   "cell_type": "code",
   "execution_count": 9,
   "id": "79225435",
   "metadata": {},
   "outputs": [
    {
     "data": {
      "text/plain": [
       "27"
      ]
     },
     "execution_count": 9,
     "metadata": {},
     "output_type": "execute_result"
    }
   ],
   "source": [
    "next(a)"
   ]
  },
  {
   "cell_type": "markdown",
   "id": "931dc910",
   "metadata": {},
   "source": [
    "#### Fibonacci Series"
   ]
  },
  {
   "cell_type": "code",
   "execution_count": 18,
   "id": "96fca12f",
   "metadata": {},
   "outputs": [],
   "source": [
    "def fibonacci(n):\n",
    "    a = 0\n",
    "    b = 1\n",
    "    for i in range(2, n+1):\n",
    "        yield a\n",
    "        a, b = b, a+b"
   ]
  },
  {
   "cell_type": "code",
   "execution_count": 19,
   "id": "ebff0a73",
   "metadata": {},
   "outputs": [
    {
     "data": {
      "text/plain": [
       "<generator object fibonacci at 0x00000270FE7CE4C0>"
      ]
     },
     "execution_count": 19,
     "metadata": {},
     "output_type": "execute_result"
    }
   ],
   "source": [
    "fibonacci(10)"
   ]
  },
  {
   "cell_type": "code",
   "execution_count": 20,
   "id": "1f5f0303",
   "metadata": {},
   "outputs": [
    {
     "name": "stdout",
     "output_type": "stream",
     "text": [
      "0\n",
      "1\n",
      "1\n",
      "2\n",
      "3\n",
      "5\n",
      "8\n",
      "13\n",
      "21\n"
     ]
    }
   ],
   "source": [
    "for i in fibonacci(10):\n",
    "    print(i)"
   ]
  },
  {
   "cell_type": "code",
   "execution_count": 21,
   "id": "ca4e5f2c",
   "metadata": {},
   "outputs": [],
   "source": [
    "a = iter(fibonacci(10))"
   ]
  },
  {
   "cell_type": "code",
   "execution_count": 24,
   "id": "d8b3d9db",
   "metadata": {},
   "outputs": [
    {
     "data": {
      "text/plain": [
       "1"
      ]
     },
     "execution_count": 24,
     "metadata": {},
     "output_type": "execute_result"
    }
   ],
   "source": [
    "next(a)"
   ]
  },
  {
   "cell_type": "code",
   "execution_count": null,
   "id": "db5261e9",
   "metadata": {},
   "outputs": [],
   "source": []
  },
  {
   "cell_type": "code",
   "execution_count": null,
   "id": "731a914a",
   "metadata": {},
   "outputs": [],
   "source": []
  }
 ],
 "metadata": {
  "kernelspec": {
   "display_name": "Python 3",
   "language": "python",
   "name": "python3"
  },
  "language_info": {
   "codemirror_mode": {
    "name": "ipython",
    "version": 3
   },
   "file_extension": ".py",
   "mimetype": "text/x-python",
   "name": "python",
   "nbconvert_exporter": "python",
   "pygments_lexer": "ipython3",
   "version": "3.6.6"
  }
 },
 "nbformat": 4,
 "nbformat_minor": 5
}
