{
 "cells": [
  {
   "cell_type": "markdown",
   "id": "21748c9b",
   "metadata": {},
   "source": [
    "## Map Function: One by one mapping, Map function behaves as generator object"
   ]
  },
  {
   "cell_type": "markdown",
   "id": "4e1c5b9b",
   "metadata": {},
   "source": [
    "### Map function always perform rowwise operation"
   ]
  },
  {
   "cell_type": "code",
   "execution_count": 1,
   "id": "29a257b2",
   "metadata": {},
   "outputs": [],
   "source": [
    "def Square(n):\n",
    "    return n**2"
   ]
  },
  {
   "cell_type": "code",
   "execution_count": 2,
   "id": "40412520",
   "metadata": {},
   "outputs": [
    {
     "data": {
      "text/plain": [
       "100"
      ]
     },
     "execution_count": 2,
     "metadata": {},
     "output_type": "execute_result"
    }
   ],
   "source": [
    "Square(10)"
   ]
  },
  {
   "cell_type": "code",
   "execution_count": 3,
   "id": "08b2c017",
   "metadata": {},
   "outputs": [],
   "source": [
    "a = [1, 2, 3, 4, 5, 6, 7, 8, 9, 10]"
   ]
  },
  {
   "cell_type": "markdown",
   "id": "119005fd",
   "metadata": {},
   "source": [
    "#### Approach 1"
   ]
  },
  {
   "cell_type": "code",
   "execution_count": 4,
   "id": "8b5dbb35",
   "metadata": {},
   "outputs": [
    {
     "data": {
      "text/plain": [
       "[1, 4, 9, 16, 25, 36, 49, 64, 81, 100]"
      ]
     },
     "execution_count": 4,
     "metadata": {},
     "output_type": "execute_result"
    }
   ],
   "source": [
    "b = []\n",
    "for i in a:\n",
    "    b.append(Square(i))\n",
    "b"
   ]
  },
  {
   "cell_type": "markdown",
   "id": "d992a3ec",
   "metadata": {},
   "source": [
    "#### Approach 2"
   ]
  },
  {
   "cell_type": "code",
   "execution_count": 5,
   "id": "c114127e",
   "metadata": {},
   "outputs": [
    {
     "data": {
      "text/plain": [
       "[1, 4, 9, 16, 25, 36, 49, 64, 81, 100]"
      ]
     },
     "execution_count": 5,
     "metadata": {},
     "output_type": "execute_result"
    }
   ],
   "source": [
    "[Square(i) for i in a]"
   ]
  },
  {
   "cell_type": "markdown",
   "id": "4d527ac8",
   "metadata": {},
   "source": [
    "#### Approach 3"
   ]
  },
  {
   "cell_type": "code",
   "execution_count": 6,
   "id": "5a911ac5",
   "metadata": {},
   "outputs": [
    {
     "data": {
      "text/plain": [
       "<map at 0x221084657f0>"
      ]
     },
     "execution_count": 6,
     "metadata": {},
     "output_type": "execute_result"
    }
   ],
   "source": [
    "map(Square, a)"
   ]
  },
  {
   "cell_type": "code",
   "execution_count": 7,
   "id": "b54b0e06",
   "metadata": {},
   "outputs": [
    {
     "data": {
      "text/plain": [
       "[1, 4, 9, 16, 25, 36, 49, 64, 81, 100]"
      ]
     },
     "execution_count": 7,
     "metadata": {},
     "output_type": "execute_result"
    }
   ],
   "source": [
    "list(map(Square, a))"
   ]
  },
  {
   "cell_type": "markdown",
   "id": "174922a4",
   "metadata": {},
   "source": [
    "#### Using lambda function"
   ]
  },
  {
   "cell_type": "code",
   "execution_count": 9,
   "id": "55cde90b",
   "metadata": {},
   "outputs": [
    {
     "data": {
      "text/plain": [
       "<map at 0x22108471dd8>"
      ]
     },
     "execution_count": 9,
     "metadata": {},
     "output_type": "execute_result"
    }
   ],
   "source": [
    "map((lambda x: x**2), a)"
   ]
  },
  {
   "cell_type": "code",
   "execution_count": 10,
   "id": "90ac524d",
   "metadata": {},
   "outputs": [
    {
     "data": {
      "text/plain": [
       "[1, 4, 9, 16, 25, 36, 49, 64, 81, 100]"
      ]
     },
     "execution_count": 10,
     "metadata": {},
     "output_type": "execute_result"
    }
   ],
   "source": [
    "list(map((lambda x: x**2), a))"
   ]
  },
  {
   "cell_type": "markdown",
   "id": "334cf096",
   "metadata": {},
   "source": [
    "#### Approach 4"
   ]
  },
  {
   "cell_type": "code",
   "execution_count": 11,
   "id": "2bc68a6a",
   "metadata": {},
   "outputs": [
    {
     "data": {
      "text/plain": [
       "[1, 2, 3, 4, 5, 6, 7, 8, 9, 10]"
      ]
     },
     "execution_count": 11,
     "metadata": {},
     "output_type": "execute_result"
    }
   ],
   "source": [
    "a"
   ]
  },
  {
   "cell_type": "markdown",
   "id": "b73f6df1",
   "metadata": {},
   "source": [
    "## We can store a lambda function inside a variable"
   ]
  },
  {
   "cell_type": "code",
   "execution_count": 12,
   "id": "ec3b342f",
   "metadata": {},
   "outputs": [],
   "source": [
    "b = lambda x: x ** 2"
   ]
  },
  {
   "cell_type": "code",
   "execution_count": 14,
   "id": "1dda34bf",
   "metadata": {},
   "outputs": [
    {
     "data": {
      "text/plain": [
       "<map at 0x22108199438>"
      ]
     },
     "execution_count": 14,
     "metadata": {},
     "output_type": "execute_result"
    }
   ],
   "source": [
    "map(b, a)"
   ]
  },
  {
   "cell_type": "code",
   "execution_count": 15,
   "id": "d5110e25",
   "metadata": {},
   "outputs": [
    {
     "data": {
      "text/plain": [
       "[1, 4, 9, 16, 25, 36, 49, 64, 81, 100]"
      ]
     },
     "execution_count": 15,
     "metadata": {},
     "output_type": "execute_result"
    }
   ],
   "source": [
    "list(map(b, a))"
   ]
  },
  {
   "cell_type": "code",
   "execution_count": null,
   "id": "0de6c172",
   "metadata": {},
   "outputs": [],
   "source": []
  },
  {
   "cell_type": "markdown",
   "id": "a22adbc9",
   "metadata": {},
   "source": [
    "## Row by Row operations is performed by map function"
   ]
  },
  {
   "cell_type": "code",
   "execution_count": 32,
   "id": "4cf3af4e",
   "metadata": {},
   "outputs": [],
   "source": [
    "a = [1, 2, 3, 4, 5]\n",
    "b = [6, 7, 8, 9, 10]\n",
    "c = [11, 12, 13, 15]"
   ]
  },
  {
   "cell_type": "code",
   "execution_count": 33,
   "id": "ba45e285",
   "metadata": {},
   "outputs": [],
   "source": [
    "def sum(x, y, z):\n",
    "    return x+y+z"
   ]
  },
  {
   "cell_type": "code",
   "execution_count": 34,
   "id": "3b3ce8c2",
   "metadata": {},
   "outputs": [
    {
     "data": {
      "text/plain": [
       "[18, 21, 24, 28]"
      ]
     },
     "execution_count": 34,
     "metadata": {},
     "output_type": "execute_result"
    }
   ],
   "source": [
    "list(map(sum,a,b,c))"
   ]
  },
  {
   "cell_type": "code",
   "execution_count": 37,
   "id": "6a971eb4",
   "metadata": {},
   "outputs": [
    {
     "data": {
      "text/plain": [
       "[18, 21, 24, 28]"
      ]
     },
     "execution_count": 37,
     "metadata": {},
     "output_type": "execute_result"
    }
   ],
   "source": [
    "list(map(lambda x, y, z: x+y+z, a, b, c))"
   ]
  },
  {
   "cell_type": "code",
   "execution_count": null,
   "id": "75498f28",
   "metadata": {},
   "outputs": [],
   "source": []
  },
  {
   "cell_type": "markdown",
   "id": "ba763575",
   "metadata": {},
   "source": [
    "## Reduce function : inline Aggrigation operation"
   ]
  },
  {
   "cell_type": "code",
   "execution_count": 40,
   "id": "0755daff",
   "metadata": {},
   "outputs": [],
   "source": [
    "from functools import reduce"
   ]
  },
  {
   "cell_type": "code",
   "execution_count": 41,
   "id": "0585f034",
   "metadata": {},
   "outputs": [],
   "source": [
    "def sum(a, b):\n",
    "    return a + b"
   ]
  },
  {
   "cell_type": "code",
   "execution_count": 53,
   "id": "81d384ea",
   "metadata": {},
   "outputs": [],
   "source": [
    "a = [1, 2, 3, 4, 5, 6, 7]"
   ]
  },
  {
   "cell_type": "code",
   "execution_count": 54,
   "id": "e4a314f4",
   "metadata": {},
   "outputs": [
    {
     "data": {
      "text/plain": [
       "28"
      ]
     },
     "execution_count": 54,
     "metadata": {},
     "output_type": "execute_result"
    }
   ],
   "source": [
    "reduce(sum, a)"
   ]
  },
  {
   "cell_type": "markdown",
   "id": "4cbe8bea",
   "metadata": {},
   "source": [
    "### More than two argument is not allowed in this reduce function it will show a error"
   ]
  },
  {
   "cell_type": "code",
   "execution_count": 56,
   "id": "9a3054bc",
   "metadata": {},
   "outputs": [],
   "source": [
    "# reduce(lambda x,y,z: x+y+z, a)"
   ]
  },
  {
   "cell_type": "code",
   "execution_count": null,
   "id": "cafef909",
   "metadata": {},
   "outputs": [],
   "source": []
  },
  {
   "cell_type": "markdown",
   "id": "f04a6a7e",
   "metadata": {},
   "source": [
    "## Filter: Filter a function is used to filter a data with on a specific condition"
   ]
  },
  {
   "cell_type": "markdown",
   "id": "3243d71c",
   "metadata": {},
   "source": [
    "#### Filter will filter a data on the basic of true condition"
   ]
  },
  {
   "cell_type": "code",
   "execution_count": 57,
   "id": "c866565e",
   "metadata": {},
   "outputs": [],
   "source": [
    "a = [1, 5, 3, 6, 9, 3, 5, 9, 3, 2, 7]"
   ]
  },
  {
   "cell_type": "code",
   "execution_count": 59,
   "id": "762c5259",
   "metadata": {},
   "outputs": [
    {
     "data": {
      "text/plain": [
       "[6, 2]"
      ]
     },
     "execution_count": 59,
     "metadata": {},
     "output_type": "execute_result"
    }
   ],
   "source": [
    "list(filter(lambda x: x%2==0, a))"
   ]
  },
  {
   "cell_type": "code",
   "execution_count": 60,
   "id": "e8e82a26",
   "metadata": {},
   "outputs": [],
   "source": [
    "def even_Cheack(n):\n",
    "    if n % 2 == 0:\n",
    "        return True"
   ]
  },
  {
   "cell_type": "code",
   "execution_count": 61,
   "id": "14f7471d",
   "metadata": {},
   "outputs": [
    {
     "data": {
      "text/plain": [
       "[6, 2]"
      ]
     },
     "execution_count": 61,
     "metadata": {},
     "output_type": "execute_result"
    }
   ],
   "source": [
    "list(filter(even_Cheack, a))"
   ]
  },
  {
   "cell_type": "code",
   "execution_count": null,
   "id": "65ab4e75",
   "metadata": {},
   "outputs": [],
   "source": []
  }
 ],
 "metadata": {
  "kernelspec": {
   "display_name": "Python 3",
   "language": "python",
   "name": "python3"
  },
  "language_info": {
   "codemirror_mode": {
    "name": "ipython",
    "version": 3
   },
   "file_extension": ".py",
   "mimetype": "text/x-python",
   "name": "python",
   "nbconvert_exporter": "python",
   "pygments_lexer": "ipython3",
   "version": "3.6.6"
  }
 },
 "nbformat": 4,
 "nbformat_minor": 5
}
