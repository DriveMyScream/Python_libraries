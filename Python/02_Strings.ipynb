{
 "cells": [
  {
   "cell_type": "markdown",
   "id": "3c7eaed6",
   "metadata": {},
   "source": [
    "### String is immutable"
   ]
  },
  {
   "cell_type": "code",
   "execution_count": 1,
   "id": "da55adb7",
   "metadata": {},
   "outputs": [],
   "source": [
    "name = \"Shubham\""
   ]
  },
  {
   "cell_type": "markdown",
   "id": "10d36548",
   "metadata": {},
   "source": [
    "#### STRING CONCINATION"
   ]
  },
  {
   "cell_type": "code",
   "execution_count": 2,
   "id": "054446c2",
   "metadata": {},
   "outputs": [
    {
     "data": {
      "text/plain": [
       "'Shubham Pilivkar'"
      ]
     },
     "execution_count": 2,
     "metadata": {},
     "output_type": "execute_result"
    }
   ],
   "source": [
    "name + \" Pilivkar\""
   ]
  },
  {
   "cell_type": "markdown",
   "id": "fbc62338",
   "metadata": {},
   "source": [
    "#### STRING REPEATION"
   ]
  },
  {
   "cell_type": "code",
   "execution_count": 3,
   "id": "926383a2",
   "metadata": {},
   "outputs": [
    {
     "data": {
      "text/plain": [
       "'ShubhamShubhamShubham'"
      ]
     },
     "execution_count": 3,
     "metadata": {},
     "output_type": "execute_result"
    }
   ],
   "source": [
    "name * 3"
   ]
  },
  {
   "cell_type": "code",
   "execution_count": 7,
   "id": "a44eb952",
   "metadata": {},
   "outputs": [
    {
     "name": "stdout",
     "output_type": "stream",
     "text": [
      "ShubhamShubhamShubham\n"
     ]
    }
   ],
   "source": [
    "print(name * 3, sep=\" \")"
   ]
  },
  {
   "cell_type": "code",
   "execution_count": 8,
   "id": "eee91b10",
   "metadata": {},
   "outputs": [],
   "source": [
    "list = [10, 20, 30]"
   ]
  },
  {
   "cell_type": "code",
   "execution_count": 9,
   "id": "e8b6e262",
   "metadata": {},
   "outputs": [
    {
     "data": {
      "text/plain": [
       "[10, 20, 30, 10, 20, 30, 10, 20, 30]"
      ]
     },
     "execution_count": 9,
     "metadata": {},
     "output_type": "execute_result"
    }
   ],
   "source": [
    "list * 3"
   ]
  },
  {
   "cell_type": "markdown",
   "id": "7796d549",
   "metadata": {},
   "source": [
    "#### STRING METHODS"
   ]
  },
  {
   "cell_type": "code",
   "execution_count": 11,
   "id": "df679cb2",
   "metadata": {},
   "outputs": [],
   "source": [
    "name = \"Shubham\""
   ]
  },
  {
   "cell_type": "code",
   "execution_count": 12,
   "id": "f8f47927",
   "metadata": {},
   "outputs": [
    {
     "data": {
      "text/plain": [
       "'SHUBHAM'"
      ]
     },
     "execution_count": 12,
     "metadata": {},
     "output_type": "execute_result"
    }
   ],
   "source": [
    "name.upper()"
   ]
  },
  {
   "cell_type": "code",
   "execution_count": 13,
   "id": "3bbe31d0",
   "metadata": {},
   "outputs": [
    {
     "data": {
      "text/plain": [
       "'shubham'"
      ]
     },
     "execution_count": 13,
     "metadata": {},
     "output_type": "execute_result"
    }
   ],
   "source": [
    "name.lower()"
   ]
  },
  {
   "cell_type": "code",
   "execution_count": 14,
   "id": "2f74c05d",
   "metadata": {},
   "outputs": [],
   "source": [
    "name = \"SHUBham\""
   ]
  },
  {
   "cell_type": "code",
   "execution_count": 15,
   "id": "b1264a7f",
   "metadata": {},
   "outputs": [
    {
     "data": {
      "text/plain": [
       "'SHUBHAM'"
      ]
     },
     "execution_count": 15,
     "metadata": {},
     "output_type": "execute_result"
    }
   ],
   "source": [
    "name.upper()"
   ]
  },
  {
   "cell_type": "code",
   "execution_count": 16,
   "id": "8a49caa8",
   "metadata": {},
   "outputs": [
    {
     "data": {
      "text/plain": [
       "'shubham'"
      ]
     },
     "execution_count": 16,
     "metadata": {},
     "output_type": "execute_result"
    }
   ],
   "source": [
    "name.lower()"
   ]
  },
  {
   "cell_type": "code",
   "execution_count": 26,
   "id": "0bff5f33",
   "metadata": {},
   "outputs": [],
   "source": [
    "name = \"shubham is a good boy\""
   ]
  },
  {
   "cell_type": "markdown",
   "id": "45452982",
   "metadata": {},
   "source": [
    "#### Split take default argument as \" \", space"
   ]
  },
  {
   "cell_type": "code",
   "execution_count": 27,
   "id": "d7aca03b",
   "metadata": {},
   "outputs": [
    {
     "data": {
      "text/plain": [
       "['shubham', 'is', 'a', 'good', 'boy']"
      ]
     },
     "execution_count": 27,
     "metadata": {},
     "output_type": "execute_result"
    }
   ],
   "source": [
    "name.split()"
   ]
  },
  {
   "cell_type": "markdown",
   "id": "60ec7490",
   "metadata": {},
   "source": [
    "##### it included a delimiter in middle"
   ]
  },
  {
   "cell_type": "code",
   "execution_count": 28,
   "id": "126d9185",
   "metadata": {},
   "outputs": [
    {
     "data": {
      "text/plain": [
       "('shubham', ' ', 'is a good boy')"
      ]
     },
     "execution_count": 28,
     "metadata": {},
     "output_type": "execute_result"
    }
   ],
   "source": [
    "name.partition(\" \")"
   ]
  },
  {
   "cell_type": "code",
   "execution_count": 21,
   "id": "1b50c755",
   "metadata": {},
   "outputs": [],
   "source": [
    "name = \"john,rambo,ken\""
   ]
  },
  {
   "cell_type": "code",
   "execution_count": 23,
   "id": "97d61eab",
   "metadata": {},
   "outputs": [
    {
     "data": {
      "text/plain": [
       "['john,rambo,ken']"
      ]
     },
     "execution_count": 23,
     "metadata": {},
     "output_type": "execute_result"
    }
   ],
   "source": [
    "name.split()"
   ]
  },
  {
   "cell_type": "code",
   "execution_count": 24,
   "id": "db2ce713",
   "metadata": {},
   "outputs": [
    {
     "data": {
      "text/plain": [
       "['john', 'rambo', 'ken']"
      ]
     },
     "execution_count": 24,
     "metadata": {},
     "output_type": "execute_result"
    }
   ],
   "source": [
    "name.split(\",\")"
   ]
  },
  {
   "cell_type": "code",
   "execution_count": 25,
   "id": "34891c3a",
   "metadata": {},
   "outputs": [
    {
     "data": {
      "text/plain": [
       "('john', ',', 'rambo,ken')"
      ]
     },
     "execution_count": 25,
     "metadata": {},
     "output_type": "execute_result"
    }
   ],
   "source": [
    "name.partition(\",\")"
   ]
  },
  {
   "cell_type": "markdown",
   "id": "a1fbb7bb",
   "metadata": {},
   "source": [
    "#### find method"
   ]
  },
  {
   "cell_type": "code",
   "execution_count": 30,
   "id": "8416b730",
   "metadata": {},
   "outputs": [],
   "source": [
    "name = \"Shubham\""
   ]
  },
  {
   "cell_type": "code",
   "execution_count": 31,
   "id": "f147ca59",
   "metadata": {},
   "outputs": [
    {
     "data": {
      "text/plain": [
       "2"
      ]
     },
     "execution_count": 31,
     "metadata": {},
     "output_type": "execute_result"
    }
   ],
   "source": [
    "name.find(\"u\")"
   ]
  },
  {
   "cell_type": "code",
   "execution_count": 32,
   "id": "18af5cdc",
   "metadata": {},
   "outputs": [
    {
     "data": {
      "text/plain": [
       "6"
      ]
     },
     "execution_count": 32,
     "metadata": {},
     "output_type": "execute_result"
    }
   ],
   "source": [
    "name.find(\"m\")"
   ]
  },
  {
   "cell_type": "markdown",
   "id": "a20db47b",
   "metadata": {},
   "source": [
    "#### Center method"
   ]
  },
  {
   "cell_type": "code",
   "execution_count": 33,
   "id": "fbef9375",
   "metadata": {},
   "outputs": [],
   "source": [
    "name = \"SHUBHAM\""
   ]
  },
  {
   "cell_type": "code",
   "execution_count": 34,
   "id": "74fc0c70",
   "metadata": {},
   "outputs": [
    {
     "data": {
      "text/plain": [
       "'$$$$$$$$$$$$$$$$$$$$$SHUBHAM$$$$$$$$$$$$$$$$$$$$$$'"
      ]
     },
     "execution_count": 34,
     "metadata": {},
     "output_type": "execute_result"
    }
   ],
   "source": [
    "name.center(50, \"$\")"
   ]
  },
  {
   "cell_type": "markdown",
   "id": "5d40b121",
   "metadata": {},
   "source": [
    "#### Expandtab method"
   ]
  },
  {
   "cell_type": "code",
   "execution_count": 41,
   "id": "c45b843b",
   "metadata": {},
   "outputs": [],
   "source": [
    "name = \"SHUBHAM\\tSACHIN\\tPILIVKAR\""
   ]
  },
  {
   "cell_type": "code",
   "execution_count": 42,
   "id": "50be616d",
   "metadata": {},
   "outputs": [
    {
     "data": {
      "text/plain": [
       "'SHUBHAM SACHIN  PILIVKAR'"
      ]
     },
     "execution_count": 42,
     "metadata": {},
     "output_type": "execute_result"
    }
   ],
   "source": [
    "name.expandtabs()"
   ]
  },
  {
   "cell_type": "markdown",
   "id": "d6c99390",
   "metadata": {},
   "source": [
    "#### format method"
   ]
  },
  {
   "cell_type": "code",
   "execution_count": 45,
   "id": "223dc916",
   "metadata": {},
   "outputs": [
    {
     "name": "stdout",
     "output_type": "stream",
     "text": [
      "Enter your name: Shubham\n",
      "HELLO Shubham\n"
     ]
    }
   ],
   "source": [
    "name = input(\"Enter your name: \")\n",
    "print(\"HELLO {}\".format(name))"
   ]
  },
  {
   "cell_type": "code",
   "execution_count": 46,
   "id": "0b14e735",
   "metadata": {},
   "outputs": [
    {
     "name": "stdout",
     "output_type": "stream",
     "text": [
      "Enter your first name: Shubham\n",
      "Enter your last name: Pilivkar\n"
     ]
    },
    {
     "data": {
      "text/plain": [
       "'hello Shubham Pilivkar how are you'"
      ]
     },
     "execution_count": 46,
     "metadata": {},
     "output_type": "execute_result"
    }
   ],
   "source": [
    "a = input(\"Enter your first name: \")\n",
    "b = input(\"Enter your last name: \")\n",
    "\"hello {} {} how are you\".format(a, b)"
   ]
  },
  {
   "cell_type": "markdown",
   "id": "c0e1a22c",
   "metadata": {},
   "source": [
    "#### IS FUNCTIONS"
   ]
  },
  {
   "cell_type": "code",
   "execution_count": 54,
   "id": "3a7e9f40",
   "metadata": {},
   "outputs": [],
   "source": [
    "name = \"Shubham\""
   ]
  },
  {
   "cell_type": "code",
   "execution_count": 55,
   "id": "d164f3e6",
   "metadata": {},
   "outputs": [
    {
     "data": {
      "text/plain": [
       "True"
      ]
     },
     "execution_count": 55,
     "metadata": {},
     "output_type": "execute_result"
    }
   ],
   "source": [
    "name.isalnum()"
   ]
  },
  {
   "cell_type": "code",
   "execution_count": 56,
   "id": "64902f84",
   "metadata": {},
   "outputs": [
    {
     "data": {
      "text/plain": [
       "True"
      ]
     },
     "execution_count": 56,
     "metadata": {},
     "output_type": "execute_result"
    }
   ],
   "source": [
    "name.isalpha()"
   ]
  },
  {
   "cell_type": "code",
   "execution_count": 57,
   "id": "064eb9b9",
   "metadata": {},
   "outputs": [
    {
     "data": {
      "text/plain": [
       "False"
      ]
     },
     "execution_count": 57,
     "metadata": {},
     "output_type": "execute_result"
    }
   ],
   "source": [
    "name.isnumeric()"
   ]
  },
  {
   "cell_type": "code",
   "execution_count": 58,
   "id": "df2b021f",
   "metadata": {},
   "outputs": [
    {
     "data": {
      "text/plain": [
       "False"
      ]
     },
     "execution_count": 58,
     "metadata": {},
     "output_type": "execute_result"
    }
   ],
   "source": [
    "name.islower()"
   ]
  },
  {
   "cell_type": "code",
   "execution_count": 59,
   "id": "d8459739",
   "metadata": {},
   "outputs": [
    {
     "data": {
      "text/plain": [
       "False"
      ]
     },
     "execution_count": 59,
     "metadata": {},
     "output_type": "execute_result"
    }
   ],
   "source": [
    "name.isupper()"
   ]
  },
  {
   "cell_type": "code",
   "execution_count": 60,
   "id": "0439203f",
   "metadata": {},
   "outputs": [
    {
     "data": {
      "text/plain": [
       "True"
      ]
     },
     "execution_count": 60,
     "metadata": {},
     "output_type": "execute_result"
    }
   ],
   "source": [
    "name.startswith(\"S\")"
   ]
  },
  {
   "cell_type": "code",
   "execution_count": 61,
   "id": "ec018fe1",
   "metadata": {},
   "outputs": [
    {
     "data": {
      "text/plain": [
       "True"
      ]
     },
     "execution_count": 61,
     "metadata": {},
     "output_type": "execute_result"
    }
   ],
   "source": [
    "name.endswith(\"m\")"
   ]
  },
  {
   "cell_type": "code",
   "execution_count": 64,
   "id": "3914cbbb",
   "metadata": {},
   "outputs": [
    {
     "data": {
      "text/plain": [
       "True"
      ]
     },
     "execution_count": 64,
     "metadata": {},
     "output_type": "execute_result"
    }
   ],
   "source": [
    "name.istitle()"
   ]
  },
  {
   "cell_type": "markdown",
   "id": "a8da210e",
   "metadata": {},
   "source": [
    "#### Important String methods"
   ]
  },
  {
   "cell_type": "code",
   "execution_count": 65,
   "id": "0aa1455d",
   "metadata": {},
   "outputs": [
    {
     "name": "stdout",
     "output_type": "stream",
     "text": [
      "Shubham\n"
     ]
    }
   ],
   "source": [
    "print(name)"
   ]
  },
  {
   "cell_type": "code",
   "execution_count": 66,
   "id": "e4f1524a",
   "metadata": {},
   "outputs": [
    {
     "data": {
      "text/plain": [
       "7"
      ]
     },
     "execution_count": 66,
     "metadata": {},
     "output_type": "execute_result"
    }
   ],
   "source": [
    "len(name)"
   ]
  },
  {
   "cell_type": "code",
   "execution_count": null,
   "id": "4a123559",
   "metadata": {},
   "outputs": [],
   "source": []
  }
 ],
 "metadata": {
  "kernelspec": {
   "display_name": "Python 3",
   "language": "python",
   "name": "python3"
  },
  "language_info": {
   "codemirror_mode": {
    "name": "ipython",
    "version": 3
   },
   "file_extension": ".py",
   "mimetype": "text/x-python",
   "name": "python",
   "nbconvert_exporter": "python",
   "pygments_lexer": "ipython3",
   "version": "3.6.6"
  }
 },
 "nbformat": 4,
 "nbformat_minor": 5
}
