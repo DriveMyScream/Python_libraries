{
 "cells": [
  {
   "cell_type": "markdown",
   "id": "1616da99",
   "metadata": {},
   "source": [
    "## Python basic"
   ]
  },
  {
   "cell_type": "code",
   "execution_count": 1,
   "id": "5001c41c",
   "metadata": {},
   "outputs": [],
   "source": [
    "color1, color2, color3 = \"red\", \"green\", \"blue\""
   ]
  },
  {
   "cell_type": "code",
   "execution_count": 2,
   "id": "0e5144a8",
   "metadata": {},
   "outputs": [
    {
     "data": {
      "text/plain": [
       "'red'"
      ]
     },
     "execution_count": 2,
     "metadata": {},
     "output_type": "execute_result"
    }
   ],
   "source": [
    "color1"
   ]
  },
  {
   "cell_type": "code",
   "execution_count": 3,
   "id": "4b0f86ad",
   "metadata": {},
   "outputs": [
    {
     "data": {
      "text/plain": [
       "'green'"
      ]
     },
     "execution_count": 3,
     "metadata": {},
     "output_type": "execute_result"
    }
   ],
   "source": [
    "color2"
   ]
  },
  {
   "cell_type": "code",
   "execution_count": 4,
   "id": "8ed34bb6",
   "metadata": {},
   "outputs": [],
   "source": [
    "color1 = color2 = colour3 = \"blue\""
   ]
  },
  {
   "cell_type": "code",
   "execution_count": 5,
   "id": "a56ab126",
   "metadata": {},
   "outputs": [
    {
     "data": {
      "text/plain": [
       "'blue'"
      ]
     },
     "execution_count": 5,
     "metadata": {},
     "output_type": "execute_result"
    }
   ],
   "source": [
    "color1"
   ]
  },
  {
   "cell_type": "code",
   "execution_count": 6,
   "id": "1c6c044d",
   "metadata": {},
   "outputs": [
    {
     "data": {
      "text/plain": [
       "'blue'"
      ]
     },
     "execution_count": 6,
     "metadata": {},
     "output_type": "execute_result"
    }
   ],
   "source": [
    "colour3"
   ]
  },
  {
   "cell_type": "markdown",
   "id": "31b5cff1",
   "metadata": {},
   "source": [
    "## String strip"
   ]
  },
  {
   "cell_type": "code",
   "execution_count": 14,
   "id": "a2a193f8",
   "metadata": {},
   "outputs": [],
   "source": [
    "name = \"   hello    may name   is   Shubham how are you      \""
   ]
  },
  {
   "cell_type": "code",
   "execution_count": 15,
   "id": "ef2eec0f",
   "metadata": {},
   "outputs": [
    {
     "data": {
      "text/plain": [
       "'hello    may name   is   Shubham how are you      '"
      ]
     },
     "execution_count": 15,
     "metadata": {},
     "output_type": "execute_result"
    }
   ],
   "source": [
    "name.lstrip()"
   ]
  },
  {
   "cell_type": "code",
   "execution_count": 16,
   "id": "8a88b829",
   "metadata": {},
   "outputs": [
    {
     "data": {
      "text/plain": [
       "'   hello    may name   is   Shubham how are you'"
      ]
     },
     "execution_count": 16,
     "metadata": {},
     "output_type": "execute_result"
    }
   ],
   "source": [
    "name.rstrip()"
   ]
  },
  {
   "cell_type": "code",
   "execution_count": 17,
   "id": "8bbc619a",
   "metadata": {},
   "outputs": [
    {
     "data": {
      "text/plain": [
       "'hello    may name   is   Shubham how are you'"
      ]
     },
     "execution_count": 17,
     "metadata": {},
     "output_type": "execute_result"
    }
   ],
   "source": [
    "name.strip()"
   ]
  },
  {
   "cell_type": "markdown",
   "id": "12d9d634",
   "metadata": {},
   "source": [
    "## List methods"
   ]
  },
  {
   "cell_type": "code",
   "execution_count": 18,
   "id": "22b98b99",
   "metadata": {},
   "outputs": [],
   "source": [
    "a = [10, 20, 30, 40]"
   ]
  },
  {
   "cell_type": "code",
   "execution_count": 19,
   "id": "d06969fa",
   "metadata": {},
   "outputs": [],
   "source": [
    "a.extend([100, 200, 300, 400, 500])"
   ]
  },
  {
   "cell_type": "code",
   "execution_count": 38,
   "id": "d235cd97",
   "metadata": {},
   "outputs": [
    {
     "data": {
      "text/plain": [
       "['a', 'd', 'f', 'g', 's', 'w', 'x']"
      ]
     },
     "execution_count": 38,
     "metadata": {},
     "output_type": "execute_result"
    }
   ],
   "source": [
    "a"
   ]
  },
  {
   "cell_type": "code",
   "execution_count": 39,
   "id": "7ac0c84b",
   "metadata": {},
   "outputs": [],
   "source": [
    "a = [90, 80, 70, 60, 50, 40, 30, 20, 10]"
   ]
  },
  {
   "cell_type": "code",
   "execution_count": 28,
   "id": "715f90f5",
   "metadata": {},
   "outputs": [
    {
     "data": {
      "text/plain": [
       "[10, 20, 30, 40, 50, 60, 70, 80, 90]"
      ]
     },
     "execution_count": 28,
     "metadata": {},
     "output_type": "execute_result"
    }
   ],
   "source": [
    "a[::-1]"
   ]
  },
  {
   "cell_type": "code",
   "execution_count": 29,
   "id": "05e73356",
   "metadata": {},
   "outputs": [],
   "source": [
    "a.reverse()"
   ]
  },
  {
   "cell_type": "code",
   "execution_count": 37,
   "id": "b46787df",
   "metadata": {},
   "outputs": [
    {
     "data": {
      "text/plain": [
       "['a', 'd', 'f', 'g', 's', 'w', 'x']"
      ]
     },
     "execution_count": 37,
     "metadata": {},
     "output_type": "execute_result"
    }
   ],
   "source": [
    "a"
   ]
  },
  {
   "cell_type": "code",
   "execution_count": 31,
   "id": "ec6fb66a",
   "metadata": {},
   "outputs": [],
   "source": [
    "a.append(100)"
   ]
  },
  {
   "cell_type": "code",
   "execution_count": 32,
   "id": "d1372016",
   "metadata": {},
   "outputs": [
    {
     "data": {
      "text/plain": [
       "[10, 20, 30, 40, 50, 60, 70, 80, 90, 100]"
      ]
     },
     "execution_count": 32,
     "metadata": {},
     "output_type": "execute_result"
    }
   ],
   "source": [
    "a"
   ]
  },
  {
   "cell_type": "code",
   "execution_count": 33,
   "id": "4d14a61c",
   "metadata": {},
   "outputs": [],
   "source": [
    "a = ['x', 'w', 's', 'f', 'd', 'a', 'g']"
   ]
  },
  {
   "cell_type": "code",
   "execution_count": 34,
   "id": "46498187",
   "metadata": {},
   "outputs": [],
   "source": [
    "a.sort()"
   ]
  },
  {
   "cell_type": "code",
   "execution_count": 35,
   "id": "c93d115e",
   "metadata": {},
   "outputs": [
    {
     "data": {
      "text/plain": [
       "['a', 'd', 'f', 'g', 's', 'w', 'x']"
      ]
     },
     "execution_count": 35,
     "metadata": {},
     "output_type": "execute_result"
    }
   ],
   "source": [
    "a"
   ]
  },
  {
   "cell_type": "code",
   "execution_count": 40,
   "id": "b6c01f13",
   "metadata": {},
   "outputs": [
    {
     "data": {
      "text/plain": [
       "[90, 80, 70, 60, 50, 40, 30, 20, 10]"
      ]
     },
     "execution_count": 40,
     "metadata": {},
     "output_type": "execute_result"
    }
   ],
   "source": [
    "a"
   ]
  },
  {
   "cell_type": "code",
   "execution_count": 43,
   "id": "7c05e14a",
   "metadata": {},
   "outputs": [],
   "source": [
    "a.sort(reverse=True)"
   ]
  },
  {
   "cell_type": "code",
   "execution_count": 44,
   "id": "65cc26f6",
   "metadata": {},
   "outputs": [
    {
     "data": {
      "text/plain": [
       "[90, 80, 70, 60, 50, 40, 30, 20, 10]"
      ]
     },
     "execution_count": 44,
     "metadata": {},
     "output_type": "execute_result"
    }
   ],
   "source": [
    "a"
   ]
  },
  {
   "cell_type": "code",
   "execution_count": 45,
   "id": "d09b456f",
   "metadata": {},
   "outputs": [],
   "source": [
    "x, y = (10, 20)"
   ]
  },
  {
   "cell_type": "code",
   "execution_count": 46,
   "id": "2b3fd52f",
   "metadata": {},
   "outputs": [
    {
     "data": {
      "text/plain": [
       "10"
      ]
     },
     "execution_count": 46,
     "metadata": {},
     "output_type": "execute_result"
    }
   ],
   "source": [
    "x"
   ]
  },
  {
   "cell_type": "code",
   "execution_count": 47,
   "id": "ba319f6e",
   "metadata": {},
   "outputs": [
    {
     "data": {
      "text/plain": [
       "20"
      ]
     },
     "execution_count": 47,
     "metadata": {},
     "output_type": "execute_result"
    }
   ],
   "source": [
    "y"
   ]
  },
  {
   "cell_type": "markdown",
   "id": "2ac292c4",
   "metadata": {},
   "source": [
    "## Dictionary"
   ]
  },
  {
   "cell_type": "code",
   "execution_count": 48,
   "id": "3b7ae039",
   "metadata": {},
   "outputs": [],
   "source": [
    "person1 = {'name': 'John Doe',\n",
    "          'sex': 'Male',\n",
    "          'age': 32,\n",
    "          'married': True}"
   ]
  },
  {
   "cell_type": "code",
   "execution_count": 49,
   "id": "07b4432d",
   "metadata": {},
   "outputs": [
    {
     "data": {
      "text/plain": [
       "{'name': 'John Doe', 'sex': 'Male', 'age': 32, 'married': True}"
      ]
     },
     "execution_count": 49,
     "metadata": {},
     "output_type": "execute_result"
    }
   ],
   "source": [
    "person1"
   ]
  },
  {
   "cell_type": "code",
   "execution_count": 50,
   "id": "07964d8b",
   "metadata": {},
   "outputs": [
    {
     "data": {
      "text/plain": [
       "dict_keys(['name', 'sex', 'age', 'married'])"
      ]
     },
     "execution_count": 50,
     "metadata": {},
     "output_type": "execute_result"
    }
   ],
   "source": [
    "person1.keys()"
   ]
  },
  {
   "cell_type": "code",
   "execution_count": 51,
   "id": "7fd9e054",
   "metadata": {},
   "outputs": [
    {
     "data": {
      "text/plain": [
       "dict_values(['John Doe', 'Male', 32, True])"
      ]
     },
     "execution_count": 51,
     "metadata": {},
     "output_type": "execute_result"
    }
   ],
   "source": [
    "person1.values()"
   ]
  },
  {
   "cell_type": "code",
   "execution_count": 52,
   "id": "3ae525a9",
   "metadata": {},
   "outputs": [
    {
     "data": {
      "text/plain": [
       "dict_items([('name', 'John Doe'), ('sex', 'Male'), ('age', 32), ('married', True)])"
      ]
     },
     "execution_count": 52,
     "metadata": {},
     "output_type": "execute_result"
    }
   ],
   "source": [
    "person1.items()"
   ]
  },
  {
   "cell_type": "code",
   "execution_count": 56,
   "id": "1e2800ea",
   "metadata": {},
   "outputs": [
    {
     "data": {
      "text/plain": [
       "'John Doe'"
      ]
     },
     "execution_count": 56,
     "metadata": {},
     "output_type": "execute_result"
    }
   ],
   "source": [
    "person1['name']"
   ]
  },
  {
   "cell_type": "code",
   "execution_count": 53,
   "id": "f1f265ac",
   "metadata": {},
   "outputs": [
    {
     "name": "stdout",
     "output_type": "stream",
     "text": [
      "name\n",
      "sex\n",
      "age\n",
      "married\n"
     ]
    }
   ],
   "source": [
    "for i in person1.keys():\n",
    "    print(i)"
   ]
  },
  {
   "cell_type": "code",
   "execution_count": 59,
   "id": "6eeba1a7",
   "metadata": {},
   "outputs": [
    {
     "name": "stdout",
     "output_type": "stream",
     "text": [
      "name : John Doe\n",
      "sex : Male\n",
      "age : 32\n",
      "married : True\n"
     ]
    }
   ],
   "source": [
    "for i in person1.keys():\n",
    "    print(i, \":\", person1[i])"
   ]
  },
  {
   "cell_type": "markdown",
   "id": "7df62b0b",
   "metadata": {},
   "source": [
    "## Update Marks"
   ]
  },
  {
   "cell_type": "code",
   "execution_count": 60,
   "id": "5f81cc42",
   "metadata": {},
   "outputs": [],
   "source": [
    "marks = {'Physics': 67, 'Math': 87}"
   ]
  },
  {
   "cell_type": "code",
   "execution_count": 61,
   "id": "0c21e2fc",
   "metadata": {},
   "outputs": [],
   "source": [
    "internal_marks = {'practical':60}"
   ]
  },
  {
   "cell_type": "code",
   "execution_count": 62,
   "id": "e0a45407",
   "metadata": {},
   "outputs": [],
   "source": [
    "marks.update(internal_marks)"
   ]
  },
  {
   "cell_type": "code",
   "execution_count": 63,
   "id": "89f5f1b5",
   "metadata": {},
   "outputs": [
    {
     "name": "stdout",
     "output_type": "stream",
     "text": [
      "{'Physics': 67, 'Math': 87, 'practical': 60}\n"
     ]
    }
   ],
   "source": [
    "print(marks)"
   ]
  },
  {
   "cell_type": "markdown",
   "id": "bc69ac15",
   "metadata": {},
   "source": [
    "## Copy Method"
   ]
  },
  {
   "cell_type": "code",
   "execution_count": 64,
   "id": "36e88b92",
   "metadata": {},
   "outputs": [],
   "source": [
    "original_marks = {'Physics': 67, 'Math': 87}\n",
    "copyied_marks = original_marks.copy()"
   ]
  },
  {
   "cell_type": "code",
   "execution_count": 65,
   "id": "592330f9",
   "metadata": {},
   "outputs": [
    {
     "name": "stdout",
     "output_type": "stream",
     "text": [
      "{'Physics': 67, 'Math': 87}\n"
     ]
    }
   ],
   "source": [
    "print(original_marks)"
   ]
  },
  {
   "cell_type": "code",
   "execution_count": 67,
   "id": "08ba7a10",
   "metadata": {},
   "outputs": [
    {
     "name": "stdout",
     "output_type": "stream",
     "text": [
      "{'Physics': 67, 'Math': 87}\n"
     ]
    }
   ],
   "source": [
    "print(copyied_marks)"
   ]
  },
  {
   "cell_type": "markdown",
   "id": "6cd8a272",
   "metadata": {},
   "source": [
    "## Ascessing the key with the help of value"
   ]
  },
  {
   "cell_type": "code",
   "execution_count": 7,
   "id": "4c7dc2b2",
   "metadata": {},
   "outputs": [],
   "source": [
    "my_dict = {\"Java\": 100, \"Python\": 112}\n",
    "key_list = list(my_dict.keys())\n",
    "value_list = list(my_dict.values())"
   ]
  },
  {
   "cell_type": "code",
   "execution_count": 8,
   "id": "307d5864",
   "metadata": {},
   "outputs": [
    {
     "data": {
      "text/plain": [
       "['Java', 'Python']"
      ]
     },
     "execution_count": 8,
     "metadata": {},
     "output_type": "execute_result"
    }
   ],
   "source": [
    "key_list"
   ]
  },
  {
   "cell_type": "code",
   "execution_count": 9,
   "id": "e954dc1f",
   "metadata": {},
   "outputs": [
    {
     "data": {
      "text/plain": [
       "[100, 112]"
      ]
     },
     "execution_count": 9,
     "metadata": {},
     "output_type": "execute_result"
    }
   ],
   "source": [
    "value_list"
   ]
  },
  {
   "cell_type": "code",
   "execution_count": 10,
   "id": "1e4c1d2b",
   "metadata": {},
   "outputs": [],
   "source": [
    "position = value_list.index(112)"
   ]
  },
  {
   "cell_type": "code",
   "execution_count": 11,
   "id": "74faa8ad",
   "metadata": {},
   "outputs": [
    {
     "name": "stdout",
     "output_type": "stream",
     "text": [
      "Python\n"
     ]
    }
   ],
   "source": [
    "print(key_list[position])"
   ]
  },
  {
   "cell_type": "markdown",
   "id": "7a391000",
   "metadata": {},
   "source": [
    "## Function "
   ]
  },
  {
   "cell_type": "code",
   "execution_count": 12,
   "id": "1df282a9",
   "metadata": {},
   "outputs": [],
   "source": [
    "def loan_emi(amount, duration, rate, down_payment=0):\n",
    "    \"\"\"Calculates the equal monthly installment (EMI) for a loan.\n",
    "    \n",
    "    Arguments:\n",
    "        amount - Total amount to be spent (loan + down payment)\n",
    "        duration - Duration of the loan (in months)\n",
    "        rate - Rate of interest (monthly)\n",
    "        down_payment (optional) - Optional initial payment (deducated from amount)\n",
    "    \"\"\"\n",
    "    loan_amount = amount - down_payment\n",
    "    try:\n",
    "        emi = loan_amount * rate * ((1+rate) ** duration) / (((1+rate) ** duration) - 1)\n",
    "    except ZeroDivisionError:\n",
    "        emi = loan_amount / duration\n",
    "    emi = math.ceil(emi)\n",
    "    return emi"
   ]
  },
  {
   "cell_type": "code",
   "execution_count": null,
   "id": "1f63b896",
   "metadata": {},
   "outputs": [],
   "source": []
  }
 ],
 "metadata": {
  "kernelspec": {
   "display_name": "Python 3",
   "language": "python",
   "name": "python3"
  },
  "language_info": {
   "codemirror_mode": {
    "name": "ipython",
    "version": 3
   },
   "file_extension": ".py",
   "mimetype": "text/x-python",
   "name": "python",
   "nbconvert_exporter": "python",
   "pygments_lexer": "ipython3",
   "version": "3.6.6"
  }
 },
 "nbformat": 4,
 "nbformat_minor": 5
}
