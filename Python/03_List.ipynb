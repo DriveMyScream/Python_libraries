{
 "cells": [
  {
   "cell_type": "markdown",
   "id": "312bcb32",
   "metadata": {},
   "source": [
    "### String methods is permenant changes in that list\n",
    "### If we want to change in that list then create a variable of that name"
   ]
  },
  {
   "cell_type": "markdown",
   "id": "35691fb0",
   "metadata": {},
   "source": [
    "### List is mutable"
   ]
  },
  {
   "cell_type": "code",
   "execution_count": 1,
   "id": "8eb5ec1e",
   "metadata": {},
   "outputs": [],
   "source": [
    "a = [10, 20, 30, 40, 50]"
   ]
  },
  {
   "cell_type": "code",
   "execution_count": 2,
   "id": "861827a0",
   "metadata": {},
   "outputs": [
    {
     "name": "stdout",
     "output_type": "stream",
     "text": [
      "[10, 20, 30, 40, 50]\n"
     ]
    }
   ],
   "source": [
    "print(a)"
   ]
  },
  {
   "cell_type": "markdown",
   "id": "52174a65",
   "metadata": {},
   "source": [
    "#### List quantations"
   ]
  },
  {
   "cell_type": "code",
   "execution_count": 3,
   "id": "7eddc302",
   "metadata": {},
   "outputs": [
    {
     "data": {
      "text/plain": [
       "[10, 20, 30, 40, 50, 60, 70, 80, 90, 100]"
      ]
     },
     "execution_count": 3,
     "metadata": {},
     "output_type": "execute_result"
    }
   ],
   "source": [
    "a + [60, 70, 80, 90, 100]"
   ]
  },
  {
   "cell_type": "markdown",
   "id": "8691e823",
   "metadata": {},
   "source": [
    "#### List repeation"
   ]
  },
  {
   "cell_type": "code",
   "execution_count": 4,
   "id": "d6c5277b",
   "metadata": {},
   "outputs": [
    {
     "data": {
      "text/plain": [
       "[10, 20, 30, 40, 50, 10, 20, 30, 40, 50]"
      ]
     },
     "execution_count": 4,
     "metadata": {},
     "output_type": "execute_result"
    }
   ],
   "source": [
    "a * 2"
   ]
  },
  {
   "cell_type": "code",
   "execution_count": 5,
   "id": "7ae72009",
   "metadata": {},
   "outputs": [
    {
     "data": {
      "text/plain": [
       "[10, 20, 30, 40, 50, 100]"
      ]
     },
     "execution_count": 5,
     "metadata": {},
     "output_type": "execute_result"
    }
   ],
   "source": [
    "a + [100]"
   ]
  },
  {
   "cell_type": "code",
   "execution_count": 6,
   "id": "e96f591b",
   "metadata": {},
   "outputs": [
    {
     "data": {
      "text/plain": [
       "[10, 20, 30, 40, 50, 'S', 'h', 'u', 'b', 'h', 'a', 'm']"
      ]
     },
     "execution_count": 6,
     "metadata": {},
     "output_type": "execute_result"
    }
   ],
   "source": [
    "a + list(\"Shubham\")"
   ]
  },
  {
   "cell_type": "code",
   "execution_count": 7,
   "id": "9829c831",
   "metadata": {},
   "outputs": [],
   "source": [
    "# list(30) --> Throw an error"
   ]
  },
  {
   "cell_type": "code",
   "execution_count": 8,
   "id": "38fce325",
   "metadata": {},
   "outputs": [
    {
     "data": {
      "text/plain": [
       "[30]"
      ]
     },
     "execution_count": 8,
     "metadata": {},
     "output_type": "execute_result"
    }
   ],
   "source": [
    "list([30])"
   ]
  },
  {
   "cell_type": "code",
   "execution_count": 9,
   "id": "daeeba3f",
   "metadata": {},
   "outputs": [
    {
     "data": {
      "text/plain": [
       "[10, 20, 30, 40, 50]"
      ]
     },
     "execution_count": 9,
     "metadata": {},
     "output_type": "execute_result"
    }
   ],
   "source": [
    "a"
   ]
  },
  {
   "cell_type": "code",
   "execution_count": 10,
   "id": "fbaa84ea",
   "metadata": {},
   "outputs": [
    {
     "data": {
      "text/plain": [
       "[10, 20, 30, 40, 50, 60]"
      ]
     },
     "execution_count": 10,
     "metadata": {},
     "output_type": "execute_result"
    }
   ],
   "source": [
    "# add to end of the list\n",
    "a.append(60)\n",
    "a"
   ]
  },
  {
   "cell_type": "code",
   "execution_count": 11,
   "id": "bd81900d",
   "metadata": {},
   "outputs": [
    {
     "data": {
      "text/plain": [
       "[10, 20, 30, 40, 50]"
      ]
     },
     "execution_count": 11,
     "metadata": {},
     "output_type": "execute_result"
    }
   ],
   "source": [
    "a.remove(60)\n",
    "a"
   ]
  },
  {
   "cell_type": "code",
   "execution_count": 12,
   "id": "fd51632e",
   "metadata": {},
   "outputs": [],
   "source": [
    "# insert at any index\n",
    "a.insert(2, 300)"
   ]
  },
  {
   "cell_type": "code",
   "execution_count": 13,
   "id": "6805b069",
   "metadata": {},
   "outputs": [
    {
     "data": {
      "text/plain": [
       "[10, 20, 300, 30, 40, 50]"
      ]
     },
     "execution_count": 13,
     "metadata": {},
     "output_type": "execute_result"
    }
   ],
   "source": [
    "a"
   ]
  },
  {
   "cell_type": "code",
   "execution_count": 14,
   "id": "8ade8a55",
   "metadata": {},
   "outputs": [],
   "source": [
    "a.insert(-1, 500)"
   ]
  },
  {
   "cell_type": "code",
   "execution_count": 15,
   "id": "4e8cfc5e",
   "metadata": {},
   "outputs": [
    {
     "data": {
      "text/plain": [
       "[10, 20, 300, 30, 40, 500, 50]"
      ]
     },
     "execution_count": 15,
     "metadata": {},
     "output_type": "execute_result"
    }
   ],
   "source": [
    "a"
   ]
  },
  {
   "cell_type": "code",
   "execution_count": 16,
   "id": "f3d1de6b",
   "metadata": {},
   "outputs": [
    {
     "data": {
      "text/plain": [
       "[10, 20, 300, 30, 40, 500]"
      ]
     },
     "execution_count": 16,
     "metadata": {},
     "output_type": "execute_result"
    }
   ],
   "source": [
    "# Pop: remove the element from end of the list\n",
    "a.pop()\n",
    "a"
   ]
  },
  {
   "cell_type": "code",
   "execution_count": 17,
   "id": "74d06f87",
   "metadata": {},
   "outputs": [
    {
     "data": {
      "text/plain": [
       "30"
      ]
     },
     "execution_count": 17,
     "metadata": {},
     "output_type": "execute_result"
    }
   ],
   "source": [
    "a.pop(3)"
   ]
  },
  {
   "cell_type": "code",
   "execution_count": 18,
   "id": "75191b42",
   "metadata": {},
   "outputs": [
    {
     "data": {
      "text/plain": [
       "[10, 20, 300, 40, 500]"
      ]
     },
     "execution_count": 18,
     "metadata": {},
     "output_type": "execute_result"
    }
   ],
   "source": [
    "a"
   ]
  },
  {
   "cell_type": "markdown",
   "id": "215855fb",
   "metadata": {},
   "source": [
    "#### Reverse a list"
   ]
  },
  {
   "cell_type": "code",
   "execution_count": 19,
   "id": "9743587f",
   "metadata": {},
   "outputs": [
    {
     "data": {
      "text/plain": [
       "[500, 40, 300, 20, 10]"
      ]
     },
     "execution_count": 19,
     "metadata": {},
     "output_type": "execute_result"
    }
   ],
   "source": [
    "a[::-1]"
   ]
  },
  {
   "cell_type": "code",
   "execution_count": 20,
   "id": "80f4d3d7",
   "metadata": {},
   "outputs": [
    {
     "data": {
      "text/plain": [
       "[500, 40, 300, 20, 10]"
      ]
     },
     "execution_count": 20,
     "metadata": {},
     "output_type": "execute_result"
    }
   ],
   "source": [
    "a.reverse()\n",
    "a"
   ]
  },
  {
   "cell_type": "code",
   "execution_count": 21,
   "id": "b7ef34ce",
   "metadata": {},
   "outputs": [
    {
     "data": {
      "text/plain": [
       "[500, 40, 300, 20, 10]"
      ]
     },
     "execution_count": 21,
     "metadata": {},
     "output_type": "execute_result"
    }
   ],
   "source": [
    "a"
   ]
  },
  {
   "cell_type": "markdown",
   "id": "08c791f5",
   "metadata": {},
   "source": [
    "#### Sort a list"
   ]
  },
  {
   "cell_type": "code",
   "execution_count": 22,
   "id": "eabc56ef",
   "metadata": {},
   "outputs": [
    {
     "data": {
      "text/plain": [
       "[10, 20, 40, 300, 500]"
      ]
     },
     "execution_count": 22,
     "metadata": {},
     "output_type": "execute_result"
    }
   ],
   "source": [
    "a.sort()\n",
    "a"
   ]
  },
  {
   "cell_type": "code",
   "execution_count": 23,
   "id": "67094557",
   "metadata": {},
   "outputs": [
    {
     "data": {
      "text/plain": [
       "[500, 300, 40, 20, 10]"
      ]
     },
     "execution_count": 23,
     "metadata": {},
     "output_type": "execute_result"
    }
   ],
   "source": [
    "a.sort(reverse=True)\n",
    "a"
   ]
  },
  {
   "cell_type": "markdown",
   "id": "a04dfe76",
   "metadata": {},
   "source": [
    "#### List"
   ]
  },
  {
   "cell_type": "code",
   "execution_count": 24,
   "id": "1673f71c",
   "metadata": {},
   "outputs": [],
   "source": [
    "a = [1, 2, 3, 4, 5]\n",
    "b = [5, 10, 15, 20]\n",
    "c = [10, 20, 30, 40, 50]"
   ]
  },
  {
   "cell_type": "code",
   "execution_count": 25,
   "id": "4779324a",
   "metadata": {},
   "outputs": [
    {
     "name": "stdout",
     "output_type": "stream",
     "text": [
      "[[1, 2, 3, 4, 5, 5, 10, 15, 20, 10, 20, 30, 40, 50]]\n"
     ]
    }
   ],
   "source": [
    "result = [a+b+c]\n",
    "print(result)"
   ]
  },
  {
   "cell_type": "code",
   "execution_count": 26,
   "id": "7d8d2f80",
   "metadata": {},
   "outputs": [
    {
     "name": "stdout",
     "output_type": "stream",
     "text": [
      "[[1, 2, 3, 4, 5], [5, 10, 15, 20], [10, 20, 30, 40, 50]]\n"
     ]
    }
   ],
   "source": [
    "result2 = [a, b, c]\n",
    "print(result2)"
   ]
  },
  {
   "cell_type": "code",
   "execution_count": 27,
   "id": "d5cca2f0",
   "metadata": {},
   "outputs": [
    {
     "data": {
      "text/plain": [
       "[50, 40, 30, 20, 10]"
      ]
     },
     "execution_count": 27,
     "metadata": {},
     "output_type": "execute_result"
    }
   ],
   "source": [
    "result2[-1][::-1]"
   ]
  },
  {
   "cell_type": "code",
   "execution_count": 28,
   "id": "1c3a66ab",
   "metadata": {},
   "outputs": [],
   "source": [
    "result4 = []\n",
    "result2 = result2[::-1]\n",
    "for i in result2:\n",
    "    result4.append(i[::-1])"
   ]
  },
  {
   "cell_type": "code",
   "execution_count": 29,
   "id": "abbd28ba",
   "metadata": {},
   "outputs": [
    {
     "data": {
      "text/plain": [
       "[[50, 40, 30, 20, 10], [20, 15, 10, 5], [5, 4, 3, 2, 1]]"
      ]
     },
     "execution_count": 29,
     "metadata": {},
     "output_type": "execute_result"
    }
   ],
   "source": [
    "result4"
   ]
  },
  {
   "cell_type": "code",
   "execution_count": 30,
   "id": "ad45306c",
   "metadata": {},
   "outputs": [
    {
     "data": {
      "text/plain": [
       "[30, 15, 3]"
      ]
     },
     "execution_count": 30,
     "metadata": {},
     "output_type": "execute_result"
    }
   ],
   "source": [
    "result5 = []\n",
    "for i in result2:\n",
    "    result5.append(i[2])\n",
    "result5"
   ]
  },
  {
   "cell_type": "markdown",
   "id": "a33e34fd",
   "metadata": {},
   "source": [
    "#### LIST COMPREHENSION"
   ]
  },
  {
   "cell_type": "code",
   "execution_count": 31,
   "id": "bd26dc1e",
   "metadata": {},
   "outputs": [
    {
     "data": {
      "text/plain": [
       "[[10, 20, 30, 40, 50], [5, 10, 15, 20], [1, 2, 3, 4, 5]]"
      ]
     },
     "execution_count": 31,
     "metadata": {},
     "output_type": "execute_result"
    }
   ],
   "source": [
    "result2"
   ]
  },
  {
   "cell_type": "code",
   "execution_count": 32,
   "id": "77388ccd",
   "metadata": {},
   "outputs": [
    {
     "data": {
      "text/plain": [
       "[30, 15, 3]"
      ]
     },
     "execution_count": 32,
     "metadata": {},
     "output_type": "execute_result"
    }
   ],
   "source": [
    "result5 = [i[2] for i in result2]\n",
    "result5"
   ]
  },
  {
   "cell_type": "markdown",
   "id": "350bb9e3",
   "metadata": {},
   "source": [
    "#### LIST EXTEND"
   ]
  },
  {
   "cell_type": "code",
   "execution_count": 37,
   "id": "e7dde8ee",
   "metadata": {},
   "outputs": [],
   "source": [
    "result = [10, 20, 30, 40, 50]"
   ]
  },
  {
   "cell_type": "code",
   "execution_count": 38,
   "id": "856fa8e4",
   "metadata": {},
   "outputs": [],
   "source": [
    "result.extend([100, 200, 300, 400, 500])"
   ]
  },
  {
   "cell_type": "code",
   "execution_count": 39,
   "id": "70c4aa76",
   "metadata": {},
   "outputs": [
    {
     "data": {
      "text/plain": [
       "[10, 20, 30, 40, 50, 100, 200, 300, 400, 500]"
      ]
     },
     "execution_count": 39,
     "metadata": {},
     "output_type": "execute_result"
    }
   ],
   "source": [
    "result"
   ]
  },
  {
   "cell_type": "markdown",
   "id": "d498a39e",
   "metadata": {},
   "source": [
    "#### Index: index of first occuring element"
   ]
  },
  {
   "cell_type": "code",
   "execution_count": 40,
   "id": "2035ed63",
   "metadata": {},
   "outputs": [
    {
     "data": {
      "text/plain": [
       "[10, 20, 30, 40, 50, 100, 200, 300, 400, 500]"
      ]
     },
     "execution_count": 40,
     "metadata": {},
     "output_type": "execute_result"
    }
   ],
   "source": [
    "result "
   ]
  },
  {
   "cell_type": "code",
   "execution_count": 41,
   "id": "e9d03d2f",
   "metadata": {},
   "outputs": [
    {
     "data": {
      "text/plain": [
       "5"
      ]
     },
     "execution_count": 41,
     "metadata": {},
     "output_type": "execute_result"
    }
   ],
   "source": [
    "result.index(100)"
   ]
  },
  {
   "cell_type": "code",
   "execution_count": 42,
   "id": "fb095f6f",
   "metadata": {},
   "outputs": [],
   "source": [
    "result.extend([[30, 40, 500]])"
   ]
  },
  {
   "cell_type": "markdown",
   "id": "56bb49b1",
   "metadata": {},
   "source": [
    "#### Remove any element completely from list"
   ]
  },
  {
   "cell_type": "code",
   "execution_count": 43,
   "id": "4a0f80fd",
   "metadata": {},
   "outputs": [
    {
     "data": {
      "text/plain": [
       "[10, 20, 30, 40, 50, 100, 200, 300, 400, 500, [30, 40, 500]]"
      ]
     },
     "execution_count": 43,
     "metadata": {},
     "output_type": "execute_result"
    }
   ],
   "source": [
    "result"
   ]
  },
  {
   "cell_type": "code",
   "execution_count": 45,
   "id": "89a5ce4c",
   "metadata": {},
   "outputs": [],
   "source": [
    "for i in result:\n",
    "    if i == 30:\n",
    "        result.remove(30)\n",
    "    elif type(i) == list:\n",
    "        i.remove(30)"
   ]
  },
  {
   "cell_type": "code",
   "execution_count": 46,
   "id": "cc2b3e99",
   "metadata": {},
   "outputs": [
    {
     "data": {
      "text/plain": [
       "[10, 20, 40, 50, 100, 200, 300, 400, 500, [40, 500]]"
      ]
     },
     "execution_count": 46,
     "metadata": {},
     "output_type": "execute_result"
    }
   ],
   "source": [
    "result"
   ]
  },
  {
   "cell_type": "markdown",
   "id": "4f2fb219",
   "metadata": {},
   "source": [
    "#### Nested list compresension"
   ]
  },
  {
   "cell_type": "code",
   "execution_count": 2,
   "id": "d0940574",
   "metadata": {},
   "outputs": [
    {
     "data": {
      "text/plain": [
       "[6, 16, 22]"
      ]
     },
     "execution_count": 2,
     "metadata": {},
     "output_type": "execute_result"
    }
   ],
   "source": [
    "[i*2 for i in [i[2] for i in [[1, 2, 3], [5, 6, 8], [9, 10, 11]]]]"
   ]
  },
  {
   "cell_type": "markdown",
   "id": "dbd8054a",
   "metadata": {},
   "source": [
    "#### String Problem"
   ]
  },
  {
   "cell_type": "code",
   "execution_count": 10,
   "id": "9d5d7d69",
   "metadata": {},
   "outputs": [
    {
     "data": {
      "text/plain": [
       "['2', '', '3', '', '4', '', '5', '', '6', '', '7']"
      ]
     },
     "execution_count": 10,
     "metadata": {},
     "output_type": "execute_result"
    }
   ],
   "source": [
    "string = \"2,,3,,4,,5,,6,,7\"\n",
    "a = string.split(\",\")\n",
    "a"
   ]
  },
  {
   "cell_type": "code",
   "execution_count": 11,
   "id": "5a7a04f8",
   "metadata": {},
   "outputs": [
    {
     "data": {
      "text/plain": [
       "1"
      ]
     },
     "execution_count": 11,
     "metadata": {},
     "output_type": "execute_result"
    }
   ],
   "source": [
    "len(a[0])"
   ]
  },
  {
   "cell_type": "code",
   "execution_count": 12,
   "id": "86db8b5d",
   "metadata": {},
   "outputs": [
    {
     "data": {
      "text/plain": [
       "0"
      ]
     },
     "execution_count": 12,
     "metadata": {},
     "output_type": "execute_result"
    }
   ],
   "source": [
    "len(a[1])"
   ]
  },
  {
   "cell_type": "code",
   "execution_count": 13,
   "id": "fffb0f9a",
   "metadata": {},
   "outputs": [
    {
     "data": {
      "text/plain": [
       "['2', '3', '4', '5', '6', '7']"
      ]
     },
     "execution_count": 13,
     "metadata": {},
     "output_type": "execute_result"
    }
   ],
   "source": [
    "b = []\n",
    "for i in a:\n",
    "    if len(i) != 0:\n",
    "        b.append(i)\n",
    "b"
   ]
  },
  {
   "cell_type": "code",
   "execution_count": null,
   "id": "a9b3973f",
   "metadata": {},
   "outputs": [],
   "source": []
  }
 ],
 "metadata": {
  "kernelspec": {
   "display_name": "Python 3",
   "language": "python",
   "name": "python3"
  },
  "language_info": {
   "codemirror_mode": {
    "name": "ipython",
    "version": 3
   },
   "file_extension": ".py",
   "mimetype": "text/x-python",
   "name": "python",
   "nbconvert_exporter": "python",
   "pygments_lexer": "ipython3",
   "version": "3.6.6"
  }
 },
 "nbformat": 4,
 "nbformat_minor": 5
}
