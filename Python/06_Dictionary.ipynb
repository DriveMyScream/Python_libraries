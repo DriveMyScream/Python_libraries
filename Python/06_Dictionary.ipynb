{
 "cells": [
  {
   "cell_type": "markdown",
   "id": "00c0d23b",
   "metadata": {},
   "source": [
    "### Word is always unique in dictionary"
   ]
  },
  {
   "cell_type": "code",
   "execution_count": 1,
   "id": "cfc35a3f",
   "metadata": {},
   "outputs": [],
   "source": [
    "a = {}"
   ]
  },
  {
   "cell_type": "code",
   "execution_count": 2,
   "id": "82294f98",
   "metadata": {},
   "outputs": [
    {
     "data": {
      "text/plain": [
       "dict"
      ]
     },
     "execution_count": 2,
     "metadata": {},
     "output_type": "execute_result"
    }
   ],
   "source": [
    "type(a)"
   ]
  },
  {
   "cell_type": "code",
   "execution_count": 3,
   "id": "d5457dc1",
   "metadata": {},
   "outputs": [
    {
     "data": {
      "text/plain": [
       "{'Key': 'Value', 'Roll_num': 'Id of student'}"
      ]
     },
     "execution_count": 3,
     "metadata": {},
     "output_type": "execute_result"
    }
   ],
   "source": [
    "a = {\"Key\": \"Value\",\n",
    "     \"Roll_num\": \"Id of student\"}\n",
    "a"
   ]
  },
  {
   "cell_type": "code",
   "execution_count": 4,
   "id": "ac26e23a",
   "metadata": {},
   "outputs": [
    {
     "data": {
      "text/plain": [
       "{'Key': 'abc', 'Roll_num': 'Id of student'}"
      ]
     },
     "execution_count": 4,
     "metadata": {},
     "output_type": "execute_result"
    }
   ],
   "source": [
    "b = {\"Key\": \"Value\",\n",
    "     \"Roll_num\": \"Id of student\",\n",
    "     \"Key\": \"abc\"}\n",
    "b"
   ]
  },
  {
   "cell_type": "code",
   "execution_count": 5,
   "id": "9b56ad18",
   "metadata": {},
   "outputs": [
    {
     "data": {
      "text/plain": [
       "{'Key1': [10, 20, 30, 40, [1, 2, 3, 4]],\n",
       " 'Key2': (10, 20, 30, 40),\n",
       " 'Key3': {10, 20, 30, 40},\n",
       " 'Key4': {'key1': 80, 'Key2': 100}}"
      ]
     },
     "execution_count": 5,
     "metadata": {},
     "output_type": "execute_result"
    }
   ],
   "source": [
    "c = {\"Key1\": [10, 20, 30, 40, [1, 2, 3, 4]],\n",
    "    \"Key2\": (10, 20, 30, 40),\n",
    "    \"Key3\": {10, 20, 30, 40},\n",
    "    \"Key4\": {\"key1\": 80, \"Key2\": 100}}\n",
    "c"
   ]
  },
  {
   "cell_type": "code",
   "execution_count": 6,
   "id": "95811644",
   "metadata": {},
   "outputs": [
    {
     "data": {
      "text/plain": [
       "[10, 20, 30, 40, [1, 2, 3, 4]]"
      ]
     },
     "execution_count": 6,
     "metadata": {},
     "output_type": "execute_result"
    }
   ],
   "source": [
    "c[\"Key1\"]"
   ]
  },
  {
   "cell_type": "code",
   "execution_count": 7,
   "id": "3ad92d73",
   "metadata": {},
   "outputs": [
    {
     "data": {
      "text/plain": [
       "dict_keys(['Key1', 'Key2', 'Key3', 'Key4'])"
      ]
     },
     "execution_count": 7,
     "metadata": {},
     "output_type": "execute_result"
    }
   ],
   "source": [
    "c.keys()"
   ]
  },
  {
   "cell_type": "code",
   "execution_count": 8,
   "id": "62fb6744",
   "metadata": {},
   "outputs": [
    {
     "data": {
      "text/plain": [
       "dict_values([[10, 20, 30, 40, [1, 2, 3, 4]], (10, 20, 30, 40), {40, 10, 20, 30}, {'key1': 80, 'Key2': 100}])"
      ]
     },
     "execution_count": 8,
     "metadata": {},
     "output_type": "execute_result"
    }
   ],
   "source": [
    "c.values()"
   ]
  },
  {
   "cell_type": "code",
   "execution_count": 9,
   "id": "cd6c3c79",
   "metadata": {},
   "outputs": [
    {
     "data": {
      "text/plain": [
       "dict_items([('Key1', [10, 20, 30, 40, [1, 2, 3, 4]]), ('Key2', (10, 20, 30, 40)), ('Key3', {40, 10, 20, 30}), ('Key4', {'key1': 80, 'Key2': 100})])"
      ]
     },
     "execution_count": 9,
     "metadata": {},
     "output_type": "execute_result"
    }
   ],
   "source": [
    "c.items()"
   ]
  },
  {
   "cell_type": "code",
   "execution_count": 10,
   "id": "9fbf8558",
   "metadata": {},
   "outputs": [
    {
     "name": "stdout",
     "output_type": "stream",
     "text": [
      "Key1 : [10, 20, 30, 40, [1, 2, 3, 4]]\n",
      "Key2 : (10, 20, 30, 40)\n",
      "Key3 : {40, 10, 20, 30}\n",
      "Key4 : {'key1': 80, 'Key2': 100}\n"
     ]
    }
   ],
   "source": [
    "for i in c.keys():\n",
    "    print(i, \":\", c[i])"
   ]
  },
  {
   "cell_type": "code",
   "execution_count": 11,
   "id": "7346b54a",
   "metadata": {},
   "outputs": [
    {
     "data": {
      "text/plain": [
       "{'Key1': [10, 20, 30, 40, [1, 2, 3, 4]],\n",
       " 'Key2': (10, 20, 30, 40),\n",
       " 'Key3': {10, 20, 30, 40},\n",
       " 'Key4': {'key1': 80, 'Key2': 100}}"
      ]
     },
     "execution_count": 11,
     "metadata": {},
     "output_type": "execute_result"
    }
   ],
   "source": [
    "c"
   ]
  },
  {
   "cell_type": "code",
   "execution_count": 12,
   "id": "2dba1d15",
   "metadata": {},
   "outputs": [
    {
     "data": {
      "text/plain": [
       "[10, 20, 30, 40]"
      ]
     },
     "execution_count": 12,
     "metadata": {},
     "output_type": "execute_result"
    }
   ],
   "source": [
    "m = []\n",
    "for i in c.values():\n",
    "    if type(i) == tuple:\n",
    "        for j in i:\n",
    "            m.append(j)\n",
    "m"
   ]
  },
  {
   "cell_type": "code",
   "execution_count": 13,
   "id": "279cef02",
   "metadata": {},
   "outputs": [],
   "source": [
    "c[\"Key5\"] = [100, 200, 300, 400, 500]"
   ]
  },
  {
   "cell_type": "code",
   "execution_count": 14,
   "id": "1e26241c",
   "metadata": {},
   "outputs": [
    {
     "data": {
      "text/plain": [
       "{'Key1': [10, 20, 30, 40, [1, 2, 3, 4]],\n",
       " 'Key2': (10, 20, 30, 40),\n",
       " 'Key3': {10, 20, 30, 40},\n",
       " 'Key4': {'key1': 80, 'Key2': 100},\n",
       " 'Key5': [100, 200, 300, 400, 500]}"
      ]
     },
     "execution_count": 14,
     "metadata": {},
     "output_type": "execute_result"
    }
   ],
   "source": [
    "c"
   ]
  },
  {
   "cell_type": "code",
   "execution_count": 15,
   "id": "d1b2a872",
   "metadata": {},
   "outputs": [
    {
     "data": {
      "text/plain": [
       "{0: 0, 1: 1, 2: 4, 3: 9, 4: 16, 5: 25, 6: 36, 7: 49, 8: 64, 9: 81, 10: 100}"
      ]
     },
     "execution_count": 15,
     "metadata": {},
     "output_type": "execute_result"
    }
   ],
   "source": [
    "d = {}\n",
    "for i in range(11):\n",
    "    d[i] = i**2\n",
    "d"
   ]
  },
  {
   "cell_type": "code",
   "execution_count": 16,
   "id": "b75a3e46",
   "metadata": {},
   "outputs": [
    {
     "data": {
      "text/plain": [
       "{'shubham': 'SHUBHAM', 'kiran': 'KIRAN', 'rama': 'RAMA'}"
      ]
     },
     "execution_count": 16,
     "metadata": {},
     "output_type": "execute_result"
    }
   ],
   "source": [
    "l = [\"Shubham\", \"Kiran\", \"Rama\"]\n",
    "d = {}\n",
    "for i in l:\n",
    "    d[i.lower()] = i.upper()\n",
    "d"
   ]
  },
  {
   "cell_type": "code",
   "execution_count": 17,
   "id": "7fb16d39",
   "metadata": {},
   "outputs": [
    {
     "data": {
      "text/plain": [
       "['SHUBHAM', 'KIRAN', 'RAMA']"
      ]
     },
     "execution_count": 17,
     "metadata": {},
     "output_type": "execute_result"
    }
   ],
   "source": [
    "l = [\"Shubham\", \"Kiran\", \"Rama\"]\n",
    "s = []\n",
    "for i in l:\n",
    "    s.append(i.upper())\n",
    "s"
   ]
  },
  {
   "cell_type": "code",
   "execution_count": 18,
   "id": "0fd87398",
   "metadata": {},
   "outputs": [
    {
     "data": {
      "text/plain": [
       "{'SHUBHAM': True, 'KIRAN': True, 'RAMA': True}"
      ]
     },
     "execution_count": 18,
     "metadata": {},
     "output_type": "execute_result"
    }
   ],
   "source": [
    "d = {}\n",
    "for i in s:\n",
    "    d[i] = i.isupper()\n",
    "d"
   ]
  },
  {
   "cell_type": "code",
   "execution_count": 19,
   "id": "37ad996c",
   "metadata": {},
   "outputs": [
    {
     "data": {
      "text/plain": [
       "{0: 0, 1: 1, 2: 4, 3: 9, 4: 16, 5: 25, 6: 36, 7: 49, 8: 64, 9: 81, 10: 100}"
      ]
     },
     "execution_count": 19,
     "metadata": {},
     "output_type": "execute_result"
    }
   ],
   "source": [
    "d = {i:i**2 for i in range(11)}\n",
    "d"
   ]
  },
  {
   "cell_type": "code",
   "execution_count": null,
   "id": "14093491",
   "metadata": {},
   "outputs": [],
   "source": []
  }
 ],
 "metadata": {
  "kernelspec": {
   "display_name": "Python 3",
   "language": "python",
   "name": "python3"
  },
  "language_info": {
   "codemirror_mode": {
    "name": "ipython",
    "version": 3
   },
   "file_extension": ".py",
   "mimetype": "text/x-python",
   "name": "python",
   "nbconvert_exporter": "python",
   "pygments_lexer": "ipython3",
   "version": "3.6.6"
  }
 },
 "nbformat": 4,
 "nbformat_minor": 5
}
