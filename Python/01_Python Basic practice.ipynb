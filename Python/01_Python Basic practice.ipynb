{
 "cells": [
  {
   "cell_type": "markdown",
   "id": "0ffa0403",
   "metadata": {},
   "source": [
    "#### PYTHON "
   ]
  },
  {
   "cell_type": "code",
   "execution_count": 1,
   "id": "c59621e5",
   "metadata": {},
   "outputs": [],
   "source": [
    "a = 10"
   ]
  },
  {
   "cell_type": "code",
   "execution_count": 2,
   "id": "c06ab962",
   "metadata": {},
   "outputs": [],
   "source": [
    "b = 20"
   ]
  },
  {
   "cell_type": "code",
   "execution_count": 3,
   "id": "3532afce",
   "metadata": {},
   "outputs": [],
   "source": [
    "c = 30"
   ]
  },
  {
   "cell_type": "code",
   "execution_count": 4,
   "id": "efea05f2",
   "metadata": {},
   "outputs": [
    {
     "name": "stdout",
     "output_type": "stream",
     "text": [
      "10\n"
     ]
    }
   ],
   "source": [
    "print(a)"
   ]
  },
  {
   "cell_type": "markdown",
   "id": "6fda0938",
   "metadata": {},
   "source": [
    "#### TO GET MEMORY LOCATION"
   ]
  },
  {
   "cell_type": "code",
   "execution_count": 5,
   "id": "2e25d510",
   "metadata": {},
   "outputs": [
    {
     "data": {
      "text/plain": [
       "1674734912"
      ]
     },
     "execution_count": 5,
     "metadata": {},
     "output_type": "execute_result"
    }
   ],
   "source": [
    "id(a)"
   ]
  },
  {
   "cell_type": "code",
   "execution_count": 6,
   "id": "318b4af5",
   "metadata": {},
   "outputs": [
    {
     "data": {
      "text/plain": [
       "1674735232"
      ]
     },
     "execution_count": 6,
     "metadata": {},
     "output_type": "execute_result"
    }
   ],
   "source": [
    "id(b)"
   ]
  },
  {
   "cell_type": "code",
   "execution_count": 7,
   "id": "bcc54099",
   "metadata": {},
   "outputs": [
    {
     "data": {
      "text/plain": [
       "1674735552"
      ]
     },
     "execution_count": 7,
     "metadata": {},
     "output_type": "execute_result"
    }
   ],
   "source": [
    "id(c)"
   ]
  },
  {
   "cell_type": "markdown",
   "id": "5a9bf402",
   "metadata": {},
   "source": [
    "### UPPER BOUND IS ALWAYS EXCLUDED IN THIS FUNCTIONS"
   ]
  },
  {
   "cell_type": "markdown",
   "id": "3b9cd61a",
   "metadata": {},
   "source": [
    "#### STRING SLICEING"
   ]
  },
  {
   "cell_type": "code",
   "execution_count": 8,
   "id": "bba8cca4",
   "metadata": {},
   "outputs": [],
   "source": [
    "d = \"Shubham\""
   ]
  },
  {
   "cell_type": "code",
   "execution_count": 9,
   "id": "5a6ac303",
   "metadata": {},
   "outputs": [
    {
     "data": {
      "text/plain": [
       "'S'"
      ]
     },
     "execution_count": 9,
     "metadata": {},
     "output_type": "execute_result"
    }
   ],
   "source": [
    "d[0]"
   ]
  },
  {
   "cell_type": "code",
   "execution_count": 10,
   "id": "ecc584b9",
   "metadata": {},
   "outputs": [
    {
     "data": {
      "text/plain": [
       "'S'"
      ]
     },
     "execution_count": 10,
     "metadata": {},
     "output_type": "execute_result"
    }
   ],
   "source": [
    "d[-7]"
   ]
  },
  {
   "cell_type": "code",
   "execution_count": 11,
   "id": "94f1fa46",
   "metadata": {},
   "outputs": [],
   "source": [
    "e = \"Shubham' is a good boy\""
   ]
  },
  {
   "cell_type": "code",
   "execution_count": 12,
   "id": "061bfb26",
   "metadata": {},
   "outputs": [],
   "source": [
    "f = '''Shubham is \" very good boy'''"
   ]
  },
  {
   "cell_type": "code",
   "execution_count": 13,
   "id": "7061ab29",
   "metadata": {},
   "outputs": [
    {
     "name": "stdout",
     "output_type": "stream",
     "text": [
      "Shubham' is a good boy\n",
      "Shubham is \" very good boy\n"
     ]
    }
   ],
   "source": [
    "print(e)\n",
    "print(f)"
   ]
  },
  {
   "cell_type": "code",
   "execution_count": 14,
   "id": "c9fcaa8e",
   "metadata": {},
   "outputs": [],
   "source": [
    "name = \"SHUBHAM\""
   ]
  },
  {
   "cell_type": "code",
   "execution_count": 15,
   "id": "b46b5a76",
   "metadata": {},
   "outputs": [
    {
     "data": {
      "text/plain": [
       "5"
      ]
     },
     "execution_count": 15,
     "metadata": {},
     "output_type": "execute_result"
    }
   ],
   "source": [
    "name.index(\"A\")"
   ]
  },
  {
   "cell_type": "code",
   "execution_count": 16,
   "id": "249346e3",
   "metadata": {},
   "outputs": [
    {
     "name": "stdout",
     "output_type": "stream",
     "text": [
      "A\n"
     ]
    }
   ],
   "source": [
    "print(name[name.index(\"A\")])"
   ]
  },
  {
   "cell_type": "code",
   "execution_count": 17,
   "id": "9726cc5d",
   "metadata": {},
   "outputs": [
    {
     "data": {
      "text/plain": [
       "'SHUBH'"
      ]
     },
     "execution_count": 17,
     "metadata": {},
     "output_type": "execute_result"
    }
   ],
   "source": [
    "name[0:5]"
   ]
  },
  {
   "cell_type": "markdown",
   "id": "5768bdb2",
   "metadata": {},
   "source": [
    "#### JUMP OF ONE CHARACTER"
   ]
  },
  {
   "cell_type": "code",
   "execution_count": 18,
   "id": "690d2c12",
   "metadata": {},
   "outputs": [
    {
     "data": {
      "text/plain": [
       "'SUH'"
      ]
     },
     "execution_count": 18,
     "metadata": {},
     "output_type": "execute_result"
    }
   ],
   "source": [
    "name[0:5:2]"
   ]
  },
  {
   "cell_type": "code",
   "execution_count": 19,
   "id": "15f99ce5",
   "metadata": {},
   "outputs": [
    {
     "data": {
      "text/plain": [
       "''"
      ]
     },
     "execution_count": 19,
     "metadata": {},
     "output_type": "execute_result"
    }
   ],
   "source": [
    "name[0:5:-2]"
   ]
  },
  {
   "cell_type": "code",
   "execution_count": 20,
   "id": "9aa2121e",
   "metadata": {},
   "outputs": [
    {
     "data": {
      "text/plain": [
       "'AHBUH'"
      ]
     },
     "execution_count": 20,
     "metadata": {},
     "output_type": "execute_result"
    }
   ],
   "source": [
    "name[5:0:-1]"
   ]
  },
  {
   "cell_type": "markdown",
   "id": "c3d12152",
   "metadata": {},
   "source": [
    "#### TO REVERSE A STRING"
   ]
  },
  {
   "cell_type": "code",
   "execution_count": 21,
   "id": "7df568de",
   "metadata": {},
   "outputs": [
    {
     "data": {
      "text/plain": [
       "'MAHBUHS'"
      ]
     },
     "execution_count": 21,
     "metadata": {},
     "output_type": "execute_result"
    }
   ],
   "source": [
    "name[::-1]"
   ]
  },
  {
   "cell_type": "markdown",
   "id": "8af393c6",
   "metadata": {},
   "source": [
    "#### CHARACTER STORE IN MEMORY"
   ]
  },
  {
   "cell_type": "code",
   "execution_count": 22,
   "id": "6278b507",
   "metadata": {},
   "outputs": [
    {
     "name": "stdout",
     "output_type": "stream",
     "text": [
      "1867971592688\n",
      "1867975000896\n",
      "1867974795928\n",
      "1867971670568\n",
      "1867975000896\n",
      "1867973031392\n",
      "1867972986896\n"
     ]
    }
   ],
   "source": [
    "for i in range (0, len(name)):\n",
    "    print(id(name[i]))"
   ]
  },
  {
   "cell_type": "markdown",
   "id": "f37f4741",
   "metadata": {},
   "source": [
    "#### LIST"
   ]
  },
  {
   "cell_type": "code",
   "execution_count": 23,
   "id": "c2715ff3",
   "metadata": {},
   "outputs": [
    {
     "name": "stdout",
     "output_type": "stream",
     "text": [
      "[]\n",
      "<class 'list'>\n"
     ]
    }
   ],
   "source": [
    "a = []\n",
    "print(a)\n",
    "print(type(a))"
   ]
  },
  {
   "cell_type": "code",
   "execution_count": 24,
   "id": "e87a30b5",
   "metadata": {},
   "outputs": [
    {
     "name": "stdout",
     "output_type": "stream",
     "text": [
      "[]\n",
      "<class 'list'>\n"
     ]
    }
   ],
   "source": [
    "b = list()\n",
    "print(b)\n",
    "print(type(b))"
   ]
  },
  {
   "cell_type": "code",
   "execution_count": 25,
   "id": "b5d227a2",
   "metadata": {},
   "outputs": [],
   "source": [
    "a = [\"Shubham\", 244, 3.14, False, [\"Shubham\", 230, 344.5]]"
   ]
  },
  {
   "cell_type": "code",
   "execution_count": 26,
   "id": "25755ca4",
   "metadata": {},
   "outputs": [
    {
     "data": {
      "text/plain": [
       "['Shubham', 244, 3.14, False, ['Shubham', 230, 344.5]]"
      ]
     },
     "execution_count": 26,
     "metadata": {},
     "output_type": "execute_result"
    }
   ],
   "source": [
    "a "
   ]
  },
  {
   "cell_type": "code",
   "execution_count": 27,
   "id": "392ad5cd",
   "metadata": {},
   "outputs": [
    {
     "data": {
      "text/plain": [
       "230"
      ]
     },
     "execution_count": 27,
     "metadata": {},
     "output_type": "execute_result"
    }
   ],
   "source": [
    "a[-1][1]"
   ]
  },
  {
   "cell_type": "code",
   "execution_count": 28,
   "id": "bbd1a91c",
   "metadata": {},
   "outputs": [
    {
     "data": {
      "text/plain": [
       "[['Shubham', 230, 344.5], False, 3.14, 244, 'Shubham']"
      ]
     },
     "execution_count": 28,
     "metadata": {},
     "output_type": "execute_result"
    }
   ],
   "source": [
    "a[::-1]"
   ]
  },
  {
   "cell_type": "markdown",
   "id": "926967a6",
   "metadata": {},
   "source": [
    "#### NO DATA IS PRINT DUE TO DEFAULT STEP IS +1"
   ]
  },
  {
   "cell_type": "code",
   "execution_count": 29,
   "id": "96598dcb",
   "metadata": {},
   "outputs": [
    {
     "data": {
      "text/plain": [
       "[]"
      ]
     },
     "execution_count": 29,
     "metadata": {},
     "output_type": "execute_result"
    }
   ],
   "source": [
    "a[-1:-5]"
   ]
  },
  {
   "cell_type": "code",
   "execution_count": 30,
   "id": "494063ae",
   "metadata": {},
   "outputs": [
    {
     "data": {
      "text/plain": [
       "[['Shubham', 230, 344.5], False, 3.14, 244]"
      ]
     },
     "execution_count": 30,
     "metadata": {},
     "output_type": "execute_result"
    }
   ],
   "source": [
    "a[-1:-5:-1]"
   ]
  },
  {
   "cell_type": "code",
   "execution_count": 31,
   "id": "8a33cb01",
   "metadata": {},
   "outputs": [
    {
     "name": "stdout",
     "output_type": "stream",
     "text": [
      "Shubham\n",
      "244\n",
      "3.14\n",
      "False\n",
      "['Shubham', 230, 344.5]\n"
     ]
    }
   ],
   "source": [
    "for i in range (0, len(a)):\n",
    "    print(a[i])"
   ]
  },
  {
   "cell_type": "markdown",
   "id": "f5d454e9",
   "metadata": {},
   "source": [
    "#### RANGE FUNCTION "
   ]
  },
  {
   "cell_type": "code",
   "execution_count": 32,
   "id": "87402b98",
   "metadata": {},
   "outputs": [
    {
     "data": {
      "text/plain": [
       "range(0, 10)"
      ]
     },
     "execution_count": 32,
     "metadata": {},
     "output_type": "execute_result"
    }
   ],
   "source": [
    "range(10)"
   ]
  },
  {
   "cell_type": "code",
   "execution_count": 33,
   "id": "6941cb0a",
   "metadata": {},
   "outputs": [
    {
     "data": {
      "text/plain": [
       "[0, 1, 2, 3, 4, 5, 6, 7, 8, 9]"
      ]
     },
     "execution_count": 33,
     "metadata": {},
     "output_type": "execute_result"
    }
   ],
   "source": [
    "list(range(10))"
   ]
  },
  {
   "cell_type": "markdown",
   "id": "f0a3fc78",
   "metadata": {},
   "source": [
    "#### DEFAULT STEP IN RANGE FUNCTION IS +1"
   ]
  },
  {
   "cell_type": "code",
   "execution_count": 34,
   "id": "096a2985",
   "metadata": {},
   "outputs": [
    {
     "data": {
      "text/plain": [
       "range(1, 11)"
      ]
     },
     "execution_count": 34,
     "metadata": {},
     "output_type": "execute_result"
    }
   ],
   "source": [
    "range(1, 11, 1)"
   ]
  },
  {
   "cell_type": "code",
   "execution_count": 35,
   "id": "7371e82c",
   "metadata": {},
   "outputs": [
    {
     "data": {
      "text/plain": [
       "[]"
      ]
     },
     "execution_count": 35,
     "metadata": {},
     "output_type": "execute_result"
    }
   ],
   "source": [
    "list(range(11, 1, 1))"
   ]
  },
  {
   "cell_type": "code",
   "execution_count": 36,
   "id": "aae83b47",
   "metadata": {},
   "outputs": [
    {
     "data": {
      "text/plain": [
       "[11, 10, 9, 8, 7, 6, 5, 4, 3, 2]"
      ]
     },
     "execution_count": 36,
     "metadata": {},
     "output_type": "execute_result"
    }
   ],
   "source": [
    "list(range(11, 1, -1))"
   ]
  },
  {
   "cell_type": "markdown",
   "id": "704cec19",
   "metadata": {},
   "source": [
    "##### RANGE FUNCTION ALWAYS TAKE AN INT AS ARGUMENT ELSE IT THROWS AN ERROR"
   ]
  },
  {
   "cell_type": "code",
   "execution_count": 37,
   "id": "b40c990d",
   "metadata": {},
   "outputs": [],
   "source": [
    "# list(range(3.5, 10.5))"
   ]
  },
  {
   "cell_type": "markdown",
   "id": "e7c84b4d",
   "metadata": {},
   "source": [
    "#### LIST ITERATION"
   ]
  },
  {
   "cell_type": "code",
   "execution_count": 49,
   "id": "50fb42e7",
   "metadata": {},
   "outputs": [
    {
     "name": "stdout",
     "output_type": "stream",
     "text": [
      "S H U B H A M "
     ]
    }
   ],
   "source": [
    "name = \"SHUBHAM\"\n",
    "for i in name:\n",
    "    print(i, end=\" \")"
   ]
  },
  {
   "cell_type": "code",
   "execution_count": 38,
   "id": "b5cc61b2",
   "metadata": {},
   "outputs": [],
   "source": [
    "a = [10, 20, 30, 40, 50, 60, 70, 80, 90, 100]"
   ]
  },
  {
   "cell_type": "code",
   "execution_count": 39,
   "id": "771a4827",
   "metadata": {},
   "outputs": [
    {
     "name": "stdout",
     "output_type": "stream",
     "text": [
      "10 20 30 40 50 60 70 80 90 100 "
     ]
    }
   ],
   "source": [
    "for i in a:\n",
    "    print(i, end=\" \")"
   ]
  },
  {
   "cell_type": "code",
   "execution_count": 40,
   "id": "7b763637",
   "metadata": {},
   "outputs": [
    {
     "name": "stdout",
     "output_type": "stream",
     "text": [
      "10 20 30 40 50 60 70 80 90 100 "
     ]
    }
   ],
   "source": [
    "for i in range(len(a)):\n",
    "    print(a[i], end=\" \")"
   ]
  },
  {
   "cell_type": "code",
   "execution_count": 41,
   "id": "60144fb6",
   "metadata": {},
   "outputs": [
    {
     "name": "stdout",
     "output_type": "stream",
     "text": [
      "100 90 80 70 60 50 40 30 20 10 "
     ]
    }
   ],
   "source": [
    "for i in range (len(a)-1, -1, -1):\n",
    "    print(a[i], end=\" \")"
   ]
  },
  {
   "cell_type": "code",
   "execution_count": 42,
   "id": "ca9a8c86",
   "metadata": {},
   "outputs": [
    {
     "data": {
      "text/plain": [
       "[12, 22, 32, 42, 52, 62, 72, 82, 92, 102]"
      ]
     },
     "execution_count": 42,
     "metadata": {},
     "output_type": "execute_result"
    }
   ],
   "source": [
    "b = []\n",
    "for i in a:\n",
    "    b.append(i+2)\n",
    "b"
   ]
  },
  {
   "cell_type": "code",
   "execution_count": 43,
   "id": "57dc85d3",
   "metadata": {},
   "outputs": [
    {
     "data": {
      "text/plain": [
       "[60, 70, 80, 90, 100]"
      ]
     },
     "execution_count": 43,
     "metadata": {},
     "output_type": "execute_result"
    }
   ],
   "source": [
    "b = []\n",
    "for i in a:\n",
    "    if(i>50):\n",
    "        b.append(i)\n",
    "b"
   ]
  },
  {
   "cell_type": "code",
   "execution_count": 44,
   "id": "d5a550f1",
   "metadata": {},
   "outputs": [
    {
     "data": {
      "text/plain": [
       "[10, 'Shubham', 20, 'School', 30, 'Collage', 40, 'Home']"
      ]
     },
     "execution_count": 44,
     "metadata": {},
     "output_type": "execute_result"
    }
   ],
   "source": [
    "d = [10, \"Shubham\", 20, \"School\", 30, \"Collage\", 40, \"Home\"]\n",
    "d"
   ]
  },
  {
   "cell_type": "code",
   "execution_count": 45,
   "id": "9c023e63",
   "metadata": {},
   "outputs": [
    {
     "data": {
      "text/plain": [
       "['Shubham', 'School', 'Collage', 'Home']"
      ]
     },
     "execution_count": 45,
     "metadata": {},
     "output_type": "execute_result"
    }
   ],
   "source": [
    "e = []\n",
    "for i in d:\n",
    "    if type(\"Name\") == type(i):\n",
    "        e.append(i)\n",
    "e"
   ]
  },
  {
   "cell_type": "markdown",
   "id": "9f627e53",
   "metadata": {},
   "source": [
    "#### FOR ELSE LOOP"
   ]
  },
  {
   "cell_type": "code",
   "execution_count": 46,
   "id": "aa17d651",
   "metadata": {},
   "outputs": [
    {
     "name": "stdout",
     "output_type": "stream",
     "text": [
      "10 20 30 40 50 60 70 80 90 100 \n",
      "THIS IS A END OF THE LIST\n"
     ]
    }
   ],
   "source": [
    "a = [10, 20, 30, 40, 50, 60, 70, 80, 90, 100]\n",
    "for i in a:\n",
    "    print(i, end=\" \")\n",
    "else:\n",
    "    print(\"\\nTHIS IS A END OF THE LIST\")"
   ]
  },
  {
   "cell_type": "markdown",
   "id": "d6787471",
   "metadata": {},
   "source": [
    "#### WHILE LOOP"
   ]
  },
  {
   "cell_type": "code",
   "execution_count": 47,
   "id": "d5aab220",
   "metadata": {},
   "outputs": [
    {
     "data": {
      "text/plain": [
       "[1, 2, 3, 4, 5, 6, 7, 8, 9, 10]"
      ]
     },
     "execution_count": 47,
     "metadata": {},
     "output_type": "execute_result"
    }
   ],
   "source": [
    "a = 1;\n",
    "b = 10;\n",
    "c = []\n",
    "while a <= 10:\n",
    "    c.append(a)\n",
    "    a = a + 1\n",
    "c"
   ]
  },
  {
   "cell_type": "code",
   "execution_count": 48,
   "id": "52d6d88d",
   "metadata": {},
   "outputs": [
    {
     "name": "stdout",
     "output_type": "stream",
     "text": [
      "55\n"
     ]
    }
   ],
   "source": [
    "sum = 0\n",
    "a = 0\n",
    "while a <=10:\n",
    "    sum = sum + a\n",
    "    a = a + 1\n",
    "print(sum)"
   ]
  },
  {
   "cell_type": "markdown",
   "id": "5d50fa3f",
   "metadata": {},
   "source": [
    "#### BREAK AND CONTINUE"
   ]
  },
  {
   "cell_type": "code",
   "execution_count": 52,
   "id": "f5a5749d",
   "metadata": {},
   "outputs": [
    {
     "name": "stdout",
     "output_type": "stream",
     "text": [
      "S H U B H "
     ]
    }
   ],
   "source": [
    "name = \"SHUBHAM\"\n",
    "for i in name:\n",
    "    if i == \"A\":\n",
    "        break;\n",
    "    else:\n",
    "        print(i, end=\" \")"
   ]
  },
  {
   "cell_type": "code",
   "execution_count": 61,
   "id": "3f7c9fdd",
   "metadata": {},
   "outputs": [
    {
     "name": "stdout",
     "output_type": "stream",
     "text": [
      "S H U B H \n",
      "FOR LOOP COMPLETE\n"
     ]
    }
   ],
   "source": [
    "name = \"SHUBHAM\"\n",
    "for i in name:\n",
    "    if i == \"A\":\n",
    "        break\n",
    "    print(i, end = \" \")\n",
    "else:\n",
    "    print(\"I AM COMPLETE A LOOP SUCESSFULLY\")\n",
    "    \n",
    "print(\"\\nFOR LOOP COMPLETE\")"
   ]
  },
  {
   "cell_type": "code",
   "execution_count": 63,
   "id": "d6d20e6e",
   "metadata": {},
   "outputs": [
    {
     "name": "stdout",
     "output_type": "stream",
     "text": [
      "S H U B H M "
     ]
    }
   ],
   "source": [
    "name = \"SHUBHAM\"\n",
    "for i in name:\n",
    "    if i == \"A\":\n",
    "        continue\n",
    "    print(i, end=\" \")"
   ]
  },
  {
   "cell_type": "markdown",
   "id": "af76509e",
   "metadata": {},
   "source": [
    "#### USER INPUT"
   ]
  },
  {
   "cell_type": "code",
   "execution_count": 66,
   "id": "f37f41be",
   "metadata": {},
   "outputs": [
    {
     "name": "stdout",
     "output_type": "stream",
     "text": [
      "Enter a First Number: 10\n",
      "Enter a Second Number: 20\n",
      "The Sum of two numbers is: 30\n"
     ]
    }
   ],
   "source": [
    "a = int(input(\"Enter a First Number: \"))\n",
    "b = int(input(\"Enter a Second Number: \"))\n",
    "result = a + b\n",
    "print(\"The Sum of two numbers is:\", result)"
   ]
  },
  {
   "cell_type": "code",
   "execution_count": 72,
   "id": "9aa145e1",
   "metadata": {},
   "outputs": [
    {
     "name": "stdout",
     "output_type": "stream",
     "text": [
      "Enter a Number: 5\n",
      "[5, 5, 5]\n",
      "The count of accurence of element in list is: 3\n"
     ]
    }
   ],
   "source": [
    "a = [1, 2, 3, 3, 2, 5, 6, 5, 4, 1, 2, 4, 5]\n",
    "b = []\n",
    "c = int(input(\"Enter a Number: \"))\n",
    "for i in a:\n",
    "    if i == c:\n",
    "        b.append(i)\n",
    "print(b)\n",
    "print(\"The count of accurence of element in list is:\", len(b))"
   ]
  },
  {
   "cell_type": "code",
   "execution_count": null,
   "id": "e73774d5",
   "metadata": {},
   "outputs": [],
   "source": []
  },
  {
   "cell_type": "code",
   "execution_count": null,
   "id": "4e42a35d",
   "metadata": {},
   "outputs": [],
   "source": []
  }
 ],
 "metadata": {
  "kernelspec": {
   "display_name": "Python 3",
   "language": "python",
   "name": "python3"
  },
  "language_info": {
   "codemirror_mode": {
    "name": "ipython",
    "version": 3
   },
   "file_extension": ".py",
   "mimetype": "text/x-python",
   "name": "python",
   "nbconvert_exporter": "python",
   "pygments_lexer": "ipython3",
   "version": "3.6.6"
  }
 },
 "nbformat": 4,
 "nbformat_minor": 5
}
