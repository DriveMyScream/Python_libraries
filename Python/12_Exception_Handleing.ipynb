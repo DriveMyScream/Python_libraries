{
 "cells": [
  {
   "cell_type": "markdown",
   "id": "62b8fa77",
   "metadata": {},
   "source": [
    "## Try and catch block always handle a run time exception it will not handle a compile time exception"
   ]
  },
  {
   "cell_type": "code",
   "execution_count": 1,
   "id": "313222a0",
   "metadata": {},
   "outputs": [
    {
     "name": "stdout",
     "output_type": "stream",
     "text": [
      "Enter a first number:10\n",
      "Enter a second number:10\n",
      "The sum of two numbers is 20\n"
     ]
    }
   ],
   "source": [
    "try:\n",
    "    a = int(input(\"Enter a first number:\"))\n",
    "    b = int(input(\"Enter a second number:\"))\n",
    "    result = a + b\n",
    "    print(\"The sum of two numbers is\", result)\n",
    "except:\n",
    "    print(\"You Enter a Some incorrect\")\n",
    "    print(\"Therefore this code is not worked\")"
   ]
  },
  {
   "cell_type": "code",
   "execution_count": 2,
   "id": "4bbee696",
   "metadata": {},
   "outputs": [
    {
     "name": "stdout",
     "output_type": "stream",
     "text": [
      "Enter a number:19\n",
      "The number divide by 1 is: 0.05263157894736842\n"
     ]
    }
   ],
   "source": [
    "try:\n",
    "    a = int(input(\"Enter a number:\"))\n",
    "    b = 1 / a\n",
    "    print(\"The number divide by 1 is:\", b)\n",
    "except:\n",
    "    print(\"You enter a zero which is not divisible\")"
   ]
  },
  {
   "cell_type": "markdown",
   "id": "6f199629",
   "metadata": {},
   "source": [
    "## Printing the exception that was occures"
   ]
  },
  {
   "cell_type": "code",
   "execution_count": 3,
   "id": "1640c924",
   "metadata": {},
   "outputs": [
    {
     "name": "stdout",
     "output_type": "stream",
     "text": [
      "Enter a Number:10\n",
      "The division of number by 1 is 0.1\n"
     ]
    }
   ],
   "source": [
    "try:\n",
    "    a = int(input(\"Enter a Number:\"))\n",
    "    b = 1/a\n",
    "    print(\"The division of number by 1 is\", b)\n",
    "except Exception as e:\n",
    "    print(e)\n",
    "    print(\"This type of exception is occurs\")"
   ]
  },
  {
   "cell_type": "markdown",
   "id": "25c85d75",
   "metadata": {},
   "source": [
    "## Else block is execuited when the try block is sucessfully execuited\n",
    "## if try block is not execuited then the else block is also not execuited"
   ]
  },
  {
   "cell_type": "code",
   "execution_count": 4,
   "id": "e7ad05fa",
   "metadata": {},
   "outputs": [
    {
     "name": "stdout",
     "output_type": "stream",
     "text": [
      "Enter a Number:10\n",
      "The division of number is 0.1\n",
      "The code of block is sucessfully execuited\n"
     ]
    }
   ],
   "source": [
    "try:\n",
    "    a = int(input(\"Enter a Number:\"))\n",
    "    b = 1 / a\n",
    "    print(\"The division of number is\", b)\n",
    "except Exception as e:\n",
    "    print(e)\n",
    "    print(\"This exception is occurs\")\n",
    "else:\n",
    "    print(\"The code of block is sucessfully execuited\")"
   ]
  },
  {
   "cell_type": "markdown",
   "id": "7d64045e",
   "metadata": {},
   "source": [
    "## Finally block is always execuited while there is system exit also occurs or break also accurs also the finally block is execuited"
   ]
  },
  {
   "cell_type": "code",
   "execution_count": 5,
   "id": "84c8fea7",
   "metadata": {},
   "outputs": [
    {
     "name": "stdout",
     "output_type": "stream",
     "text": [
      "Enter a first number:10\n",
      "Enter a second number:10\n",
      "The sum of two numbers is 20\n",
      "The Code run\n"
     ]
    }
   ],
   "source": [
    "try:\n",
    "    a = int(input(\"Enter a first number:\"))\n",
    "    b = int(input(\"Enter a second number:\"))\n",
    "    result = a + b\n",
    "    print(\"The sum of two numbers is\", result)\n",
    "except Exception as e:\n",
    "    print(e)\n",
    "    print(\"You Enter a Some incorrect\")\n",
    "    print(\"Therefore this code is not worked\")\n",
    "finally:\n",
    "    print(\"The Code run\")\n",
    "    "
   ]
  },
  {
   "cell_type": "code",
   "execution_count": null,
   "id": "fb6f8109",
   "metadata": {},
   "outputs": [],
   "source": []
  },
  {
   "cell_type": "code",
   "execution_count": 6,
   "id": "c85c8a58",
   "metadata": {},
   "outputs": [],
   "source": [
    "def takeInput():\n",
    "    try:\n",
    "        a = int(input(\"Enter a Number: \"))\n",
    "    except Exception as e:\n",
    "        print(\"There is something error occurs in input\")\n",
    "        print(e)\n",
    "    finally:\n",
    "        try:\n",
    "            print(a)\n",
    "        except Exception as e:\n",
    "            print(\"There is something error occurs in input\")\n",
    "            print(e)\n",
    "        else:\n",
    "            print(\"I have value of a\")"
   ]
  },
  {
   "cell_type": "code",
   "execution_count": 7,
   "id": "3dc939be",
   "metadata": {},
   "outputs": [
    {
     "name": "stdout",
     "output_type": "stream",
     "text": [
      "Enter a Number: 10\n",
      "10\n",
      "I have value of a\n"
     ]
    }
   ],
   "source": [
    "takeInput()"
   ]
  },
  {
   "cell_type": "markdown",
   "id": "757a6fe9",
   "metadata": {},
   "source": [
    "## Break and continue is always apply on the loop"
   ]
  },
  {
   "cell_type": "code",
   "execution_count": 8,
   "id": "1d6c9530",
   "metadata": {},
   "outputs": [],
   "source": [
    "def TakeInput():\n",
    "    a = 0\n",
    "    while True:\n",
    "        try:\n",
    "            a = int(input(\"Enter a Number: \"))\n",
    "            break\n",
    "        except Exception as e:\n",
    "            print(\"Enter a Valid Number\")\n",
    "        finally:\n",
    "            print(\"You Enter Number is:\", a)"
   ]
  },
  {
   "cell_type": "code",
   "execution_count": 9,
   "id": "74d79001",
   "metadata": {},
   "outputs": [
    {
     "name": "stdout",
     "output_type": "stream",
     "text": [
      "Enter a Number: Shubham\n",
      "Enter a Valid Number\n",
      "You Enter Number is: 0\n",
      "Enter a Number: 10\n",
      "You Enter Number is: 10\n"
     ]
    }
   ],
   "source": [
    "TakeInput()"
   ]
  },
  {
   "cell_type": "markdown",
   "id": "03bf097d",
   "metadata": {},
   "source": [
    "## Handleing many Exceptions"
   ]
  },
  {
   "cell_type": "code",
   "execution_count": 10,
   "id": "499c2462",
   "metadata": {},
   "outputs": [
    {
     "name": "stdout",
     "output_type": "stream",
     "text": [
      "This is an value error\n"
     ]
    }
   ],
   "source": [
    "try:\n",
    "    f = open(\"abc.txt\", mode='r')\n",
    "    f.write(\"This is a block of code\")\n",
    "except ValueError:\n",
    "    print(\"This is an value error\")\n",
    "except FileExistsError:\n",
    "    print(\"This is an file exists error\")\n",
    "except IOError:\n",
    "    print(\"This is an operating system error\")\n",
    "except Exception as e:\n",
    "    print(e)"
   ]
  },
  {
   "cell_type": "code",
   "execution_count": 2,
   "id": "4d3a6a15",
   "metadata": {},
   "outputs": [
    {
     "name": "stdout",
     "output_type": "stream",
     "text": [
      "not writable\n",
      "Something exception occurs in a program\n"
     ]
    }
   ],
   "source": [
    "try:\n",
    "    f = open(\"abc.txt\", mode='r')\n",
    "    f.write(\"This is a abc fle\")\n",
    "except (ValueError, FileExistsError, IOError, Exception) as e:\n",
    "    print(e)\n",
    "    print(\"Something exception occurs in a program\")"
   ]
  },
  {
   "cell_type": "markdown",
   "id": "289f17cc",
   "metadata": {},
   "source": [
    "## Creating our own exception message that can show to the user"
   ]
  },
  {
   "cell_type": "code",
   "execution_count": 16,
   "id": "d1228d61",
   "metadata": {},
   "outputs": [
    {
     "name": "stdout",
     "output_type": "stream",
     "text": [
      "Enter your age: 6\n",
      "Your age is less than 18\n"
     ]
    }
   ],
   "source": [
    "try:\n",
    "    a = int(input(\"Enter your age: \"))\n",
    "    if a < 18:\n",
    "        raise ValueError(\"Your age is less than 18\")\n",
    "    else:\n",
    "        print(\"Yes your age is greater than 18\")\n",
    "except Exception as e:\n",
    "    print(e)"
   ]
  },
  {
   "cell_type": "code",
   "execution_count": null,
   "id": "3e74c89a",
   "metadata": {},
   "outputs": [],
   "source": []
  }
 ],
 "metadata": {
  "kernelspec": {
   "display_name": "Python 3",
   "language": "python",
   "name": "python3"
  },
  "language_info": {
   "codemirror_mode": {
    "name": "ipython",
    "version": 3
   },
   "file_extension": ".py",
   "mimetype": "text/x-python",
   "name": "python",
   "nbconvert_exporter": "python",
   "pygments_lexer": "ipython3",
   "version": "3.6.6"
  }
 },
 "nbformat": 4,
 "nbformat_minor": 5
}
